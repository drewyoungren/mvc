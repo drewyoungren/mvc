{
 "cells": [
  {
   "cell_type": "code",
   "execution_count": 1,
   "metadata": {
    "slideshow": {
     "slide_type": "skip"
    }
   },
   "outputs": [],
   "source": [
    "import numpy as np\n",
    "import matplotlib.pyplot as plt\n",
    "from IPython.display import display, HTML, IFrame\n",
    "from ipywidgets import interact,fixed\n",
    "from mpl_toolkits import mplot3d\n",
    "\n",
    "plt.rcParams[\"figure.figsize\"] = [7, 7]\n",
    "\n",
    "from numpy.linalg import norm\n",
    "from numpy import cos,sin,tan,arctan,exp,log,pi,sqrt,linspace,meshgrid,array\n",
    "\n",
    "from ipykernel.pylab.backend_inline import flush_figures\n",
    "\n",
    "from scipy.integrate import quad, dblquad, tplquad\n",
    "\n",
    "%matplotlib inline\n",
    "\n",
    "plt.rcParams.update({\n",
    "    \"figure.figsize\": (6,6),\n",
    "    \"text.usetex\": True,\n",
    "    \"font.family\": \"serif\",\n",
    "})\n",
    "\n",
    "# Uncomment the one that corresponds to your Jupyter theme\n",
    "plt.style.use('default')\n",
    "# plt.style.use('dark_background')\n",
    "# plt.style.use('fivethirtyeight')\n",
    "# plt.style.use('Solarize_Light2')"
   ]
  },
  {
   "cell_type": "markdown",
   "metadata": {
    "slideshow": {
     "slide_type": "notes"
    }
   },
   "source": [
    "$\\newcommand{\\RR}{\\mathbb{R}}$\n",
    "$\\newcommand{\\bv}[1]{\\begin{bmatrix} #1 \\end{bmatrix}}$\n",
    "$\\renewcommand{\\vec}{\\mathbf}$\n"
   ]
  },
  {
   "cell_type": "markdown",
   "metadata": {
    "slideshow": {
     "slide_type": "slide"
    },
    "tags": []
   },
   "source": [
    "# One-minute Review\n",
    "\n",
    "## Other coordinates\n",
    "\n",
    "  - **Polar coordinates** $(r,\\theta)$ \n",
    "  $$\\iint_\\mathcal R f(x,y)\\,dxdy = \\iint_\\mathcal R f(r\\cos \\theta, r \\sin \\theta)\\,r\\,dr\\,d\\theta$$\n",
    "  - **Cylindrical coordinates** $(r,\\theta, z)$ \n",
    "  $$\\iiint_\\mathcal E f(x,y,z)\\,dxdydz = \\iiint_\\mathcal E f(r\\cos \\theta, r \\sin \\theta,z)\\,r\\,dz\\,dr\\,d\\theta$$\n",
    "  - **Spherical coordinates** $(\\rho, \\phi, \\theta)$ \n",
    "  $$\\iiint_\\mathcal E f(x,y,z)\\,dxdydz $$ $$= \\iiint_\\mathcal E f(\\rho \\sin \\phi \\cos \\theta, \\rho \\sin \\phi \\sin \\theta, \\rho \\cos \\phi ) \\, \\rho^2 \\sin \\phi \\, d\\rho \\, d\\phi \\, d\\theta $$\n",
    "\n",
    "where the bounds of integration for $\\mathcal R$ or $\\mathcal E$ are translated appropriately."
   ]
  },
  {
   "cell_type": "markdown",
   "metadata": {},
   "source": [
    "<p style=\"padding-bottom:40%;\"> </p>"
   ]
  },
  {
   "cell_type": "markdown",
   "metadata": {
    "slideshow": {
     "slide_type": "slide"
    }
   },
   "source": [
    "### APMA E2000\n",
    "\n",
    "# Lecture 16 - Multiple Integrals/Applications"
   ]
  },
  {
   "cell_type": "markdown",
   "metadata": {
    "slideshow": {
     "slide_type": "fragment"
    }
   },
   "source": [
    "\n",
    "  - Objectives\n",
    "    - Applications of integration:\n",
    "      - Center of mass\n",
    "      - Moment of inertia\n",
    "      - Probability\n",
    "    "
   ]
  },
  {
   "cell_type": "markdown",
   "metadata": {
    "slideshow": {
     "slide_type": "skip"
    }
   },
   "source": [
    "  - Resources\n",
    "    - Content\n",
    "      - Stewart: §15.4–5\n",
    "      - New Strang: [§5.6](https://openstax.org/books/calculus-volume-3/pages/5-6-calculating-centers-of-mass-and-moments-of-inertia)\n",
    "    - Practice\n",
    "      - [Exercises and Solutions](../exercises/L16-Exercises-Solutions.ipynb)\n",
    "      - Mooculus: [Mass and Moments](https://ximera.osu.edu/mooculus/calculus3/computationsAndInterpretations/digInMassMomentsAndCenterOfMass)\n",
    "    - Extras\n",
    "      - CalcBLUE: [Integrals](https://www.math.upenn.edu/~ghrist/BLUE.html#VOL3) \n",
    "      - [Triple Integral Visualizer](https://drew.youngren.nyc/3Demos/iiint/index.html)"
   ]
  },
  {
   "cell_type": "code",
   "execution_count": 2,
   "metadata": {},
   "outputs": [
    {
     "data": {
      "text/html": [
       "\n",
       "        <iframe\n",
       "            width=\"800px\"\n",
       "            height=\"600px\"\n",
       "            src=\"https://pollev-embeds.com/multiple_choice_polls/0oh7b1SSSh6rR1j4IJZS6/respond\"\n",
       "            frameborder=\"0\"\n",
       "            allowfullscreen\n",
       "        ></iframe>\n",
       "        "
      ],
      "text/plain": [
       "<IPython.lib.display.IFrame at 0x1074a3550>"
      ]
     },
     "execution_count": 2,
     "metadata": {},
     "output_type": "execute_result"
    }
   ],
   "source": [
    "IFrame(\"https://pollev-embeds.com/multiple_choice_polls/0oh7b1SSSh6rR1j4IJZS6/respond\", width=\"800px\", height=\"600px\")"
   ]
  },
  {
   "cell_type": "markdown",
   "metadata": {},
   "source": [
    "<div style=\"padding-bottom: 40%\"></div>"
   ]
  },
  {
   "cell_type": "markdown",
   "metadata": {
    "slideshow": {
     "slide_type": "slide"
    }
   },
   "source": [
    "# Applications of Integration\n",
    "\n",
    "The basic principal behind applying integration is that the desired quantity, the <i>desideratum</i>, is obtained by integrating its <i>elements</i>. Put succinctly,"
   ]
  },
  {
   "cell_type": "markdown",
   "metadata": {
    "slideshow": {
     "slide_type": "fragment"
    }
   },
   "source": [
    "$$\\spadesuit = \\int d\\spadesuit$$"
   ]
  },
  {
   "cell_type": "markdown",
   "metadata": {},
   "source": [
    "<p style=\"padding-bottom:40%;\"> </p>"
   ]
  },
  {
   "cell_type": "markdown",
   "metadata": {
    "slideshow": {
     "slide_type": "subslide"
    }
   },
   "source": [
    "## A Word on Density\n",
    "\n",
    "\"Density\" often stands in for mass density which has units of mass/volume, like $\\frac{{\\rm g}}{{\\rm ml}}$. \n",
    "\n",
    "But think of it more generally as $$\\frac{\\rm stuff}{\\rm unit\\ of\\ measure}$$\n",
    "\n",
    "Further, these can vary continuously throughout a medium or space. Thus, we integrate to find the total amount of \"stuff\". "
   ]
  },
  {
   "cell_type": "markdown",
   "metadata": {},
   "source": [
    "<p style=\"padding-bottom:40%;\"> </p>"
   ]
  },
  {
   "cell_type": "markdown",
   "metadata": {
    "slideshow": {
     "slide_type": "fragment"
    }
   },
   "source": [
    "### Examples"
   ]
  },
  {
   "cell_type": "markdown",
   "metadata": {
    "slideshow": {
     "slide_type": "fragment"
    }
   },
   "source": [
    "  - Resistivity $\\rho(x)$ along a wire, $\\frac{\\Omega}{{\\rm m}}$. $$\\Omega = \\int_0^\\ell \\rho(x)\\, dx$$"
   ]
  },
  {
   "cell_type": "markdown",
   "metadata": {
    "slideshow": {
     "slide_type": "fragment"
    }
   },
   "source": [
    "  - Probability density function $\\rho(x,y)$ of two random variables. $$P(E) = \\iint_E \\rho(x,y)\\, dA$$"
   ]
  },
  {
   "cell_type": "markdown",
   "metadata": {
    "slideshow": {
     "slide_type": "fragment"
    }
   },
   "source": [
    "  - Concentration of chemicals, like $[\\text{H}_2\\text{CO}_3] = \\rho(x,y,z)$. $$\\text{total carbonic acid} = \\iiint_D \\rho(x,y,z)\\,dV$$"
   ]
  },
  {
   "cell_type": "markdown",
   "metadata": {},
   "source": [
    "<p style=\"padding-bottom:40%;\"> </p>"
   ]
  },
  {
   "cell_type": "markdown",
   "metadata": {},
   "source": [
    "<p style=\"padding-bottom:40%;\"> </p>"
   ]
  },
  {
   "cell_type": "markdown",
   "metadata": {
    "slideshow": {
     "slide_type": "slide"
    }
   },
   "source": [
    "## Masses and Moments\n",
    "\n",
    "Consider a two mass system in one dimension. That is suppose a mass $m_1$ is at position $x_1$ and mass $m_2$ is at position $x_2$.\n",
    "\n",
    "The total mass is of course\n",
    "\n",
    "$$M = m_1 + m_2.$$"
   ]
  },
  {
   "cell_type": "markdown",
   "metadata": {
    "slideshow": {
     "slide_type": "fragment"
    }
   },
   "source": [
    "The **center of mass** is the point $\\bar x$ that balances the torque. That is,\n",
    "\n",
    "$$m_1(x_1 - \\bar x) + m_2(x_2 - \\bar x) =0$$"
   ]
  },
  {
   "cell_type": "markdown",
   "metadata": {
    "slideshow": {
     "slide_type": "fragment"
    }
   },
   "source": [
    "$$\\bar x = \\frac{m_1x_1 + m_2x_2}{m_1 + m_2}$$"
   ]
  },
  {
   "cell_type": "markdown",
   "metadata": {
    "slideshow": {
     "slide_type": "fragment"
    }
   },
   "source": [
    "$$ = \\frac{m_1}{M}x_1 + \\frac{m_2}{M}x_2$$"
   ]
  },
  {
   "cell_type": "code",
   "execution_count": 3,
   "metadata": {
    "jupyter": {
     "source_hidden": true
    },
    "tags": []
   },
   "outputs": [
    {
     "data": {
      "application/vnd.jupyter.widget-view+json": {
       "model_id": "220f5bacfdea4490be2f4e806dd560ab",
       "version_major": 2,
       "version_minor": 0
      },
      "text/plain": [
       "interactive(children=(FloatSlider(value=0.0, description='xbar', max=1.0, step=0.01), Checkbox(value=True, des…"
      ]
     },
     "metadata": {},
     "output_type": "display_data"
    }
   ],
   "source": [
    "@interact\n",
    "def _(xbar=(0,1,.01), point=True):\n",
    "    plt.figure(figsize=(8,3))\n",
    "    plt.plot([0,1],[0,0],zorder=-1)\n",
    "    if point:\n",
    "        plt.scatter([1],[0],s=390,zorder=2)\n",
    "        plt.scatter([0],[0],s=130)\n",
    "        if xbar == .75:\n",
    "            plt.fill([xbar - .02, xbar + .02, xbar],[1/4, 1/4 ,0], color='r')\n",
    "    else:\n",
    "        t = linspace(0,1,200)\n",
    "        plt.fill_between(t, exp(-16*(t - 2/3)**2)*.4, alpha=.5)\n",
    "        if .65 <= xbar <= .66:\n",
    "            plt.fill([0.6544410013183013\n",
    " - .02, 0.6544410013183013\n",
    " + .02, 0.6544410013183013\n",
    "],[1/4, 1/4 ,0], color='r')\n",
    "\n",
    "    plt.fill([xbar - .02, xbar + .02, xbar],[-1/2, -1/2 ,0])\n",
    "    plt.xlim(-.1,1.1)\n",
    "    plt.ylim(-.6,.6)\n",
    "    flush_figures();"
   ]
  },
  {
   "cell_type": "markdown",
   "metadata": {},
   "source": [
    "## Continuous Case\n",
    "\n",
    "If the mass is spread out with a density function $\\mu(x)$ (in mass/length), then the center of mass $\\bar{x}$ is the point that gives a 0 moment, i.e. $$\\int_a^b (x - \\bar{x})\\mu(x)\\,dx = 0$$ or $$\\bar{x} = \\frac{\\int_a^b x \\,\\mu(x)\\,dx}{\\int_a^b \\mu(x)\\,dx}$$\n",
    "where the denominator is the total mass. "
   ]
  },
  {
   "cell_type": "markdown",
   "metadata": {},
   "source": [
    "<p style=\"padding-bottom:40%;\"> </p>"
   ]
  },
  {
   "cell_type": "markdown",
   "metadata": {
    "slideshow": {
     "slide_type": "subslide"
    }
   },
   "source": [
    "## Masses and Moments\n",
    "\n",
    "<img src=\"https://culinarylore.com/wp-content/uploads/2014/02/waiter-drinks-tray.jpg\" width=\"30%\" style=\"float: right\">\n",
    "                                                                                                                      \n",
    "Let consider a planar region $\\mathcal D$ (a \"lamina\") with continuously varying density (mass per unit area) $\\mu(x,y)$. The the total mass is given by $$M = \\iint_D \\mu(x,y)\\,dA$$ "
   ]
  },
  {
   "cell_type": "markdown",
   "metadata": {
    "slideshow": {
     "slide_type": "fragment"
    }
   },
   "source": [
    "The **center of mass** $(\\bar{x},\\bar y)$ is the \"(weighted) average position\" of the mass in the object. \n",
    "\n",
    "More concisely, \n",
    "\n",
    "$$(\\bar{x},\\bar y) = \\left(\\frac{\\iint_\\mathcal D x \\mu(x,y)\\,dA}{\\iint_\\mathcal D \\mu(x,y)\\,dA},\\frac{\\iint_\\mathcal D y \\mu(x,y)\\,dA}{\\iint_\\mathcal D  \\mu(x,y)\\,dA}\\right)$$ \n"
   ]
  },
  {
   "cell_type": "markdown",
   "metadata": {
    "slideshow": {
     "slide_type": "subslide"
    }
   },
   "source": []
  },
  {
   "cell_type": "markdown",
   "metadata": {},
   "source": [
    "<p style=\"padding-bottom:40%;\"> </p>"
   ]
  },
  {
   "cell_type": "markdown",
   "metadata": {
    "slideshow": {
     "slide_type": "subslide"
    }
   },
   "source": [
    "### Example\n",
    "\n",
    "Find the center of mass of the unit square $[0,1]\\times [0,1]$ whose density is given by $\\mu(x,y) = x+2y^2$ "
   ]
  },
  {
   "cell_type": "code",
   "execution_count": 4,
   "metadata": {
    "hide_input": true,
    "jupyter": {
     "source_hidden": true
    },
    "slideshow": {
     "slide_type": "fragment"
    },
    "tags": []
   },
   "outputs": [
    {
     "data": {
      "application/vnd.jupyter.widget-view+json": {
       "model_id": "c6b15d6b4959420ca30c4004844df708",
       "version_major": 2,
       "version_minor": 0
      },
      "text/plain": [
       "interactive(children=(Checkbox(value=False, description='show'), Output()), _dom_classes=('widget-interact',))"
      ]
     },
     "metadata": {},
     "output_type": "display_data"
    }
   ],
   "source": [
    "@interact\n",
    "def _(show=False):\n",
    "    x = y = np.linspace(0,1,100)\n",
    "    x,y = np.meshgrid(x,y)\n",
    "\n",
    "    plt.figure(figsize=(9.5,8))\n",
    "    plt.pcolormesh(x,y,x+2*y**2,cmap='rainbow',shading='gouraud')\n",
    "    plt.xlim([0,1.1])\n",
    "    plt.ylim([0,1.1])\n",
    "    plt.colorbar();\n",
    "    if show:\n",
    "        plt.scatter([0.5714285714285716], [0.6428571428571429],zorder=2)\n",
    "    flush_figures()\n"
   ]
  },
  {
   "cell_type": "code",
   "execution_count": 5,
   "metadata": {},
   "outputs": [],
   "source": [
    "M = dblquad(lambda y,x: x+2*y**2,0,1,0,1)[0]"
   ]
  },
  {
   "cell_type": "code",
   "execution_count": 6,
   "metadata": {},
   "outputs": [
    {
     "data": {
      "text/plain": [
       "((0.5714285714285715, 0.6428571428571428), 1.1666666666666667)"
      ]
     },
     "execution_count": 6,
     "metadata": {},
     "output_type": "execute_result"
    }
   ],
   "source": [
    "xbar = 1/M*dblquad(lambda y,x: (x+2*y**2)*x,0,1,0,1)[0]\n",
    "\n",
    "ybar = 1/M*dblquad(lambda y,x: (x+2*y**2)*y,0,1,0,1)[0]\n",
    "(xbar, ybar), M"
   ]
  },
  {
   "cell_type": "markdown",
   "metadata": {},
   "source": [
    "<p style=\"padding-bottom:40%;\"> </p>"
   ]
  },
  {
   "cell_type": "markdown",
   "metadata": {
    "slideshow": {
     "slide_type": "slide"
    },
    "tags": []
   },
   "source": [
    "## Moment(s) of Inertia\n",
    "\n",
    "<img src=\"http://giphygifs.s3.amazonaws.com/media/RmuN3xF9sBpL2/giphy.gif\" alt=\"Figure skater spinning\" style=\"float: right;\">\n",
    "\n",
    "The **moment of inertia** $I$ of a massive body is a measure of its \"resistance to rotation\" about a given axis. \n",
    "\n",
    "Angular momentum is  $L=I\\omega$, the product of the moment of inertia and the angular velocity.\n",
    "\n",
    "\n",
    "\n",
    "The figure skater pulls her body in to reduce her moment of intertia. As angular momentum is conserved, she spins faster."
   ]
  },
  {
   "cell_type": "markdown",
   "metadata": {},
   "source": [
    "<p style=\"padding-bottom:40%;\"> </p>"
   ]
  },
  {
   "cell_type": "markdown",
   "metadata": {
    "slideshow": {
     "slide_type": "subslide"
    }
   },
   "source": [
    "### Formula\n",
    "\n",
    "$I$ is a measurement of how far the mass is spread from the axis. It is the second moment of the density distribution. \n",
    "\n",
    "If we take a body $\\mathcal D$ in the plane with area density $\\mu(x,y)$, and consider it rotating about the origin, then\n",
    "\n",
    "$$ I = \\iint_\\mathcal D (x^2+y^2)\\mu (x,y)\\,dA $$\n",
    "\n",
    "that is, the distance to the axis squared, weighted by mass. \n"
   ]
  },
  {
   "cell_type": "markdown",
   "metadata": {},
   "source": [
    "<p style=\"padding-bottom:40%;\"> </p>"
   ]
  },
  {
   "cell_type": "markdown",
   "metadata": {
    "slideshow": {
     "slide_type": "subslide"
    }
   },
   "source": [
    "#### Exercise\n",
    "\n",
    "Let's compute the moment of inertia of the square above about:\n",
    "  - the origin\n",
    "  - the $y$-axis"
   ]
  },
  {
   "cell_type": "code",
   "execution_count": 7,
   "metadata": {
    "slideshow": {
     "slide_type": "fragment"
    }
   },
   "outputs": [
    {
     "data": {
      "text/plain": [
       "(0.8333333333333334, 2.3025363234819638e-14)"
      ]
     },
     "execution_count": 7,
     "metadata": {},
     "output_type": "execute_result"
    }
   ],
   "source": [
    "dblquad(lambda y,x: (x**2 + y**2)*(x + y),0,1,0,1)"
   ]
  },
  {
   "cell_type": "code",
   "execution_count": 8,
   "metadata": {
    "slideshow": {
     "slide_type": "fragment"
    }
   },
   "outputs": [
    {
     "data": {
      "text/plain": [
       "(0.4166666666666667, 1.655709812050779e-14)"
      ]
     },
     "execution_count": 8,
     "metadata": {},
     "output_type": "execute_result"
    }
   ],
   "source": [
    "dblquad(lambda y,x: (x**2)*(x + y),0,1,0,1)"
   ]
  },
  {
   "cell_type": "code",
   "execution_count": 9,
   "metadata": {
    "hide_input": true,
    "jupyter": {
     "source_hidden": true
    },
    "slideshow": {
     "slide_type": "fragment"
    },
    "tags": []
   },
   "outputs": [
    {
     "data": {
      "application/vnd.jupyter.widget-view+json": {
       "model_id": "34030066d57e4c9da072ced30d3b0819",
       "version_major": 2,
       "version_minor": 0
      },
      "text/plain": [
       "interactive(children=(FloatSlider(value=0.0, description='t', max=6.283185307179586, step=0.3141592653589793),…"
      ]
     },
     "metadata": {},
     "output_type": "display_data"
    }
   ],
   "source": [
    "@interact(t=(0.,2*pi,pi/10))\n",
    "def _(t=0):\n",
    "    x = linspace(0,1)\n",
    "    x,y = meshgrid(x,x)\n",
    "    plt.figure(figsize=(6,6))\n",
    "    ax = plt.subplot(projection='3d')\n",
    "    ax.plot_surface(x*cos(t) - y*sin(t),x*sin(t) + y*cos(t),0*x)\n",
    "    ax.plot_surface(x*cos(2*t),y,x*sin(2*t))\n",
    "    ax.plot([0,0],[-1,1],[0,0],'--k')\n",
    "    ax.plot([0,0],[0,0],[-1,1],'--k')\n",
    "    for c in 'xyz':\n",
    "        getattr(ax,f\"set_{c}lim\")([-1,1]);    \n",
    "        getattr(ax,f\"set_{c}label\")(f\"${c}$\",size=16)\n",
    "    flush_figures()"
   ]
  },
  {
   "cell_type": "markdown",
   "metadata": {},
   "source": [
    "<p style=\"padding-bottom:40%;\"> </p>"
   ]
  },
  {
   "cell_type": "markdown",
   "metadata": {
    "slideshow": {
     "slide_type": "slide"
    }
   },
   "source": [
    "# Probability\n",
    "\n",
    "Two (real) random variables $X$ and $Y$ have a joint probability density function $\\rho(x,y)$. This is simply a function on the plane with $\\mu(x,y) \\geq 0$ and \n",
    "\n",
    "$$\\iint_{\\RR^2} \\mu(x,y)\\,dA = 1.$$\n",
    "\n",
    "An **event** $E \\subset \\RR^2$ is just a subset of the sample space, and its probability is \n",
    "\n",
    "$$P(E) = \\iint_E \\mu(x,y)\\,dA$$."
   ]
  },
  {
   "cell_type": "markdown",
   "metadata": {},
   "source": [
    "<p style=\"padding-bottom:40%;\"> </p>"
   ]
  },
  {
   "cell_type": "markdown",
   "metadata": {
    "slideshow": {
     "slide_type": "subslide"
    }
   },
   "source": [
    "## Example\n",
    "\n",
    "What is the probability that 2 numbers randomly chosen between 0 and 1 have a product greater than $\\frac12$?"
   ]
  },
  {
   "cell_type": "code",
   "execution_count": 10,
   "metadata": {
    "jupyter": {
     "source_hidden": true
    },
    "slideshow": {
     "slide_type": "subslide"
    }
   },
   "outputs": [
    {
     "data": {
      "image/png": "[encoded data removed]",
      "text/plain": [
       "<Figure size 640x480 with 1 Axes>"
      ]
     },
     "metadata": {},
     "output_type": "display_data"
    }
   ],
   "source": [
    "x = y = np.linspace(0,1,50)\n",
    "x,y = np.meshgrid(x,y)\n",
    "plt.contourf(x,y,x*y ,levels=[0,1/2,1]);"
   ]
  },
  {
   "cell_type": "markdown",
   "metadata": {},
   "source": [
    "<p style=\"padding-bottom:40%;\"> </p>"
   ]
  },
  {
   "cell_type": "code",
   "execution_count": 11,
   "metadata": {
    "slideshow": {
     "slide_type": "fragment"
    }
   },
   "outputs": [
    {
     "data": {
      "text/plain": [
       "0.15342640972002736"
      ]
     },
     "execution_count": 11,
     "metadata": {},
     "output_type": "execute_result"
    }
   ],
   "source": [
    "dblquad(lambda y,x: 1, 1/2,1,lambda x: 1/(2*x),1)[0]"
   ]
  },
  {
   "cell_type": "code",
   "execution_count": 12,
   "metadata": {
    "slideshow": {
     "slide_type": "fragment"
    }
   },
   "outputs": [
    {
     "data": {
      "text/plain": [
       "0.15342640972002736"
      ]
     },
     "execution_count": 12,
     "metadata": {},
     "output_type": "execute_result"
    }
   ],
   "source": [
    "1/2-log(2)/2"
   ]
  },
  {
   "cell_type": "markdown",
   "metadata": {
    "hide_input": true,
    "slideshow": {
     "slide_type": "subslide"
    }
   },
   "source": [
    "## The Moments \n",
    "\n",
    "Moment measurements have analogous meaning in the probability context."
   ]
  },
  {
   "cell_type": "markdown",
   "metadata": {
    "slideshow": {
     "slide_type": "fragment"
    }
   },
   "source": [
    "The \"center of mass\" is in fact the **expected value** of the variables.\n",
    "\n",
    "$$(\\bar{x},\\bar{y}) = \\left( \\iint_{\\RR^2} x \\rho(x,y)\\,dA,\\iint_{\\RR^2} y \\rho(x,y)\\,dA\\right) $$"
   ]
  },
  {
   "cell_type": "markdown",
   "metadata": {
    "slideshow": {
     "slide_type": "fragment"
    }
   },
   "source": [
    "The second moments (relative to this center) give the **variances** of the respected variables. \n",
    "\n",
    "$$(\\sigma_x^2,\\sigma_{y}^2) = \\left( \\iint_{\\RR^2} (x-\\bar{x})^2 \\rho(x,y)\\,dA,\\iint_{\\RR^2} (y-\\bar{y})^2 \\rho(x,y)\\,dA\\right) $$"
   ]
  },
  {
   "cell_type": "markdown",
   "metadata": {
    "slideshow": {
     "slide_type": "fragment"
    }
   },
   "source": [
    "The list goes on \n",
    "\n",
    "  - mixed moments $\\to$ covariance\n",
    "  - 3rd moments $\\to$ skewedness\n",
    "  - 4th moments $\\to$ kurtosis\n",
    "  - $\\ldots$"
   ]
  },
  {
   "cell_type": "markdown",
   "metadata": {},
   "source": [
    "<p style=\"padding-bottom:40%;\"> </p>"
   ]
  },
  {
   "cell_type": "markdown",
   "metadata": {},
   "source": [
    "## More Examples"
   ]
  },
  {
   "cell_type": "markdown",
   "metadata": {},
   "source": [
    "Find an expression for the moment of inertia $I$ (about a centric axis) in terms of the total mass $M$ (with uniform density) for the following shapes:\n",
    "\n",
    "  - Cube with side $2R$. \n",
    "  - Right cone with base radius $R$ and height $h$.\n",
    "  - Half-ball with radius $R$. "
   ]
  },
  {
   "cell_type": "markdown",
   "metadata": {},
   "source": [
    "<p style=\"padding-bottom:40%;\"> </p>"
   ]
  },
  {
   "cell_type": "markdown",
   "metadata": {},
   "source": [
    "#### Solutions\n",
    "\n",
    "\n",
    "  - cube: $\\frac23 MR^2$\n",
    "  - cone: $\\frac{3}{10} MR^2$\n",
    "  - half-ball: $\\frac25 MR^2$"
   ]
  },
  {
   "cell_type": "code",
   "execution_count": null,
   "metadata": {},
   "outputs": [],
   "source": []
  }
 ],
 "metadata": {
  "celltoolbar": "Slideshow",
  "kernelspec": {
   "display_name": "Python 3",
   "language": "python",
   "name": "python3"
  },
  "language_info": {
   "codemirror_mode": {
    "name": "ipython",
    "version": 3
   },
   "file_extension": ".py",
   "mimetype": "text/x-python",
   "name": "python",
   "nbconvert_exporter": "python",
   "pygments_lexer": "ipython3",
   "version": "3.9.7"
  },
  "rise": {
   "enable_chalkboard": true,
   "scroll": true,
   "theme": "sky",
   "transition": "concave"
  },
  "widgets": {
   "application/vnd.jupyter.widget-state+json": {
    "state": {},
    "version_major": 2,
    "version_minor": 0
   }
  }
 },
 "nbformat": 4,
 "nbformat_minor": 4
}
