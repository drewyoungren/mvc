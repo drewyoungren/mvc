{
 "cells": [
  {
   "cell_type": "code",
   "execution_count": 3,
   "metadata": {},
   "outputs": [],
   "source": [
    "import numpy as np\n",
    "import matplotlib.pyplot as plt\n",
    "from IPython.display import display, HTML, IFrame\n",
    "from ipywidgets import interact\n",
    "import pandas as pd\n",
    "from numpy import cos,sin,pi,dot,arccos \n",
    "from numpy.linalg import norm # this is the magnitude function\n",
    "from mpl_toolkits.mplot3d import axes3d\n",
    "from itertools import combinations\n",
    "\n",
    "plt.rcParams[\"figure.figsize\"] = [8, 8]\n",
    "\n",
    "# Uncomment the one that corresponds to your Jupyter theme\n",
    "plt.style.use('dark_background')\n",
    "# plt.style.use('fivethirtyeight')\n",
    "# plt.style.use('Solarize_Light2')"
   ]
  },
  {
   "cell_type": "markdown",
   "metadata": {
    "slideshow": {
     "slide_type": "skip"
    }
   },
   "source": [
    "<style>\n",
    "td {\n",
    "  font-size: 20px;\n",
    "}\n",
    "</style>"
   ]
  },
  {
   "cell_type": "markdown",
   "metadata": {
    "slideshow": {
     "slide_type": "notes"
    }
   },
   "source": [
    "$\\newcommand{\\RR}{\\mathbb{R}}$\n",
    "$\\newcommand{\\bv}[1]{\\begin{bmatrix} #1 \\end{bmatrix}}$\n",
    "$\\renewcommand{\\vec}{\\mathbf}$\n"
   ]
  },
  {
   "cell_type": "markdown",
   "metadata": {
    "slideshow": {
     "slide_type": "slide"
    }
   },
   "source": [
    "\n",
    "\n",
    "### Example\n",
    "\n",
    "  1. Find a unit vector perpendicular to $\\langle 1,2,-1\\rangle$ and $\\langle 3,0,1\\rangle$. Is there only one?"
   ]
  },
  {
   "cell_type": "markdown",
   "metadata": {
    "jp-MarkdownHeadingCollapsed": true,
    "tags": []
   },
   "source": [
    "#### Solution"
   ]
  },
  {
   "cell_type": "code",
   "execution_count": 4,
   "metadata": {},
   "outputs": [],
   "source": [
    "v,w = np.array(((1,2,-1),(3,0,1)))"
   ]
  },
  {
   "cell_type": "code",
   "execution_count": 5,
   "metadata": {},
   "outputs": [
    {
     "data": {
      "text/plain": [
       "1.0"
      ]
     },
     "execution_count": 5,
     "metadata": {},
     "output_type": "execute_result"
    }
   ],
   "source": [
    "u = np.cross(w,v)\n",
    "uu = u/norm(u)\n",
    "norm(uu)"
   ]
  },
  {
   "cell_type": "code",
   "execution_count": 6,
   "metadata": {},
   "outputs": [
    {
     "data": {
      "text/plain": [
       "0.0"
      ]
     },
     "execution_count": 6,
     "metadata": {},
     "output_type": "execute_result"
    }
   ],
   "source": [
    "np.dot(uu,w)"
   ]
  },
  {
   "cell_type": "markdown",
   "metadata": {},
   "source": [
    " "
   ]
  },
  {
   "cell_type": "markdown",
   "metadata": {},
   "source": [
    "### Quick exercise\n",
    "\n",
    "Write a parametric form for a line containing position vectors $\\vec p$ and $\\vec q$."
   ]
  },
  {
   "cell_type": "markdown",
   "metadata": {
    "jp-MarkdownHeadingCollapsed": true,
    "tags": []
   },
   "source": [
    "#### Solution"
   ]
  },
  {
   "cell_type": "markdown",
   "metadata": {},
   "source": [
    "$$\\vec p + t (\\vec q - \\vec p) = (1 - t)\\vec p + t \\vec q$$"
   ]
  },
  {
   "cell_type": "markdown",
   "metadata": {},
   "source": [
    " "
   ]
  },
  {
   "cell_type": "markdown",
   "metadata": {
    "slideshow": {
     "slide_type": "subslide"
    }
   },
   "source": [
    "### Exercises\n",
    "\n",
    "  1. Where does the line through $(2,4,-2)$ and $(3,1,-1)$ cross the $xy$-plane?"
   ]
  },
  {
   "cell_type": "markdown",
   "metadata": {
    "jp-MarkdownHeadingCollapsed": true,
    "tags": []
   },
   "source": [
    "#### Solution"
   ]
  },
  {
   "cell_type": "markdown",
   "metadata": {},
   "source": [
    "Use the vector connecting the positions as the direction $\\vec v = \\langle 3 - 2, 1 - 4, -1 - (-2) \\rangle = \\langle 1, -3, 1 \\rangle$. Use either point as the initial position, so one possibility is \n",
    "$$ \\vec r(t) = \\langle 2,4,-2 \\rangle + t \\langle 1, -3, 1 \\rangle$$\n",
    "\n",
    "To find the intersection with the $xy$-plane, set the $z$-coordinate to $0$ and solve for $t$. \n",
    "\n",
    "$$ -2 + t = 0$$\n",
    "\n",
    "at $t =2$, so the line intersects the $xy$-plane at $\\vec r(t) = \\langle 4, -2, 0\\rangle$. "
   ]
  },
  {
   "cell_type": "code",
   "execution_count": null,
   "metadata": {},
   "outputs": [],
   "source": []
  },
  {
   "cell_type": "markdown",
   "metadata": {
    "slideshow": {
     "slide_type": "subslide"
    }
   },
   "source": [
    "###  \n",
    "---\n",
    "2. Is the line $(2,4,0)$ and $(1,1,1)$ perpendicular to the line through $(3,3,4)$ and $(3,-1,-8)$?"
   ]
  },
  {
   "cell_type": "markdown",
   "metadata": {
    "jp-MarkdownHeadingCollapsed": true,
    "tags": []
   },
   "source": [
    "#### Solution"
   ]
  },
  {
   "cell_type": "markdown",
   "metadata": {},
   "source": [
    "CAREFUL. This depends on what we mean by lines being perpendicular in $\\mathbb{R}^3$. \n",
    "\n",
    "First, we compare directions. \n",
    "\n",
    "$$\\vec v_1 = \\langle 2-1, 4 - 1, 0 - 1 \\rangle = \\langle 1, 3, -1 \\rangle$$\n",
    "$$\\vec v_2 = \\langle 3 - 3, 3 - -1, 4 - -8 \\rangle = \\langle 0, 4, 12 \\rangle$$\n",
    "\n",
    "Thus, $\\vec v_1 \\cdot \\vec v_2 = 0$, so the _directions_ are perpendicular, but we will require further that for lines to be perpendicular they **must intersect**. \n",
    "\n",
    "For this, we must check if there is a solution to the system of equations \n",
    "\n",
    "$$\\bv{2 \\\\ 4 \\\\ 0} + t \\bv{1 \\\\ 3 \\\\ -1 } = \\bv{3 \\\\ 3 \\\\ 4} + s \\bv{0 \\\\ 4 \\\\ 12}$$"
   ]
  },
  {
   "cell_type": "markdown",
   "metadata": {},
   "source": [
    "where each side is the parametric form of one of the lines above. This has 3 equations and 2 unknowns. The first (top) equation says $2 + t = 0$ so $t = 1$. \n",
    "\n",
    "The second component thus says $7 = 3 + 4s $ so $s = 1$ as well, which on the third line yields \n",
    "$$ -(1) = 4 + 12$$\n",
    "so this system has no solution. The lines do **not** intersect, and thus they are **not** perpendicular. \n",
    "\n",
    "We say they are **skew lines**."
   ]
  },
  {
   "cell_type": "code",
   "execution_count": 10,
   "metadata": {
    "jupyter": {
     "source_hidden": true
    },
    "tags": []
   },
   "outputs": [
    {
     "data": {
      "application/vnd.jupyter.widget-view+json": {
       "model_id": "0a91909832ea46609878fb02e3200614",
       "version_major": 2,
       "version_minor": 0
      },
      "text/plain": [
       "interactive(children=(IntSlider(value=6, description='angle', max=108, min=-96, step=6), Output()), _dom_class…"
      ]
     },
     "metadata": {},
     "output_type": "display_data"
    }
   ],
   "source": [
    "@interact\n",
    "def _(angle = (-96,108,6)):\n",
    "    fig = plt.figure()\n",
    "    ax = fig.add_subplot(projection='3d')\n",
    "    ax.view_init(30,angle)\n",
    "    plt.plot([2,1],[4,1],[0,1])\n",
    "    plt.plot([3,3],[3,-1],[4,-8])"
   ]
  },
  {
   "cell_type": "markdown",
   "metadata": {},
   "source": [
    " "
   ]
  },
  {
   "cell_type": "markdown",
   "metadata": {},
   "source": [
    " "
   ]
  },
  {
   "cell_type": "markdown",
   "metadata": {
    "slideshow": {
     "slide_type": "fragment"
    },
    "tags": []
   },
   "source": [
    "#### Quick exercise\n",
    "\n",
    "What is a normal vector to the plane given by $$ x+2y = 16-8z?$$\n",
    "Find a point on this plane. "
   ]
  },
  {
   "cell_type": "markdown",
   "metadata": {
    "jp-MarkdownHeadingCollapsed": true,
    "tags": []
   },
   "source": [
    "#### Solution"
   ]
  },
  {
   "cell_type": "markdown",
   "metadata": {},
   "source": [
    "Don't forget to move the $z$ term over. $$\\vec n = \\langle 1, 2, 8 \\rangle$$\n",
    "\n",
    "A point on this plane is $(16, 0, 0)$ or $(0, 8, 0)$ or $(0,0,2)$. "
   ]
  },
  {
   "cell_type": "markdown",
   "metadata": {},
   "source": [
    " "
   ]
  },
  {
   "cell_type": "markdown",
   "metadata": {
    "slideshow": {
     "slide_type": "slide"
    },
    "tags": []
   },
   "source": [
    "### Exercises\n",
    "\n",
    "  1. Find an equation of the plane through $(1,0,0)$, $(0,1,0)$, and $(0,0,1)$."
   ]
  },
  {
   "cell_type": "markdown",
   "metadata": {
    "jp-MarkdownHeadingCollapsed": true,
    "tags": []
   },
   "source": [
    "#### Solution"
   ]
  },
  {
   "cell_type": "markdown",
   "metadata": {},
   "source": [
    "Find two directions in the plane and cross them. \n",
    "\n",
    "$$\\vec n = (\\vec j - \\vec i)\\times(\\vec k - \\vec i) = \\vec j \\times \\vec k - \\vec j\\times \\vec i - \\vec i \\times \\vec k = \\vec i + \\vec j +\\vec k$$\n",
    "\n",
    "Put into eqution of plane $\\vec n \\cdot \\vec x = \\vec v \\cdot \\vec p$ to get $$x + y + z = 1$$"
   ]
  },
  {
   "cell_type": "markdown",
   "metadata": {
    "slideshow": {
     "slide_type": "slide"
    }
   },
   "source": [
    "### \n",
    "---\n",
    "2. Find a parametric form for the line of intersection of the planes given by $x+y-z = 2$ and $2x - y + 3z = 1$."
   ]
  },
  {
   "cell_type": "markdown",
   "metadata": {
    "jp-MarkdownHeadingCollapsed": true,
    "tags": []
   },
   "source": [
    "#### Solution"
   ]
  },
  {
   "cell_type": "markdown",
   "metadata": {},
   "source": [
    "We find a point of intersection (i.e., solve a system of the two equations). Start by just adding the two equations to get $$ 3x + 2z = 3$$ which has solutions $x = 1, z = 0$. Plug these back into either of the original equations to get $y = 1$, so a point is $(1,1,0)$. \n",
    "\n",
    "More interstingly, the direction of the line is parallel to both planes, so it is orthogonal to both normals, thus we use a cross product\n",
    "$$\\vec v  = \\vec n_1 \\times \\vec n_2 = \\langle 1, 1, -1 \\rangle \\times \\langle 2, -1, 3 \\rangle$$"
   ]
  },
  {
   "cell_type": "code",
   "execution_count": 8,
   "metadata": {},
   "outputs": [
    {
     "data": {
      "text/plain": [
       "array([ 2, -5, -3])"
      ]
     },
     "execution_count": 8,
     "metadata": {},
     "output_type": "execute_result"
    }
   ],
   "source": [
    "np.cross([1,1,-1],[2,-1,3])"
   ]
  },
  {
   "cell_type": "markdown",
   "metadata": {},
   "source": [
    "Thus, a parametric form of the line is $$\\vec r(t) = \\langle 1,1,0\\rangle + t\\langle 2, -5, -3\\rangle $$"
   ]
  },
  {
   "cell_type": "code",
   "execution_count": 11,
   "metadata": {
    "jupyter": {
     "source_hidden": true
    },
    "tags": []
   },
   "outputs": [
    {
     "data": {
      "application/vnd.jupyter.widget-view+json": {
       "model_id": "704f16300bd74b109d22193333c6b72e",
       "version_major": 2,
       "version_minor": 0
      },
      "text/plain": [
       "interactive(children=(IntSlider(value=6, description='angle', max=108, min=-96, step=6), Output()), _dom_class…"
      ]
     },
     "metadata": {},
     "output_type": "display_data"
    }
   ],
   "source": [
    "t = np.array([-2,2])\n",
    "p = np.array([1,1,0])\n",
    "v = np.array([2, -5, -3])\n",
    "x = y = np.linspace(-2,2,10)\n",
    "x,y = np.meshgrid(x,y)\n",
    "\n",
    "\n",
    "@interact\n",
    "def _(angle = (-96,108,6)):\n",
    "    fig = plt.figure()\n",
    "    ax = fig.add_subplot(projection='3d')\n",
    "    ax.view_init(30,angle)\n",
    "    plt.plot(p[0] + t*v[0], p[1] + t*v[1], p[2] + t*v[2])\n",
    "    ax.plot_surface(x, y, x + y - 2,alpha=.5)\n",
    "    ax.plot_surface(x, y, (1 - 2*x + y)/3,alpha=.8)"
   ]
  },
  {
   "cell_type": "code",
   "execution_count": null,
   "metadata": {},
   "outputs": [],
   "source": []
  }
 ],
 "metadata": {
  "kernelspec": {
   "display_name": "Python 3 (ipykernel)",
   "language": "python",
   "name": "python3"
  },
  "language_info": {
   "codemirror_mode": {
    "name": "ipython",
    "version": 3
   },
   "file_extension": ".py",
   "mimetype": "text/x-python",
   "name": "python",
   "nbconvert_exporter": "python",
   "pygments_lexer": "ipython3",
   "version": "3.9.9"
  }
 },
 "nbformat": 4,
 "nbformat_minor": 4
}
