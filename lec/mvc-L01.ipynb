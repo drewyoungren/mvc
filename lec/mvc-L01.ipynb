{
 "cells": [
  {
   "cell_type": "code",
   "execution_count": 1,
   "metadata": {
    "slideshow": {
     "slide_type": "skip"
    }
   },
   "outputs": [],
   "source": [
    "import numpy as np\n",
    "import matplotlib\n",
    "import matplotlib.pyplot as plt\n",
    "from IPython.display import display, HTML, IFrame\n",
    "from ipywidgets import interact, widgets\n",
    "# import networkx as nx\n",
    "import pandas as pd\n",
    "from mpl_toolkits.mplot3d import Axes3D \n",
    "from matplotlib import cm\n",
    "\n",
    "matplotlib.rcParams['figure.figsize'] = [6.0, 6.0]\n",
    "\n",
    "%matplotlib widget\n",
    "\n",
    "# Uncomment the one that corresponds to your Jupyter theme\n",
    "plt.style.use('dark_background')\n",
    "# plt.style.use('fivethirtyeight')\n",
    "# plt.style.use('Solarize_Light2')\n"
   ]
  },
  {
   "cell_type": "markdown",
   "metadata": {
    "slideshow": {
     "slide_type": "notes"
    }
   },
   "source": [
    "$\\newcommand{\\RR}{\\mathbb{R}}$\n",
    "$\\newcommand{\\bv}[1]{\\begin{bmatrix} #1 \\end{bmatrix}}$\n",
    "$\\renewcommand{\\vec}{\\mathbf}$"
   ]
  },
  {
   "cell_type": "markdown",
   "metadata": {},
   "source": [
    "<div style=\"padding-bottom: 40%\"></div>"
   ]
  },
  {
   "cell_type": "markdown",
   "metadata": {
    "slideshow": {
     "slide_type": "subslide"
    }
   },
   "source": [
    "Welcome to APMA E2000\n",
    "\n",
    "<img src=\"../img/taco.gif\" width=\"50%\" style=\"float:right\" />\n",
    "\n",
    "# Multivariable Calculus for Engineers and Applied Scientists\n",
    "\n",
    "Drew Youngren\n",
    "<code>dcy2@columbia.edu</code>"
   ]
  },
  {
   "cell_type": "markdown",
   "metadata": {},
   "source": [
    "<p style=\"padding-bottom:40%;\"> </p>"
   ]
  },
  {
   "cell_type": "markdown",
   "metadata": {
    "slideshow": {
     "slide_type": "slide"
    }
   },
   "source": [
    "  # What is Multivariable Calculus?\n",
    "  \n",
    "  In the first two semesters of calculus, the object of study are functions from the real numbers to the real numbers.\n",
    "  \n",
    "  $$f: \\RR \\to \\RR$$"
   ]
  },
  {
   "cell_type": "markdown",
   "metadata": {},
   "source": [
    "<div style=\"padding-bottom: 40%\"></div>"
   ]
  },
  {
   "cell_type": "markdown",
   "metadata": {
    "slideshow": {
     "slide_type": "fragment"
    }
   },
   "source": [
    "In multivariable calculus, we'll expand this study in three ways:"
   ]
  },
  {
   "cell_type": "markdown",
   "metadata": {
    "slideshow": {
     "slide_type": "fragment"
    }
   },
   "source": [
    "  - Vector-valued functions (curves) $$f:\\RR \\to \\RR^n$$"
   ]
  },
  {
   "cell_type": "code",
   "execution_count": 2,
   "metadata": {
    "jupyter": {
     "source_hidden": true
    }
   },
   "outputs": [
    {
     "data": {
      "application/vnd.jupyter.widget-view+json": {
       "model_id": "c7339abb9b1240d5b05ca5c9051790b6",
       "version_major": 2,
       "version_minor": 0
      },
      "text/plain": [
       "Canvas(toolbar=Toolbar(toolitems=[('Home', 'Reset original view', 'home', 'home'), ('Back', 'Back to previous …"
      ]
     },
     "metadata": {},
     "output_type": "display_data"
    }
   ],
   "source": [
    "plt.close(\"A curve\")\n",
    "fig = plt.figure(\"A curve\")\n",
    "ax = fig.gca(projection='3d')\n",
    "\n",
    "t = np.linspace(0,12,200)\n",
    "ax.plot(np.sin(t),t,t*np.cos(t),color=\"darkblue\");"
   ]
  },
  {
   "cell_type": "markdown",
   "metadata": {
    "slideshow": {
     "slide_type": "fragment"
    }
   },
   "source": [
    "  - Functions of several variables (scalar fields) $$f:\\RR^n \\to \\RR$$"
   ]
  },
  {
   "cell_type": "code",
   "execution_count": 3,
   "metadata": {
    "jupyter": {
     "source_hidden": true
    }
   },
   "outputs": [
    {
     "data": {
      "application/vnd.jupyter.widget-view+json": {
       "model_id": "aa4c529322ab4c8bb64563e8b2a34dd8",
       "version_major": 2,
       "version_minor": 0
      },
      "text/plain": [
       "Canvas(toolbar=Toolbar(toolitems=[('Home', 'Reset original view', 'home', 'home'), ('Back', 'Back to previous …"
      ]
     },
     "metadata": {},
     "output_type": "display_data"
    }
   ],
   "source": [
    "plt.close(\"A scalar field\")\n",
    "fig = plt.figure(\"A scalar field\")\n",
    "x = y = np.linspace(-1,1,200)\n",
    "x, y = np.meshgrid(x,y)\n",
    "plt.contourf(x,y,(y - y**3)*np.exp(-x**2), levels=25)\n",
    "plt.colorbar();"
   ]
  },
  {
   "cell_type": "markdown",
   "metadata": {
    "slideshow": {
     "slide_type": "fragment"
    }
   },
   "source": [
    "  <div style=\"padding-bottom: 40%\"></div>"
   ]
  },
  {
   "cell_type": "markdown",
   "metadata": {
    "slideshow": {
     "slide_type": "fragment"
    }
   },
   "source": [
    "  - Vector fields $$f:\\RR^n \\to \\RR^n$$"
   ]
  },
  {
   "cell_type": "code",
   "execution_count": 4,
   "metadata": {
    "jupyter": {
     "source_hidden": true
    }
   },
   "outputs": [
    {
     "data": {
      "application/vnd.jupyter.widget-view+json": {
       "model_id": "f38bd7b420e64b0a815121c5d208543c",
       "version_major": 2,
       "version_minor": 0
      },
      "text/plain": [
       "Canvas(toolbar=Toolbar(toolitems=[('Home', 'Reset original view', 'home', 'home'), ('Back', 'Back to previous …"
      ]
     },
     "metadata": {},
     "output_type": "display_data"
    }
   ],
   "source": [
    "plt.close(\"A vector field\")\n",
    "fig = plt.figure(\"A vector field\")\n",
    "ax = fig.gca()\n",
    "\n",
    "x = y = np.linspace(-1,1,20)\n",
    "x, y = np.meshgrid(x, y)\n",
    "\n",
    "ax.quiver(x, y, -y - x/10, x - y/6,color='b');"
   ]
  },
  {
   "cell_type": "markdown",
   "metadata": {},
   "source": [
    "<p style=\"padding-bottom:40%;\"> </p>"
   ]
  },
  {
   "cell_type": "markdown",
   "metadata": {
    "slideshow": {
     "slide_type": "slide"
    }
   },
   "source": [
    "<h2>What is $\\RR^n$?</h2> \n",
    "\n",
    "$$ \\RR = \\RR^1 = \\text{ the real numbers}$$"
   ]
  },
  {
   "cell_type": "markdown",
   "metadata": {
    "slideshow": {
     "slide_type": "fragment"
    }
   },
   "source": [
    "$$\\RR^2 = \\{ (x,y): x,y \\in \\RR \\} = \\text{ the Cartesian plane}$$"
   ]
  },
  {
   "cell_type": "markdown",
   "metadata": {
    "slideshow": {
     "slide_type": "fragment"
    }
   },
   "source": [
    "$$\\RR^3 = \\{ (x,y,z): x,y,z \\in \\RR \\} = \\text{ 3-space}$$"
   ]
  },
  {
   "cell_type": "markdown",
   "metadata": {
    "slideshow": {
     "slide_type": "fragment"
    }
   },
   "source": [
    "$$\\dots$$ $$ \\RR^n = n\\text{-space}$$"
   ]
  },
  {
   "cell_type": "markdown",
   "metadata": {},
   "source": [
    "<div style=\"padding-bottom: 40%\"></div>"
   ]
  },
  {
   "cell_type": "markdown",
   "metadata": {
    "slideshow": {
     "slide_type": "slide"
    }
   },
   "source": [
    "## Loci\n",
    "\n",
    "A set of points in space determined by some condition is called a **locus**. These are often solution sets to equations. Many examples involve the distance formula.\n",
    "\n",
    "### Examples\n",
    "\n",
    "  1. $x + y = 3$"
   ]
  },
  {
   "cell_type": "code",
   "execution_count": 5,
   "metadata": {
    "hide_input": false,
    "jupyter": {
     "source_hidden": true
    },
    "slideshow": {
     "slide_type": "fragment"
    }
   },
   "outputs": [
    {
     "data": {
      "application/vnd.jupyter.widget-view+json": {
       "model_id": "505b11f997524e3c8a6bed3205a2d338",
       "version_major": 2,
       "version_minor": 0
      },
      "text/plain": [
       "Canvas(toolbar=Toolbar(toolitems=[('Home', 'Reset original view', 'home', 'home'), ('Back', 'Back to previous …"
      ]
     },
     "metadata": {},
     "output_type": "display_data"
    }
   ],
   "source": [
    "plt.close(\"A Plane\")\n",
    "fig = plt.figure(num=\"A Plane\")\n",
    "ax = fig.gca(projection='3d')\n",
    "fig.canvas.header_visible = False\n",
    "\n",
    "# Make data.\n",
    "X = np.arange(-5, 5, 0.25)\n",
    "Y = np.arange(-5, 5, 0.25)\n",
    "X, Y = np.meshgrid(X, Y)\n",
    "# R = np.sqrt(X**2 + Y**2)\n",
    "Z = -3*X\n",
    "\n",
    "ax.set_xlabel(\"$x$\",fontsize=16)\n",
    "ax.set_ylabel(\"$y$\",fontsize=16)\n",
    "ax.set_zlabel(\"$z$\",fontsize=16)\n",
    "\n",
    "\n",
    "# Plot the surface.\n",
    "\n",
    "ax.view_init(30,60)\n",
    "ax.plot_surface(X, 3-X, Y, cmap=cm.coolwarm,\n",
    "                   linewidth=0, antialiased=True,alpha=.8);"
   ]
  },
  {
   "cell_type": "markdown",
   "metadata": {},
   "source": [
    "<div style=\"padding-bottom: 40%\"></div>"
   ]
  },
  {
   "cell_type": "markdown",
   "metadata": {
    "slideshow": {
     "slide_type": "slide"
    }
   },
   "source": [
    "## Distance\n",
    "\n",
    "The formula for the distance between two points $(p_1,...,p_n)$ and $(q_1,...,q_n)$ in $\\RR^n$ is trivial if you just remember the Pythagorean Theorem.\n",
    "\n",
    "$$d = \\sqrt{\\sum_{i=1}^n (p_i - q_i)^2}$$"
   ]
  },
  {
   "cell_type": "code",
   "execution_count": 6,
   "metadata": {
    "jupyter": {
     "source_hidden": true
    }
   },
   "outputs": [
    {
     "data": {
      "application/vnd.jupyter.widget-view+json": {
       "model_id": "884926b2bc73437da1884abdb223c044",
       "version_major": 2,
       "version_minor": 0
      },
      "text/plain": [
       "Canvas(toolbar=Toolbar(toolitems=[('Home', 'Reset original view', 'home', 'home'), ('Back', 'Back to previous …"
      ]
     },
     "metadata": {},
     "output_type": "display_data"
    }
   ],
   "source": [
    "plt.close(\"Pythagorus\")\n",
    "fig = plt.figure(\"Pythagorus\")\n",
    "ax = fig.gca(projection='3d')\n",
    "\n",
    "ax.plot([1,4],[1,3],[0,3],lw=3,color='#4444ff')\n",
    "ax.plot([1,4],[1,3],[0,0],lw=2,ls='--',color='#4444ff')\n",
    "ax.plot([1,4,4,4],[1,1,3,3],[0,0,0,3],lw=2,ls='dashed',color='#4444ff')\n",
    "ax.scatter([1,4],[1,3],[0,3],lw=3,color='k')\n",
    "\n",
    "for c in \"xyz\":\n",
    "    getattr(ax,f\"set_{c}lim\")(0,4)\n",
    "    getattr(ax,f\"set_{c}label\")(f\"${c}$\",fontsize=16)\n",
    "\n"
   ]
  },
  {
   "cell_type": "markdown",
   "metadata": {
    "hide_input": true,
    "slideshow": {
     "slide_type": "subslide"
    }
   },
   "source": [
    "  2. $x^2 + y^2 +z^2 = 1$"
   ]
  },
  {
   "cell_type": "code",
   "execution_count": 7,
   "metadata": {
    "hide_input": true,
    "jupyter": {
     "source_hidden": true
    },
    "slideshow": {
     "slide_type": "fragment"
    }
   },
   "outputs": [
    {
     "data": {
      "application/vnd.jupyter.widget-view+json": {
       "model_id": "111517cc399d41e5bfd6ff2689f1b67e",
       "version_major": 2,
       "version_minor": 0
      },
      "text/plain": [
       "Canvas(toolbar=Toolbar(toolitems=[('Home', 'Reset original view', 'home', 'home'), ('Back', 'Back to previous …"
      ]
     },
     "metadata": {},
     "output_type": "display_data"
    }
   ],
   "source": [
    "plt.close(\"Unit Sphere\")\n",
    "fig = plt.figure(num=\"Unit Sphere\",figsize=(6,6))\n",
    "fig.canvas.header_visible = False\n",
    "ax = fig.gca(projection='3d')\n",
    "\n",
    "# Make data.\n",
    "x = np.linspace(0, 2*np.pi,80)\n",
    "y = np.linspace(0, np.pi,40)\n",
    "x, y = np.meshgrid(x, y)\n",
    "X = np.sin(y)*np.cos(x)\n",
    "Y = np.sin(y)*np.sin(x)\n",
    "Z = np.cos(y)\n",
    "\n",
    "# Plot the surface.\n",
    "surf = ax.plot_surface(X, Y, Z, cmap=cm.coolwarm,\n",
    "                       linewidth=0.2, antialiased=False,alpha=.8)\n",
    "for dim in 'xyz':\n",
    "    getattr(ax, f'set_{dim}lim')([-1,1])\n"
   ]
  },
  {
   "cell_type": "markdown",
   "metadata": {},
   "source": [
    "<div style=\"padding-bottom: 40%\"></div>"
   ]
  },
  {
   "cell_type": "markdown",
   "metadata": {
    "slideshow": {
     "slide_type": "slide"
    }
   },
   "source": [
    "# Vectors"
   ]
  },
  {
   "cell_type": "markdown",
   "metadata": {
    "slideshow": {
     "slide_type": "fragment"
    }
   },
   "source": [
    "A **vector** in $\\RR^n$ is a directed line segment $\\overrightarrow{AB}$ between two points. "
   ]
  },
  {
   "cell_type": "markdown",
   "metadata": {
    "slideshow": {
     "slide_type": "fragment"
    }
   },
   "source": [
    "Two vectors are considered the same if they have the same *magnitude* (length) and *direction*."
   ]
  },
  {
   "cell_type": "code",
   "execution_count": 8,
   "metadata": {
    "slideshow": {
     "slide_type": "skip"
    }
   },
   "outputs": [],
   "source": [
    "def plot_vector(v,ax,base=(0,0),**kwargs):\n",
    "    \"\"\"Plots a vector `v` with tail at the point `base` (defaults to origin) on the axes ax.\"\"\"\n",
    "    ax.arrow(base[0],base[1],v[0],v[1],length_includes_head=True,head_width=.2,**kwargs);"
   ]
  },
  {
   "cell_type": "code",
   "execution_count": 9,
   "metadata": {
    "hide_input": true,
    "jupyter": {
     "source_hidden": true
    },
    "slideshow": {
     "slide_type": "fragment"
    }
   },
   "outputs": [
    {
     "data": {
      "application/vnd.jupyter.widget-view+json": {
       "model_id": "b53b399026db4adfb4e6b6ffb56a7f30",
       "version_major": 2,
       "version_minor": 0
      },
      "text/plain": [
       "Canvas(toolbar=Toolbar(toolitems=[('Home', 'Reset original view', 'home', 'home'), ('Back', 'Back to previous …"
      ]
     },
     "metadata": {},
     "output_type": "display_data"
    }
   ],
   "source": [
    "v = np.array([-2,2])\n",
    "w = np.array([3,-4])\n",
    "\n",
    "plt.close(\"A Vector\")\n",
    "fig = plt.figure(num=\"A Vector\",figsize=(5,5))\n",
    "\n",
    "ax = fig.gca()\n",
    "\n",
    "ax.set_xlim([-5,5])\n",
    "ax.set_ylim([-5,5])\n",
    "ax.set_xlabel(\"$x$\")\n",
    "ax.set_ylabel(\"$y$\")\n",
    "\n",
    "plot_vector(v,ax,color='r')\n",
    "plot_vector(v,ax,base=(3,-1),color='b')\n",
    "plot_vector(v,ax,base=(-2,-2),color='purple')\n",
    "ax.grid(True);\n"
   ]
  },
  {
   "cell_type": "markdown",
   "metadata": {},
   "source": [
    "<p style=\"padding-bottom:40%;\"> </p>"
   ]
  },
  {
   "cell_type": "markdown",
   "metadata": {
    "slideshow": {
     "slide_type": "subslide"
    }
   },
   "source": [
    "## Notation\n",
    "\n",
    "We specify a vector by the displacement in each component. E.g., $$\\vec v = \\langle 3,1 \\rangle = \\bv{3 \\\\ 1}.$$"
   ]
  },
  {
   "cell_type": "markdown",
   "metadata": {
    "slideshow": {
     "slide_type": "fragment"
    }
   },
   "source": [
    "### Points vs Vectors\n",
    "\n",
    "$(3,21)$ is a point. $\\vec v = \\langle 3,21\\rangle$ is a vector. \n",
    "\n",
    "\"21st St & 3rd Ave\" is a location. \"21 blocks north and 3 blocks west\" is a displacement. "
   ]
  },
  {
   "cell_type": "markdown",
   "metadata": {},
   "source": [
    "<p style=\"padding-bottom:40%;\"> </p>"
   ]
  },
  {
   "cell_type": "markdown",
   "metadata": {
    "slideshow": {
     "slide_type": "slide"
    }
   },
   "source": [
    "# Vector Operations\n",
    "\n",
    "The most important aspect of vectors is what you can do with/to them. In a sense their defining feature is that they can be **scaled** and **added together**."
   ]
  },
  {
   "cell_type": "markdown",
   "metadata": {
    "slideshow": {
     "slide_type": "fragment"
    }
   },
   "source": [
    "Let $\\vec v = \\langle v_1, v_2, v_3 \\rangle$."
   ]
  },
  {
   "cell_type": "markdown",
   "metadata": {
    "slideshow": {
     "slide_type": "fragment"
    }
   },
   "source": [
    "### Magnitude\n",
    "\n",
    "The **magnitude** of a vector $\\vec v$ is a (nonnegative) scalar $|\\vec v|$ (also written $\\| \\vec v \\|$). \n",
    "\n",
    "$$|\\vec v| = \\sqrt{v_1^2 +v_2^2 + v_3^2}$$"
   ]
  },
  {
   "cell_type": "markdown",
   "metadata": {},
   "source": [
    "<div style=\"padding-bottom: 40%\"></div>"
   ]
  },
  {
   "cell_type": "markdown",
   "metadata": {
    "slideshow": {
     "slide_type": "subslide"
    }
   },
   "source": [
    "## Scalar multiplication\n",
    "\n",
    "Let $c$ be a scalar. $$c\\vec v = \\langle c v_1, c v_2, c v_3\\rangle$$"
   ]
  },
  {
   "cell_type": "code",
   "execution_count": 10,
   "metadata": {
    "hide_input": true,
    "jupyter": {
     "source_hidden": true
    },
    "slideshow": {
     "slide_type": "fragment"
    }
   },
   "outputs": [
    {
     "data": {
      "application/vnd.jupyter.widget-view+json": {
       "model_id": "ca14c306c4534b74ae7bb7a0eb6039da",
       "version_major": 2,
       "version_minor": 0
      },
      "text/plain": [
       "AppLayout(children=(FloatSlider(value=0.0, description='$c$', layout=Layout(grid_area='footer'), max=2.0, min=…"
      ]
     },
     "metadata": {},
     "output_type": "display_data"
    }
   ],
   "source": [
    "TITLE=\"Scalar Multiplication\"\n",
    "out = widgets.Output()\n",
    "with out:\n",
    "    fig = plt.figure(num=TITLE)\n",
    "ax = fig.gca()\n",
    "ax.clear()\n",
    "fig.canvas.header_visible = False\n",
    "\n",
    "arrow = ax.arrow(0,0,3,1,color='b',head_width=.2,length_includes_head=True)\n",
    "\n",
    "ax.set_xlim([-6,6])\n",
    "ax.set_ylim([-6,6])\n",
    "ax.grid(True)\n",
    "ax.set_title(TITLE)\n",
    "\n",
    "arrows = [arrow]\n",
    "    \n",
    "slider = widgets.FloatSlider(\n",
    "    description=\"$c$\",\n",
    "    value=0,\n",
    "    min=-2,\n",
    "    max=2\n",
    ")\n",
    "    \n",
    "def update_scale(change,title=TITLE):\n",
    "    fig = plt.figure(num=title)\n",
    "    ax = fig.gca()\n",
    "    s = change.new\n",
    "    while len(arrows) > 1:\n",
    "        arrows.pop().remove()\n",
    "    arrows.append(ax.arrow(0,0,s*3,s*1,color='gray',head_width=.2,length_includes_head=True))\n",
    "    fig.canvas.draw_idle()\n",
    "    \n",
    "slider.observe(update_scale,names='value')\n",
    "widgets.AppLayout(center=fig.canvas,footer=slider)\n"
   ]
  },
  {
   "cell_type": "markdown",
   "metadata": {
    "slideshow": {
     "slide_type": "fragment"
    }
   },
   "source": [
    "# Short exercises\n",
    "\n",
    "  1. Complete the identity $$|c\\vec v| = $$ \n",
    "  2. Find a **unit vector** (a vector of length 1) in the direction of $\\langle 3,12,-4 \\rangle $."
   ]
  },
  {
   "cell_type": "markdown",
   "metadata": {},
   "source": [
    "<p style=\"padding-bottom:40%;\"> </p>"
   ]
  },
  {
   "cell_type": "markdown",
   "metadata": {
    "slideshow": {
     "slide_type": "subslide"
    }
   },
   "source": [
    "## Vector addition\n",
    "\n",
    "Let $\\vec w = \\langle w_1,w_2,w_3 \\rangle$. $$\\vec v + \\vec w = \\langle v_1 +w_1, v_2+w_2, v_3+w_3 \\rangle$$"
   ]
  },
  {
   "cell_type": "code",
   "execution_count": 11,
   "metadata": {
    "hide_input": true,
    "jupyter": {
     "source_hidden": true
    },
    "slideshow": {
     "slide_type": "fragment"
    }
   },
   "outputs": [
    {
     "data": {
      "application/vnd.jupyter.widget-view+json": {
       "model_id": "f335437c4f5747d682db99a07b6de150",
       "version_major": 2,
       "version_minor": 0
      },
      "text/plain": [
       "AppLayout(children=(FloatSlider(value=0.0, description='$w_1$', layout=Layout(grid_area='footer', margin='0px …"
      ]
     },
     "metadata": {},
     "output_type": "display_data"
    }
   ],
   "source": [
    "TITLE = \"Vector Addition\"\n",
    "out = widgets.Output()\n",
    "with out:\n",
    "    fig = plt.figure(num=TITLE)\n",
    "ax = fig.gca()\n",
    "ax.clear()\n",
    "fig.canvas.header_visible = False\n",
    "\n",
    "v = np.array((3,1))\n",
    "ax.set_xlim([-5,5])\n",
    "ax.set_ylim([-5,5])\n",
    "ax.grid(True)\n",
    "ax.set_title(TITLE)\n",
    "arrow = ax.arrow(0,0,3,1,color='b',head_width=.2,length_includes_head=True)\n",
    "\n",
    "\n",
    "sliderx = widgets.FloatSlider(\n",
    "    description=\"$w_1$\",\n",
    "    value=0,\n",
    "    min=-2,\n",
    "    max=2\n",
    ")\n",
    "sliderx.layout.margin = '0px auto 0px 10%'\n",
    "\n",
    "slidery = widgets.FloatSlider(\n",
    "    orientation='vertical',\n",
    "    description='$w_2$',\n",
    "    value=0,\n",
    "    min=-2,\n",
    "    max=2\n",
    ")\n",
    "slidery.layout.margin = '20% auto auto 0px'\n",
    "\n",
    "    \n",
    "def update_sum(change,title=TITLE):\n",
    "    fig = plt.figure(title)\n",
    "    ax = fig.gca()\n",
    "    s = change.new\n",
    "    while len(arrows) > 1:\n",
    "        arrows.pop().remove()\n",
    "    w = np.array((sliderx.value,slidery.value))\n",
    "\n",
    "    arrows.append(ax.arrow(0,0,w[0],w[1],color=\"r\",alpha=1,head_width=.2,length_includes_head=True))\n",
    "    arrows.append(ax.arrow(v[0],v[1],(w)[0],(w)[1],color=\"gray\",alpha=.6,head_width=.2,length_includes_head=True))\n",
    "    arrows.append(ax.arrow(w[0],w[1],(v)[0],(v)[1],color=\"gray\",alpha=.6,head_width=.2,length_includes_head=True))\n",
    "    arrows.append(ax.arrow(0,0,(v+w)[0],(v+w)[1],color=\"purple\",alpha=1,head_width=.2,length_includes_head=True))\n",
    "    fig.canvas.draw_idle()\n",
    "    \n",
    "sliderx.observe(update_sum,names='value')\n",
    "slidery.observe(update_sum,names='value')\n",
    "\n",
    "widgets.AppLayout(center=fig.canvas,footer=sliderx, right_sidebar=slidery)"
   ]
  },
  {
   "cell_type": "markdown",
   "metadata": {},
   "source": [
    "<p style=\"padding-bottom:40%;\"> </p>"
   ]
  },
  {
   "cell_type": "markdown",
   "metadata": {
    "slideshow": {
     "slide_type": "slide"
    }
   },
   "source": [
    "# Linear combinations\n",
    "\n",
    "A **linear combination** of vectors $\\vec v$ and $\\vec w$ is a vector $$a\\vec v + b \\vec w$$where $a$ and $b$ are arbitrary scalars. "
   ]
  },
  {
   "cell_type": "markdown",
   "metadata": {
    "slideshow": {
     "slide_type": "fragment"
    }
   },
   "source": [
    "#### Example - important\n",
    "\n",
    "$$\\vec v - \\vec w = \\vec v + (-1) \\vec w$$ is the **difference** between two vectors.\n",
    "\n",
    "Plot the vectors $\\vec v = \\langle 3,1 \\rangle$, $\\vec w = \\langle -2,2\\rangle$, and the difference $\\vec v - \\vec w$."
   ]
  },
  {
   "cell_type": "code",
   "execution_count": 12,
   "metadata": {
    "hide_input": true,
    "jupyter": {
     "source_hidden": true
    },
    "slideshow": {
     "slide_type": "fragment"
    }
   },
   "outputs": [
    {
     "data": {
      "application/vnd.jupyter.widget-view+json": {
       "model_id": "e7ef38b5eba94cffabc6aa19c860a800",
       "version_major": 2,
       "version_minor": 0
      },
      "text/plain": [
       "Canvas(toolbar=Toolbar(toolitems=[('Home', 'Reset original view', 'home', 'home'), ('Back', 'Back to previous …"
      ]
     },
     "metadata": {},
     "output_type": "display_data"
    }
   ],
   "source": [
    "v = np.array([3,1])\n",
    "w = np.array([-2,2])\n",
    "\n",
    "plt.close(\"Linear Combinations\")\n",
    "plt.figure(\"Linear Combinations\")\n",
    "ax=plt.gca()\n",
    "\n",
    "plt.xlim([-5,5])\n",
    "plt.ylim([-5,5])\n",
    "plt.grid(True)\n",
    "\n",
    "plot_vector(v,ax,color='b')\n",
    "plot_vector(v,ax,color='b',base=w)\n",
    "\n",
    "plot_vector(w,ax,color='r')\n",
    "plot_vector(w,ax,color='r',base=v)\n",
    "\n",
    "plot_vector(v - w,ax,color='orange',base=w)\n",
    "plot_vector(v + w,ax,color='purple')"
   ]
  },
  {
   "cell_type": "markdown",
   "metadata": {
    "slideshow": {
     "slide_type": "subslide"
    }
   },
   "source": [
    "#### Exercise"
   ]
  },
  {
   "cell_type": "markdown",
   "metadata": {
    "slideshow": {
     "slide_type": "subslide"
    }
   },
   "source": [
    "Plot the the following linear combinations of the vectors $\\vec v = \\langle 3,1 \\rangle$ and $\\vec w = \\langle -2,2\\rangle$:\n",
    "      \n",
    "  1. $\\vec v+\\vec w$\n",
    "  2. $\\frac{\\vec v + \\vec w}{2}$\n",
    "  3. $2\\vec w - \\vec v$\n",
    "  4. $\\frac 14 \\vec v + \\frac34 \\vec w$"
   ]
  },
  {
   "cell_type": "code",
   "execution_count": 13,
   "metadata": {
    "hide_input": false,
    "jupyter": {
     "source_hidden": true
    },
    "slideshow": {
     "slide_type": "fragment"
    }
   },
   "outputs": [
    {
     "data": {
      "application/vnd.jupyter.widget-view+json": {
       "model_id": "e911bd1bd2034b5db1ad309b782437b5",
       "version_major": 2,
       "version_minor": 0
      },
      "text/plain": [
       "Canvas(toolbar=Toolbar(toolitems=[('Home', 'Reset original view', 'home', 'home'), ('Back', 'Back to previous …"
      ]
     },
     "metadata": {},
     "output_type": "display_data"
    }
   ],
   "source": [
    "plt.close(\"exercise 1\")\n",
    "fig, ax = plt.subplots(num=\"exercise 1\")\n",
    "v = np.array([3,1])\n",
    "w = np.array([-2,2])\n",
    "\n",
    "plt.xlim([-5,5])\n",
    "plt.ylim([-5,5])\n",
    "plt.grid(True)\n",
    "\n",
    "plot_vector(v,ax,color='b')\n",
    "plot_vector(w,ax,color='r')"
   ]
  },
  {
   "cell_type": "markdown",
   "metadata": {
    "slideshow": {
     "slide_type": "subslide"
    }
   },
   "source": [
    "  2. (extra) What linear combination is this? $$ .2 \\vec h + .2\\vec q + .35 \\vec m + .25 \\vec f$$\n",
    "  "
   ]
  },
  {
   "cell_type": "markdown",
   "metadata": {},
   "source": [
    "<p style=\"padding-bottom:40%;\"> </p>"
   ]
  },
  {
   "cell_type": "markdown",
   "metadata": {
    "slideshow": {
     "slide_type": "slide"
    }
   },
   "source": [
    "# Dot product\n",
    "\n",
    "We do not simply _multiply_ vectors, per se, but there are special products we take. \n",
    "\n",
    "The **dot product** (or scalar product or inner product) between two vectors $\\vec v = \\langle v_1, \\dots,v_n\\rangle$ and $\\vec w = \\langle w_1, \\dots,w_n\\rangle$ is given by\n",
    "\n",
    "$$\\vec v\\cdot \\vec w = \\sum_{i=1}^n v_i w_i $$"
   ]
  },
  {
   "cell_type": "code",
   "execution_count": 14,
   "metadata": {
    "hide_input": true,
    "jupyter": {
     "source_hidden": true
    },
    "slideshow": {
     "slide_type": "fragment"
    }
   },
   "outputs": [
    {
     "data": {
      "application/vnd.jupyter.widget-view+json": {
       "model_id": "790418dcbe4948d899b0a56c361091bc",
       "version_major": 2,
       "version_minor": 0
      },
      "text/plain": [
       "AppLayout(children=(HBox(children=(FloatSlider(value=0.0, description='$w_1$', max=2.0, min=-2.0), FloatSlider…"
      ]
     },
     "metadata": {},
     "output_type": "display_data"
    }
   ],
   "source": [
    "TITLE = \"A dot product\"\n",
    "out = widgets.Output()\n",
    "with out:\n",
    "    fig = plt.figure(\"A dot product\")\n",
    "ax = fig.gca()\n",
    "ax.clear()\n",
    "\n",
    "v = np.array((3,1))\n",
    "ax.set_xlim([-5,5])\n",
    "ax.set_ylim([-5,5])\n",
    "ax.grid(True)\n",
    "arrows = [ax.arrow(0,0,3,1,color='b',head_width=.2,length_includes_head=True)]\n",
    "\n",
    "w1 = widgets.FloatSlider(description=\"$w_1$\", min=-2, max=2)\n",
    "w2 = widgets.FloatSlider(description=\"$w_2$\", min=-2, max=2)\n",
    "\n",
    "def update_dot(change,title=TITLE):\n",
    "    fig = plt.figure(title)\n",
    "    ax = fig.gca()\n",
    "    while len(arrows) > 1:\n",
    "        arrows.pop().remove()\n",
    "\n",
    "    w = np.array((w1.value,w2.value))\n",
    "    arrows.append(ax.arrow(0,0,w[0],w[1],color=\"r\",alpha=1,head_width=.2,length_includes_head=True))\n",
    "    ax.set_title(f\"$\\\\vec v \\\\cdot \\\\vec w = {np.dot(v,w):.02f}$\")\n",
    "    fig.canvas.draw_idle()\n",
    "    \n",
    "w1.observe(update_dot, names='value')\n",
    "w2.observe(update_dot, names='value')\n",
    "\n",
    "widgets.AppLayout(center=fig.canvas, footer=widgets.HBox([w1,w2]))"
   ]
  },
  {
   "cell_type": "markdown",
   "metadata": {},
   "source": [
    "<p style=\"padding-bottom:40%;\"> </p>"
   ]
  },
  {
   "cell_type": "markdown",
   "metadata": {
    "slideshow": {
     "slide_type": "slide"
    }
   },
   "source": [
    "# Properties of the dot product\n",
    "\n",
    "The dot product is:"
   ]
  },
  {
   "cell_type": "markdown",
   "metadata": {
    "slideshow": {
     "slide_type": "fragment"
    }
   },
   "source": [
    "  - commutative $$\\vec v \\cdot \\vec w = \\vec w \\cdot \\vec v$$"
   ]
  },
  {
   "cell_type": "markdown",
   "metadata": {
    "slideshow": {
     "slide_type": "fragment"
    }
   },
   "source": [
    "  - bilinear $$(c\\vec v + d\\vec w )\\cdot \\vec u = c(\\vec v\\cdot \\vec u) + d(\\vec w\\cdot \\vec u)$$"
   ]
  },
  {
   "cell_type": "markdown",
   "metadata": {
    "hide_input": false,
    "slideshow": {
     "slide_type": "fragment"
    }
   },
   "source": [
    "It can be used to define the magnitude. $$|\\vec v|^2 = \\vec v \\cdot \\vec v$$"
   ]
  },
  {
   "cell_type": "markdown",
   "metadata": {
    "slideshow": {
     "slide_type": "fragment"
    }
   },
   "source": [
    "There is a special vector $\\vec 0 = \\langle 0,0,\\dots,0\\rangle$, and for all $\\vec v$, $$\\vec v\\cdot \\vec 0 = 0$$"
   ]
  },
  {
   "cell_type": "markdown",
   "metadata": {},
   "source": [
    "<div style=\"padding-bottom: 40%\"></div>"
   ]
  },
  {
   "cell_type": "markdown",
   "metadata": {
    "slideshow": {
     "slide_type": "subslide"
    }
   },
   "source": [
    "## The Most Important Property\n",
    "\n",
    "Observe what happens with the angles. "
   ]
  },
  {
   "cell_type": "code",
   "execution_count": 15,
   "metadata": {
    "hide_input": false,
    "jupyter": {
     "source_hidden": true
    },
    "slideshow": {
     "slide_type": "fragment"
    }
   },
   "outputs": [
    {
     "data": {
      "application/vnd.jupyter.widget-view+json": {
       "model_id": "05c6e18d3df2478d8204621f60389a94",
       "version_major": 2,
       "version_minor": 0
      },
      "text/plain": [
       "AppLayout(children=(FloatSlider(value=0.0, description='$\\\\theta$', layout=Layout(grid_area='footer'), max=3.1…"
      ]
     },
     "metadata": {},
     "output_type": "display_data"
    }
   ],
   "source": [
    "TITLE = \"A Property\"\n",
    "out = widgets.Output()\n",
    "with out:\n",
    "    fig = plt.figure(num=TITLE)\n",
    "ax = fig.gca()\n",
    "ax.clear()\n",
    "\n",
    "ax.set_xlim([-5,5])\n",
    "ax.set_ylim([-5,5])\n",
    "ax.grid(True)\n",
    "\n",
    "arrows = [ ax.arrow(0,0,3,1, color='b', head_width=.2, length_includes_head=True),\n",
    "         ax.arrow(0,0,2,2/3, color='r', head_width=.2, length_includes_head=True)]\n",
    "\n",
    "theta = widgets.FloatSlider(description=\"$\\\\theta$\", min=-np.pi, max=np.pi)\n",
    "\n",
    "def update_theta(change, title=TITLE):\n",
    "    fig = plt.figure(title)\n",
    "    ax = fig.gca()\n",
    "    th = change['new']\n",
    "\n",
    "    A = np.array([[np.cos(th),-np.sin(th)],[np.sin(th),np.cos(th)]])\n",
    "    w = A.dot(np.array((2,2/3)))\n",
    "    \n",
    "    while len(arrows) > 1:\n",
    "        arrows.pop().remove()\n",
    "\n",
    "    arrows.append(ax.arrow(0,0,w[0],w[1],color=\"r\",alpha=1,head_width=.2,length_includes_head=True))\n",
    "    ax.set_title(f\"$\\\\vec v \\\\cdot \\\\vec w = {np.dot(v,w):.02f}$\")\n",
    "    fig.canvas.draw_idle()\n",
    "    \n",
    "theta.observe(update_theta, names='value')\n",
    "\n",
    "widgets.AppLayout(center=fig.canvas, footer=theta)"
   ]
  },
  {
   "cell_type": "markdown",
   "metadata": {
    "slideshow": {
     "slide_type": "fragment"
    }
   },
   "source": [
    "$$ \\vec v \\cdot \\vec w = |\\vec v ||\\vec w| \\cos \\theta$$ where $\\theta$ is the angle between them."
   ]
  },
  {
   "cell_type": "markdown",
   "metadata": {
    "slideshow": {
     "slide_type": "fragment"
    }
   },
   "source": [
    "**Corollary**\n",
    "\n",
    "$$ |\\vec v \\cdot \\vec w| \\leq |\\vec v ||\\vec w| $$"
   ]
  },
  {
   "cell_type": "markdown",
   "metadata": {
    "slideshow": {
     "slide_type": "slide"
    }
   },
   "source": [
    "### Exercise\n",
    "\n",
    "Show that for all vectors $\\vec v$ and $\\vec w$,\n",
    "\n",
    "$$\\vec v \\cdot \\vec w \\leq \\frac{|\\vec v|^2 + |\\vec w|^2}{2}.$$"
   ]
  },
  {
   "cell_type": "markdown",
   "metadata": {},
   "source": [
    "<div style=\"padding-bottom: 40%\"></div>"
   ]
  },
  {
   "cell_type": "markdown",
   "metadata": {},
   "source": [
    "# Wrap-up\n",
    "It's a good practice to do some reflective soon after every session. It need not be a long, contemplative essay. What is something you remember? What is one thing that confused you. Etc. \n",
    "\n",
    "One idea: submit candidates for a class glossary. Is there a term or phrase that was uttered during class that you were not sure about? Suggest an addition to the [GitHub wiki](https://github.com/drewyoungren/mvc/wiki/Glossary) for this class. \n"
   ]
  },
  {
   "cell_type": "code",
   "execution_count": null,
   "metadata": {},
   "outputs": [],
   "source": []
  }
 ],
 "metadata": {
  "celltoolbar": "Slideshow",
  "kernelspec": {
   "display_name": "Python 3",
   "language": "python",
   "name": "python3"
  },
  "language_info": {
   "codemirror_mode": {
    "name": "ipython",
    "version": 3
   },
   "file_extension": ".py",
   "mimetype": "text/x-python",
   "name": "python",
   "nbconvert_exporter": "python",
   "pygments_lexer": "ipython3",
   "version": "3.9.1"
  },
  "rise": {
   "scroll": true,
   "theme": "sky",
   "transition": "concave"
  }
 },
 "nbformat": 4,
 "nbformat_minor": 4
}
