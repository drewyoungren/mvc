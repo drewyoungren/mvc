{
 "cells": [
  {
   "cell_type": "code",
   "execution_count": 2,
   "metadata": {},
   "outputs": [],
   "source": [
    "import numpy as np\n",
    "import matplotlib\n",
    "import matplotlib.pyplot as plt\n",
    "from IPython.display import display, HTML, IFrame\n",
    "from ipywidgets import interact, widgets\n",
    "# import networkx as nx\n",
    "import pandas as pd\n",
    "from mpl_toolkits.mplot3d import Axes3D \n",
    "from matplotlib import cm\n",
    "\n",
    "matplotlib.rcParams['figure.figsize'] = [6.0, 6.0]\n",
    "\n",
    "# We don't need interactive plots here\n",
    "%matplotlib inline\n",
    "\n",
    "# Uncomment the one that corresponds to your Jupyter theme\n",
    "plt.style.use('dark_background')\n",
    "# plt.style.use('fivethirtyeight')\n",
    "# plt.style.use('Solarize_Light2')"
   ]
  },
  {
   "cell_type": "markdown",
   "metadata": {},
   "source": [
    "# Lecture 1 Exercises"
   ]
  },
  {
   "cell_type": "markdown",
   "metadata": {
    "slideshow": {
     "slide_type": "fragment"
    }
   },
   "source": [
    "  1. Complete the identity $$|c\\vec v| = $$ "
   ]
  },
  {
   "cell_type": "markdown",
   "metadata": {
    "jp-MarkdownHeadingCollapsed": true,
    "tags": []
   },
   "source": [
    "#### Solution"
   ]
  },
  {
   "cell_type": "markdown",
   "metadata": {},
   "source": [
    "Let $\\vec v = \\langle x,y,z \\rangle$. \n",
    "\n",
    "$$ |c\\vec v| = \\sqrt{(cx)^2 + (cy)^2 + (cz)^2} $$\n",
    "$$ = \\sqrt{(cx)^2 + (cy)^2 + (cz)^2} = \\sqrt{c^2(x^2 + y^2 + z^2)} $$\n",
    "$$ = |c|\\sqrt{x^2 + y^2 + z^2} = |c||\\vec v | $$ "
   ]
  },
  {
   "cell_type": "markdown",
   "metadata": {
    "slideshow": {
     "slide_type": "fragment"
    }
   },
   "source": [
    "### \n",
    "---\n",
    "  2. Find a **unit vector** (a vector of length 1) in the direction of $\\langle 3, 12, -4 \\rangle $."
   ]
  },
  {
   "cell_type": "markdown",
   "metadata": {
    "jp-MarkdownHeadingCollapsed": true,
    "tags": []
   },
   "source": [
    "#### Solution"
   ]
  },
  {
   "cell_type": "markdown",
   "metadata": {},
   "source": [
    "We normalize by multiplying by the reciprocal of the magnitude $|\\vec v| = \\sqrt{3^2 + 12^2 + 4^2} = 13$. \n",
    "\n",
    "$$\\vec u = \\frac{\\vec v}{|\\vec v|} = \\left\\langle \\frac{3}{13}, \\frac{12}{13}, -\\frac{4}{13} \\right\\rangle $$"
   ]
  },
  {
   "cell_type": "markdown",
   "metadata": {
    "slideshow": {
     "slide_type": "subslide"
    }
   },
   "source": [
    "### \n",
    "---\n",
    "3. Plot the the following linear combinations of the vectors $\\vec v = \\langle 3,1 \\rangle$ and $\\vec w = \\langle -2,2\\rangle$:\n",
    "      \n",
    "    1. $\\vec v+\\vec w$\n",
    "    2. $\\frac{\\vec v + \\vec w}{2}$\n",
    "    3. $2\\vec w - \\vec v$\n",
    "    4. $\\frac 14 \\vec v + \\frac34 \\vec w$"
   ]
  },
  {
   "cell_type": "markdown",
   "metadata": {
    "jp-MarkdownHeadingCollapsed": true,
    "tags": []
   },
   "source": [
    "#### Solution"
   ]
  },
  {
   "cell_type": "code",
   "execution_count": 13,
   "metadata": {
    "jupyter": {
     "source_hidden": true
    }
   },
   "outputs": [
    {
     "data": {
      "image/png": "[encoded data removed]",
      "text/plain": [
       "<Figure size 432x432 with 1 Axes>"
      ]
     },
     "metadata": {},
     "output_type": "display_data"
    }
   ],
   "source": [
    "plt.figure(figsize=(6,6))\n",
    "v = np.array([3,1])\n",
    "w = np.array([-2,2])\n",
    "\n",
    "for u in [v, w, v + w, v/2 + w/2, 2*w - v, v/4 + 3*w/4]:\n",
    "    plt.arrow(0,0,u[0],u[1],length_includes_head=True,head_width=.2,color=np.random.rand(3))\n",
    "plt.grid(True)\n",
    "plt.xlim(-5,5)\n",
    "plt.ylim(-5,5);"
   ]
  },
  {
   "cell_type": "markdown",
   "metadata": {},
   "source": [
    "### \n",
    "---\n",
    "4. Find all point $(x,y)$ whose distance to $(0,2)$ is equal to the distance to the $x$-axis."
   ]
  },
  {
   "cell_type": "markdown",
   "metadata": {
    "jp-MarkdownHeadingCollapsed": true,
    "tags": []
   },
   "source": [
    "#### Solution"
   ]
  },
  {
   "cell_type": "markdown",
   "metadata": {},
   "source": [
    "We set up the equation via the distance formula: $$\\sqrt(x^2 + (y-2)^2} = |y|$$\n",
    "\n",
    "Square both sides to get \n",
    "\n",
    "$$ x^2 + (y-2)^2 = y^2$$ and simplify to the equation of the parabola $$y = \\frac14 x^2 + 1$$"
   ]
  },
  {
   "cell_type": "code",
   "execution_count": 15,
   "metadata": {
    "jupyter": {
     "source_hidden": true
    }
   },
   "outputs": [
    {
     "data": {
      "image/png": "[encoded data removed]",
      "text/plain": [
       "<Figure size 432x288 with 1 Axes>"
      ]
     },
     "metadata": {},
     "output_type": "display_data"
    }
   ],
   "source": [
    "x = np.linspace(-2,2,100)\n",
    "plt.plot(x,0*x)\n",
    "plt.scatter(0,2)\n",
    "plt.plot(x,x**2/4 + 1);\n"
   ]
  },
  {
   "cell_type": "code",
   "execution_count": null,
   "metadata": {},
   "outputs": [],
   "source": []
  }
 ],
 "metadata": {
  "kernelspec": {
   "display_name": "Python 3 (ipykernel)",
   "language": "python",
   "name": "python3"
  },
  "language_info": {
   "codemirror_mode": {
    "name": "ipython",
    "version": 3
   },
   "file_extension": ".py",
   "mimetype": "text/x-python",
   "name": "python",
   "nbconvert_exporter": "python",
   "pygments_lexer": "ipython3",
   "version": "3.9.9"
  }
 },
 "nbformat": 4,
 "nbformat_minor": 4
}
