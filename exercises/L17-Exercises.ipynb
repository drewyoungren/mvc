{
 "cells": [
  {
   "cell_type": "code",
   "execution_count": 3,
   "metadata": {},
   "outputs": [],
   "source": [
    "import numpy as np\n",
    "import matplotlib.pyplot as plt\n",
    "from IPython.display import display, HTML, IFrame\n",
    "from ipywidgets import interact,fixed\n",
    "# import pandas as pd\n",
    "from mpl_toolkits import mplot3d\n",
    "\n",
    "plt.rcParams[\"figure.figsize\"] = [10, 10]\n",
    "\n",
    "from numpy.linalg import norm\n",
    "from numpy import cos,sin,tan,arctan,exp,log,pi,sqrt,arccos,linspace,array,arange,meshgrid,abs\n",
    "\n",
    "from scipy.integrate import quad,dblquad,tplquad\n",
    "\n",
    "%matplotlib inline\n",
    "\n",
    "# Uncomment the one that corresponds to your Jupyter theme\n",
    "plt.style.use('dark_background')\n",
    "# plt.style.use('fivethirtyeight')\n",
    "# plt.style.use('Solarize_Light2')"
   ]
  },
  {
   "cell_type": "markdown",
   "metadata": {},
   "source": [
    "## Triple Integral Example\n",
    "\n",
    "Express the triple integral $\\iiint_E f\\,dV$ as an iterated integral where $E$ is the region above the $xy$-plane and below the surfaces $z=2-x$ and $z=1-y^2$ and $x \\geq 0$."
   ]
  },
  {
   "cell_type": "markdown",
   "metadata": {},
   "source": [
    "<p style=\"padding-bottom:40%;\"> </p>"
   ]
  },
  {
   "cell_type": "markdown",
   "metadata": {
    "slideshow": {
     "slide_type": "subslide"
    }
   },
   "source": [
    "## Example\n",
    "\n",
    "Find the mass of a right cone with height $h$ and radius (at base) $R$. and uniform density $\\rho$."
   ]
  },
  {
   "cell_type": "code",
   "execution_count": 4,
   "metadata": {
    "hide_input": true,
    "jupyter": {
     "source_hidden": true
    },
    "tags": []
   },
   "outputs": [
    {
     "data": {
      "application/vnd.jupyter.widget-view+json": {
       "model_id": "c689314bb37a413f99c4667b2e0e9351",
       "version_major": 2,
       "version_minor": 0
      },
      "text/plain": [
       "interactive(children=(IntSlider(value=42, description='angle', max=90, step=6), Output()), _dom_classes=('widg…"
      ]
     },
     "metadata": {},
     "output_type": "display_data"
    }
   ],
   "source": [
    "@interact\n",
    "def _(angle=(0,90,6)):\n",
    "    fig = plt.figure(figsize=(10,10))\n",
    "    ax=fig.add_subplot(111,projection='3d')\n",
    "    ax.view_init(angle,30)\n",
    "    u = v = np.linspace(0,1,100)\n",
    "    u,v = np.meshgrid(u,v)\n",
    "\n",
    "    ax.plot_surface(sin(1)*u*cos(2*pi*v),sin(1)*u*sin(2*pi*v),2-2*u,alpha=.2,color='g')\n",
    "    ax.plot_wireframe(sin(1)*u*cos(2*pi*v),sin(1)*u*sin(2*pi*v),2-2*u,alpha=1,ccount=10,rcount=10)\n",
    "    ax.plot([-1,1],[0,0],[0,0],'k',lw=3)\n",
    "    ax.plot([0,0],[-1,1],[0,0],'k',lw=3)\n",
    "    ax.plot([0,0],[0,0],[0,2],'k',lw=3)\n",
    "    for c in 'xyz':\n",
    "#         getattr(ax,f\"set_{c}lim\")([-1,1]);    \n",
    "        getattr(ax,f\"set_{c}label\")(f\"${c}$\",size=16)\n",
    "    "
   ]
  },
  {
   "cell_type": "markdown",
   "metadata": {
    "slideshow": {
     "slide_type": "subslide"
    }
   },
   "source": [
    "<br>\n",
    "<div style=\"background:#cfcfee\">**Caution!** When doing these sorts of applications, do not confuse the density $\\rho$ with the polar coordinate $\\rho$. Choose variables wisely.</div>"
   ]
  },
  {
   "cell_type": "markdown",
   "metadata": {
    "slideshow": {
     "slide_type": "subslide"
    }
   },
   "source": [
    "Find the moment of inertia relative to its central axis in terms of its mass $M$."
   ]
  },
  {
   "cell_type": "markdown",
   "metadata": {
    "hide_input": true,
    "slideshow": {
     "slide_type": "subslide"
    }
   },
   "source": [
    "## Example\n",
    "\n",
    "Find the volume of the following \"stadium\". The inner wall is part of a sphere of radius 2 and the outer wall is a cylinder of radius 4 and has height 4."
   ]
  },
  {
   "cell_type": "code",
   "execution_count": 5,
   "metadata": {
    "hide_input": true,
    "jupyter": {
     "source_hidden": true
    },
    "tags": []
   },
   "outputs": [
    {
     "data": {
      "application/vnd.jupyter.widget-view+json": {
       "model_id": "424becb996f9448eb5672ea9feaa68b4",
       "version_major": 2,
       "version_minor": 0
      },
      "text/plain": [
       "interactive(children=(IntSlider(value=42, description='angle', max=90, step=6), IntSlider(value=42, descriptio…"
      ]
     },
     "metadata": {},
     "output_type": "display_data"
    }
   ],
   "source": [
    "@interact\n",
    "def _(angle=(0,90,6),vangle=(0,90,6)):\n",
    "    tilt = 23.5*pi/180\n",
    "    fig = plt.figure(figsize=(10,10))\n",
    "    ax=fig.add_subplot(111,projection='3d')\n",
    "    ax.view_init(vangle,angle)\n",
    "    u = np.linspace(0,1,100)\n",
    "    v = np.linspace(1/4,1,70)\n",
    "    u,v = np.meshgrid(u,v)\n",
    "\n",
    "    ax.plot_wireframe(2*sin(pi/4 + pi/4*u)*cos(2*pi*v),2*sin(pi/4 + pi/4*u)*sin(2*pi*v),2*cos(pi/4 + pi/4*u),alpha=1,rcount=12,ccount = 6)\n",
    "    ax.plot_surface(2*sin(pi/4 + pi/4*u)*cos(2*pi*v),2*sin(pi/4 + pi/4*u)*sin(2*pi*v),2*cos(pi/4 + pi/4*u),alpha=.2,color='g')\n",
    "    ax.plot_wireframe((2+(4*sqrt(2) - 2)*u)*sin(pi/4)*cos(2*pi*v),(2+(4*sqrt(2) - 2)*u)*sin(pi/4)*sin(2*pi*v),(2+(4*sqrt(2) - 2)*u)*cos(pi/4),alpha=1,rcount=12,ccount = 6)\n",
    "    ax.plot_surface((2+(4*sqrt(2) - 2)*u)*sin(pi/4)*cos(2*pi*v),(2+(4*sqrt(2) - 2)*u)*sin(pi/4)*sin(2*pi*v),(2+(4*sqrt(2) - 2)*u)*cos(pi/4),alpha=.2,color='g')\n",
    "    ax.plot_wireframe(4*cos(2*pi*v),4*sin(2*pi*v),4*u,alpha=1,rcount=12,ccount = 6)\n",
    "    ax.plot_surface(4*cos(2*pi*v),4*sin(2*pi*v),4*u,alpha=.2,color='g')\n",
    "    ax.plot([-4,4],[0,0],[0,0],'k',lw=3)\n",
    "    ax.plot([0,0],[-4,4],[0,0],'k',lw=3)\n",
    "    ax.plot([0,0],[0,0],[0,8],'k',lw=3)\n",
    "    for c in 'xyz':\n",
    "#         getattr(ax,f\"set_{c}lim\")([-1,1]);    \n",
    "        getattr(ax,f\"set_{c}label\")(f\"${c}$\",size=16)\n",
    "    "
   ]
  },
  {
   "cell_type": "markdown",
   "metadata": {
    "slideshow": {
     "slide_type": "subslide"
    }
   },
   "source": [
    "## Example\n",
    "\n",
    "The Earth has a mass of roughly $6\\times10^{24}$ kg. Assuming it's uniformly dense, what is the mass of the portion above the arctic circle ($66.5^\\circ$N)?"
   ]
  },
  {
   "cell_type": "code",
   "execution_count": 6,
   "metadata": {
    "hide_input": true,
    "jupyter": {
     "source_hidden": true
    },
    "tags": []
   },
   "outputs": [
    {
     "data": {
      "application/vnd.jupyter.widget-view+json": {
       "model_id": "ad7a6b2773524f8592c7c0571d87b65a",
       "version_major": 2,
       "version_minor": 0
      },
      "text/plain": [
       "interactive(children=(IntSlider(value=42, description='angle', max=90, step=6), Output()), _dom_classes=('widg…"
      ]
     },
     "metadata": {},
     "output_type": "display_data"
    }
   ],
   "source": [
    "@interact\n",
    "def _(angle=(0,90,6)):\n",
    "    tilt = 23.5*pi/180\n",
    "    fig = plt.figure(figsize=(10,10))\n",
    "    ax=fig.add_subplot(111,projection='3d')\n",
    "    ax.view_init(angle,30)\n",
    "    u = v = np.linspace(0,1,100)\n",
    "    u,v = np.meshgrid(u,v)\n",
    "\n",
    "    ax.plot_wireframe(sin(tilt*u)*cos(2*pi*v),sin(tilt*u)*sin(2*pi*v),cos(tilt*u),alpha=1,rcount=10,ccount = 5)\n",
    "    ax.plot_wireframe(sin((1-u)*tilt + pi*u)*cos(2*pi*v),sin((1-u)*tilt + pi*u)*sin(2*pi*v),cos((1-u)*tilt + pi*u),rcount=10,ccount = np.ceil(5*(pi-tilt)/tilt),alpha=.4)\n",
    "    ax.plot_surface(sin(tilt*u)*cos(2*pi*v),sin(tilt*u)*sin(2*pi*v),0*u + cos(tilt),alpha=.3,color='g')\n",
    "    ax.plot([-1,1],[0,0],[0,0],'k',lw=3)\n",
    "    ax.plot([0,0],[-1,1],[0,0],'k',lw=3)\n",
    "    ax.plot([0,0],[0,0],[-1,1],'k',lw=3)\n",
    "    for c in 'xyz':\n",
    "#         getattr(ax,f\"set_{c}lim\")([-1,1]);    \n",
    "        getattr(ax,f\"set_{c}label\")(f\"${c}$\",size=16)\n",
    "    "
   ]
  },
  {
   "cell_type": "code",
   "execution_count": 7,
   "metadata": {},
   "outputs": [],
   "source": [
    "alpha = 23.5*pi/180"
   ]
  },
  {
   "cell_type": "code",
   "execution_count": 8,
   "metadata": {},
   "outputs": [],
   "source": [
    "R = 6371"
   ]
  },
  {
   "cell_type": "code",
   "execution_count": 9,
   "metadata": {},
   "outputs": [
    {
     "data": {
      "text/plain": [
       "(5434055746.573573, 6.0330138069426253e-05)"
      ]
     },
     "execution_count": 9,
     "metadata": {},
     "output_type": "execute_result"
    }
   ],
   "source": [
    "tplquad(lambda rho, ph, th: rho**2*sin(ph),0,2*pi,0,alpha,lambda th,ph: R*cos(alpha)/cos(ph),R)"
   ]
  },
  {
   "cell_type": "markdown",
   "metadata": {
    "slideshow": {
     "slide_type": "subslide"
    }
   },
   "source": [
    "## Exercise\n",
    "\n",
    "Set up a triple integral to find the volume of a torus with radii $a < b$."
   ]
  },
  {
   "cell_type": "code",
   "execution_count": 10,
   "metadata": {
    "hide_input": false,
    "jupyter": {
     "source_hidden": true
    },
    "tags": []
   },
   "outputs": [
    {
     "data": {
      "application/vnd.jupyter.widget-view+json": {
       "model_id": "24b6757d6f134a37b1d32ff05fc4df45",
       "version_major": 2,
       "version_minor": 0
      },
      "text/plain": [
       "interactive(children=(IntSlider(value=42, description='angle', max=90, step=6), Output()), _dom_classes=('widg…"
      ]
     },
     "metadata": {},
     "output_type": "display_data"
    }
   ],
   "source": [
    "@interact\n",
    "def _(angle=(0,90,6)):\n",
    "    tilt = 23.5*pi/180\n",
    "    fig = plt.figure(figsize=(10,10))\n",
    "    ax=fig.add_subplot(111,projection='3d')\n",
    "    ax.view_init(angle,30)\n",
    "    u = v = np.linspace(0,1,100)\n",
    "    u,v = np.meshgrid(u,v)\n",
    "\n",
    "    ax.plot_wireframe((1+1/2*sin(2*pi*u))*cos(2*pi*v),(1+1/2*sin(2*pi*u))*sin(2*pi*v),(1/2*cos(2*pi*u)),alpha=1,rcount=10,ccount = 10)\n",
    "    ax.plot_surface((1+1/2*sin(2*pi*u))*cos(2*pi*v),(1+1/2*sin(2*pi*u))*sin(2*pi*v),(1/2*cos(2*pi*u)),alpha=.3,color='g')\n",
    "    ax.plot([-1.5,1.5],[0,0],[0,0],'k',lw=3)\n",
    "    ax.plot([0,0],[-1.5,1.5],[0,0],'k',lw=3)\n",
    "    ax.plot([0,0],[0,0],[-1.5,1.5],'k',lw=3)\n",
    "    for c in 'xyz':\n",
    "#         getattr(ax,f\"set_{c}lim\")([-1,1]);    \n",
    "        getattr(ax,f\"set_{c}label\")(f\"${c}$\",size=16)\n",
    "    "
   ]
  },
  {
   "cell_type": "markdown",
   "metadata": {},
   "source": [
    "<div style=\"padding-bottom: 40%\"></div>"
   ]
  },
  {
   "cell_type": "markdown",
   "metadata": {},
   "source": [
    "## Exercise\n",
    "\n",
    "Sketch the region of integration and rewrite the following integral in $dy\\, dz\\, dx$ order.\n",
    "\n",
    "\n",
    "$$ \\int_0^1\\int_0^z\\int_z^1 f\\,dx\\,dy\\,dz $$"
   ]
  },
  {
   "cell_type": "code",
   "execution_count": 11,
   "metadata": {
    "hide_input": true,
    "jupyter": {
     "source_hidden": true
    },
    "slideshow": {
     "slide_type": "fragment"
    },
    "tags": []
   },
   "outputs": [
    {
     "data": {
      "application/vnd.jupyter.widget-view+json": {
       "model_id": "90f5fedab9b24cd0a445705bf9a18505",
       "version_major": 2,
       "version_minor": 0
      },
      "text/plain": [
       "interactive(children=(IntSlider(value=0, description='angle', max=90, step=6), IntSlider(value=42, description…"
      ]
     },
     "metadata": {},
     "output_type": "display_data"
    }
   ],
   "source": [
    "@interact(angle=(-0,90,6),a=(0.,1.,.05))\n",
    "def _(angle=-24,vangle=(0,90,6),a=0):\n",
    "    fig = plt.figure(figsize=(10,10))\n",
    "    ax= fig.add_subplot(111,projection='3d')\n",
    "    u = np.linspace(0,1,80)\n",
    "    v = np.linspace(0,1,80)\n",
    "    U,V = np.meshgrid(u,v)\n",
    "    X = U\n",
    "    Y = V\n",
    "    Z = np.ones_like(U)\n",
    "#     ax.plot_wireframe(X,Y,Z,rcount=20,ccount=20)\n",
    "#     ax.plot_surface(X,Y,0*X,rcount=20,ccount=20,color='gray',alpha=.4)\n",
    "    ax.view_init(vangle,angle)\n",
    "    \n",
    "    ax.plot_wireframe(U,V*(U),U,rcount=20,ccount=20,alpha=a)\n",
    "    ax.plot_wireframe(U*0+1,V*(U),U,rcount=20,ccount=20,alpha=a)\n",
    "    ax.plot_wireframe(U+V*(1-U),U,U,rcount=20,ccount=20,alpha=a)\n",
    "    ax.plot_surface(U,0*X,V*(U),rcount=20,ccount=20,color='gray',alpha=.4)\n",
    "    ax.plot_surface(U*0,U,U+V*(1-U),rcount=20,ccount=20,color='gray',alpha=.4)\n",
    "\n",
    "    for c in 'xyz':\n",
    "#         getattr(ax,f\"set_{c}lim\")([-1,1]);    \n",
    "        getattr(ax,f\"set_{c}label\")(f\"${c}$\",size=16)\n",
    "    "
   ]
  },
  {
   "cell_type": "code",
   "execution_count": null,
   "metadata": {},
   "outputs": [],
   "source": []
  }
 ],
 "metadata": {
  "kernelspec": {
   "display_name": "Python 3",
   "language": "python",
   "name": "python3"
  },
  "language_info": {
   "codemirror_mode": {
    "name": "ipython",
    "version": 3
   },
   "file_extension": ".py",
   "mimetype": "text/x-python",
   "name": "python",
   "nbconvert_exporter": "python",
   "pygments_lexer": "ipython3",
   "version": "3.9.2"
  }
 },
 "nbformat": 4,
 "nbformat_minor": 4
}
