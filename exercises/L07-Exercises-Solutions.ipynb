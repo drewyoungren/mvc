{
 "cells": [
  {
   "cell_type": "code",
   "execution_count": 3,
   "metadata": {},
   "outputs": [],
   "source": [
    "import numpy as np\n",
    "import matplotlib.pyplot as plt\n",
    "from IPython.display import display, HTML, IFrame\n",
    "from ipywidgets import interact,fixed\n",
    "import pandas as pd\n",
    "from numpy import cos,sin,pi,tan,log,exp,sqrt,array,linspace,arange\n",
    "from mpl_toolkits import mplot3d\n",
    "# from mpl_toolkits.mplot3d.art3d import Poly3DCollection\n",
    "\n",
    "from ipywidgets import interact\n",
    "\n",
    "plt.rcParams[\"figure.figsize\"] = [7,7]\n",
    "\n",
    "from numpy.linalg import norm\n",
    "\n",
    "%matplotlib inline\n",
    "\n",
    "# Uncomment the one that corresponds to your Jupyter theme\n",
    "plt.style.use('dark_background')\n",
    "# plt.style.use('fivethirtyeight')\n",
    "# plt.style.use('Solarize_Light2')"
   ]
  },
  {
   "cell_type": "markdown",
   "metadata": {},
   "source": [
    "$\\renewcommand{\\vec}{\\mathbf}$"
   ]
  },
  {
   "cell_type": "markdown",
   "metadata": {
    "hide_input": false,
    "slideshow": {
     "slide_type": "subslide"
    }
   },
   "source": [
    "## Exercises\n",
    "\n",
    "For each function below, \n",
    "  - find the domain,\n",
    "  - make a contour plot with appropriate levels, and\n",
    "  - if possible, sketch a graph.\n",
    "\n",
    "&nbsp;\n",
    "  1. $\\displaystyle xy$\n",
    "  1. $\\displaystyle x \\sin y$\n",
    "  1. $\\displaystyle \\sqrt{4-x^2-y^2}$\n",
    "  1. $\\displaystyle \\ln (x^2 + y^2)$\n",
    "  1. $\\displaystyle 2^{x-y}$"
   ]
  },
  {
   "cell_type": "code",
   "execution_count": 4,
   "metadata": {
    "hide_input": true,
    "jupyter": {
     "source_hidden": true
    },
    "slideshow": {
     "slide_type": "fragment"
    }
   },
   "outputs": [
    {
     "data": {
      "application/vnd.jupyter.widget-view+json": {
       "model_id": "7611487bfaf5417a9bcd7feae4c28ff2",
       "version_major": 2,
       "version_minor": 0
      },
      "text/plain": [
       "interactive(children=(FloatSlider(value=0.5, description='lev', max=1.0, min=0.01, step=0.01), Dropdown(descri…"
      ]
     },
     "metadata": {},
     "output_type": "display_data"
    }
   ],
   "source": [
    "f = lambda x,y: x*y\n",
    "g = lambda x,y: x*sin(y)\n",
    "h = lambda x,y: sqrt(4-x**2-y**2)\n",
    "k = lambda x,y: log(x**2+y**2)\n",
    "l = lambda x,y: exp((x-y)*log(2))\n",
    "\n",
    "\n",
    "@interact\n",
    "def _(lev=(0.01,1.,.01),prob={\"1\":[f,r\"$z = x y$\"],\"2\":[g,r\"$z = x \\sin(y)$\"],\"3\":[h,r\"$z = \\sqrt{4-x^2-y^2}$\"],\"4\":[k,r\"$z = \\ln (x^2+y^2)$\"],\"5\":[l,r\"$z = 2^{x-y}$\"]},angle=(-90,120,6),vangle=(0,90,6)):\n",
    "    func,fs = prob\n",
    "    fig = plt.figure(figsize = (12,6))\n",
    "    ax = fig.add_subplot(121,projection='3d')\n",
    "    ax.view_init(vangle,angle)\n",
    "    for c in 'xyz':\n",
    "#         getattr(ax,f\"set_{c}lim\")([-1,1]);    \n",
    "        getattr(ax,f\"set_{c}label\")(f\"${c}$\",size=16)\n",
    "    x = y = np.linspace(-1,1,400)\n",
    "    X,Y = np.meshgrid(x,y)\n",
    "    if func == h:\n",
    "        x = np.linspace(0,2*pi,100)\n",
    "        y = np.linspace(0,1.99,100)\n",
    "        x,y = np.meshgrid(x,y)\n",
    "        X = y*cos(x)\n",
    "        Y = y*sin(x)\n",
    "        ax.set_zlim3d([0,4])\n",
    "    else:\n",
    "        X = 5*X\n",
    "        Y = 5*Y\n",
    "    Z = func(X,Y)\n",
    "#     ax.set_autoscale_on(True)\n",
    "    ax.plot_surface(X,Y,Z,alpha=.3,cmap='viridis',rcount=75,ccount=75);\n",
    "    k = np.max(Z)*(lev)+(1-lev)*np.min(Z)\n",
    "    ax.contour(X,Y,Z,offset=k,levels=[k],colors=['red'])\n",
    "    fig.suptitle(fs,fontsize=17)\n",
    "    ax2 = fig.add_subplot(122)\n",
    "    cp = ax2.contour(X,Y,Z,cmap='viridis');\n",
    "    # fig.colorbar(cp); # for colorbar reference\n",
    "    ax2.clabel(cp,fmt='%1.1f'); # inline counour labels.\n",
    "    cp2 = ax2.contour(X,Y,Z,levels=[k],colors=['red'])\n",
    "    ax2.clabel(cp2,fmt='%1.1f'); # inline counour labels."
   ]
  },
  {
   "cell_type": "code",
   "execution_count": null,
   "metadata": {},
   "outputs": [],
   "source": []
  }
 ],
 "metadata": {
  "kernelspec": {
   "display_name": "Python 3",
   "language": "python",
   "name": "python3"
  },
  "language_info": {
   "codemirror_mode": {
    "name": "ipython",
    "version": 3
   },
   "file_extension": ".py",
   "mimetype": "text/x-python",
   "name": "python",
   "nbconvert_exporter": "python",
   "pygments_lexer": "ipython3",
   "version": "3.9.1"
  }
 },
 "nbformat": 4,
 "nbformat_minor": 4
}
