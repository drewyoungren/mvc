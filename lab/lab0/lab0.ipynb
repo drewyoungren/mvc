{
 "cells": [
  {
   "cell_type": "code",
   "execution_count": null,
   "id": "e2d2f67e",
   "metadata": {
    "deletable": false,
    "editable": false
   },
   "outputs": [],
   "source": [
    "# Initialize Otter\n",
    "import otter\n",
    "grader = otter.Notebook(\"lab0.ipynb\")"
   ]
  },
  {
   "cell_type": "markdown",
   "id": "d47bb8bc",
   "metadata": {},
   "source": [
    "# Lab 0 - Intro to Labs\n",
    "\n",
    "Welcome. The chief intent of these exercises is to apply and think about the week's material in a different way. Any technical skills acquired are incidental; practical value is not guaranteed.  \n",
    "\n",
    "Do start with the [basic tutorial](../../tutorial/Basics.ipynb) if you are unfamiliar with the structure of Jupyter notebooks. "
   ]
  },
  {
   "cell_type": "markdown",
   "id": "34b55108",
   "metadata": {},
   "source": [
    "## Objectives\n",
    "\n",
    "By the end of this lab, students should be able to \n",
    "  - represent vectors as NumPy `array`s\n",
    "  - perform vector operations in Python\n",
    "  - cite some use cases for convex combinations"
   ]
  },
  {
   "cell_type": "code",
   "execution_count": null,
   "id": "92f2afad",
   "metadata": {},
   "outputs": [],
   "source": [
    "# Import needed libraries at the outset. \n",
    "\n",
    "import numpy as np\n",
    "import matplotlib.pyplot as plt\n",
    "import ipywidgets as widgets\n",
    "\n",
    "from numpy import sin, cos, pi, sqrt, exp, log, array, linspace, arange\n",
    "import matplotlib.image as mpimg\n",
    "from matplotlib.animation import FuncAnimation\n",
    "from matplotlib.colors import hsv_to_rgb\n",
    "\n",
    "from IPython.display import HTML, Markdown\n",
    "\n",
    "# Uncomment this if you are using Dark Mode\n",
    "plt.style.use('default')\n",
    "# plt.style.use('dark_background')\n",
    "\n",
    "rng_seed = 90210"
   ]
  },
  {
   "cell_type": "markdown",
   "id": "3d38b4a4",
   "metadata": {},
   "source": [
    "## Vectors"
   ]
  },
  {
   "cell_type": "markdown",
   "id": "d340093d",
   "metadata": {},
   "source": [
    "In the basics tutorial, we have only looked at scalars and scalar operations. To move up to vectors, we will invoke the [NumPy](https://www.numpy.org/)  (pronounce however you feel is most fun) library. We invoked it above, using the conventional abbreviation `np`. We can then access its vast wealth of mathematical structures using `np.xxxxx` notation."
   ]
  },
  {
   "cell_type": "markdown",
   "id": "26fd59b0",
   "metadata": {},
   "source": [
    "For vectors, we are going to use a structure called a \"NumPy array\" which is actually a bit more generic and can be used for things like matrices and tensors as well, but we will stick to vectors. \n",
    "\n",
    "A vector or $\\vec v = \\langle 1,2,4\\rangle$ is declared this way."
   ]
  },
  {
   "cell_type": "code",
   "execution_count": null,
   "id": "2e8e5de5",
   "metadata": {
    "scrolled": true
   },
   "outputs": [],
   "source": [
    "v = np.array([1,2,4])"
   ]
  },
  {
   "cell_type": "markdown",
   "id": "31eddcaa",
   "metadata": {},
   "source": [
    "**Note.** Note the the double sets of delimeters. We pass a list (tuple) object to the array function to make a vector. \n",
    "\n",
    "### Why not just use lists?\n",
    "\n",
    "The expression `[1,2,4]` is a valid Python object (a list), but there is a good reason we don't use those as vectors. Observe:"
   ]
  },
  {
   "cell_type": "code",
   "execution_count": null,
   "id": "16b52c5e",
   "metadata": {},
   "outputs": [],
   "source": [
    "[1,2,4] + [7,6,8]"
   ]
  },
  {
   "cell_type": "markdown",
   "id": "eef8df0c",
   "metadata": {},
   "source": [
    "Useful for sure, but maybe not what we want mathematically. Python knows to reat numpy arrays as numerical objects"
   ]
  },
  {
   "cell_type": "code",
   "execution_count": null,
   "id": "72de446f",
   "metadata": {},
   "outputs": [],
   "source": [
    "w = np.array([7,6,8])"
   ]
  },
  {
   "cell_type": "markdown",
   "id": "ab90ba16",
   "metadata": {},
   "source": [
    "Now we can compute with `v` and `w`. "
   ]
  },
  {
   "cell_type": "code",
   "execution_count": null,
   "id": "1896432b",
   "metadata": {},
   "outputs": [],
   "source": [
    "v+w"
   ]
  },
  {
   "cell_type": "markdown",
   "id": "febd166d",
   "metadata": {},
   "source": [
    "### Vector operations\n",
    "\n",
    "We can accomplish our basic vector operations with relative ease. \n",
    "\n",
    "_We haven't seen all of these yet, so don't panic, but we will shortly._"
   ]
  },
  {
   "cell_type": "markdown",
   "id": "7fa0efb5",
   "metadata": {},
   "source": [
    "|mathematics     | Python  | decripion     |\n",
    "|----------------|----------------|----------------|\n",
    "| $\\vec v + \\vec w $ | `v + w`| vector addition |\n",
    "| $\\vec v - \\vec w $ | `v - w`| vector subtraction |\n",
    "| $ - \\vec w $ | `-w`|  negation | \n",
    "| $c \\vec v $ | `c * w`| scalar multiplication |\n",
    "| $\\vec v \\cdot \\vec w $ | `np.dot(v,w)`| dot product |\n",
    "| $\\vec v \\times \\vec w $ | `np.cross(v,w)`| cross product |"
   ]
  },
  {
   "cell_type": "code",
   "execution_count": null,
   "id": "dd760df6",
   "metadata": {
    "scrolled": true
   },
   "outputs": [],
   "source": [
    "v + w"
   ]
  },
  {
   "cell_type": "code",
   "execution_count": null,
   "id": "a1369ca7",
   "metadata": {},
   "outputs": [],
   "source": [
    "v - w"
   ]
  },
  {
   "cell_type": "code",
   "execution_count": null,
   "id": "84b7b292",
   "metadata": {},
   "outputs": [],
   "source": [
    "-w"
   ]
  },
  {
   "cell_type": "code",
   "execution_count": null,
   "id": "5738b2f8",
   "metadata": {},
   "outputs": [],
   "source": [
    "6 * v"
   ]
  },
  {
   "cell_type": "code",
   "execution_count": null,
   "id": "840218f3",
   "metadata": {},
   "outputs": [],
   "source": [
    "# it is smart enough\n",
    "v * 3"
   ]
  },
  {
   "cell_type": "markdown",
   "id": "ea222d48",
   "metadata": {},
   "source": [
    "#### Question 1\n",
    "\n",
    "1. Find the position vector for the midpoint of positions $\\vec u$ and $\\vec w$ and assign it to the variable `mid_point`. \n",
    "2. Find the position vector for the point 90% of the way from position $\\vec w$ to position $\\vec v$ and assign it to `ninety_pct`.\n",
    "\n",
    "**WARNING**. Use the variables, not the numeric values, in your expressions as the random seed will change in the grader. "
   ]
  },
  {
   "cell_type": "code",
   "execution_count": null,
   "id": "0884b833",
   "metadata": {
    "tags": []
   },
   "outputs": [],
   "source": [
    "np.random.seed(rng_seed)\n",
    "\n",
    "v, w = np.random.rand(2, 3)\n",
    "\n",
    "mid_point = ...\n",
    "ninety_pct = ..."
   ]
  },
  {
   "cell_type": "code",
   "execution_count": null,
   "id": "fb33cf46",
   "metadata": {
    "deletable": false,
    "editable": false
   },
   "outputs": [],
   "source": [
    "grader.check(\"q1\")"
   ]
  },
  {
   "cell_type": "markdown",
   "id": "7880ce69",
   "metadata": {},
   "source": [
    "#### Question 2\n",
    "\n",
    "Find the centroid of the triangle with vertices at positions $\\vec u$, $\\vec v$, and $\\vec w$. Store this as the variable `uvw_centroid`. (*The **centroid** of a triangle is the intersection of its medians, which it can be shown always is $2/3$ the way from a vertex to the midpoint of the opposite side.*) "
   ]
  },
  {
   "cell_type": "code",
   "execution_count": null,
   "id": "2e16a31d",
   "metadata": {
    "tags": []
   },
   "outputs": [],
   "source": [
    "np.random.seed(rng_seed)\n",
    "\n",
    "u, v, w = np.random.rand(3, 3)\n",
    "\n",
    "uvw_centroid= ...\n"
   ]
  },
  {
   "cell_type": "code",
   "execution_count": null,
   "id": "32bcdb43",
   "metadata": {
    "deletable": false,
    "editable": false
   },
   "outputs": [],
   "source": [
    "grader.check(\"q2\")"
   ]
  },
  {
   "cell_type": "markdown",
   "id": "7e2cf062",
   "metadata": {},
   "source": [
    "## Plotting vectors"
   ]
  },
  {
   "cell_type": "markdown",
   "id": "0dbfc2b3",
   "metadata": {},
   "source": [
    "One of the most popular plotting packpages for Python is [matplotlib](https://matplotlib.org/). It is powerful, but pretty far from being intuitive to use. We will wade in slowly. "
   ]
  },
  {
   "cell_type": "code",
   "execution_count": null,
   "id": "967e7ee3",
   "metadata": {},
   "outputs": [],
   "source": [
    "## This is an import block for matplotlib. Normally we will do this in the first cell of the notebook.\n",
    "\n",
    "%matplotlib inline\n",
    "import matplotlib.pyplot as plt"
   ]
  },
  {
   "cell_type": "code",
   "execution_count": null,
   "id": "6f96cca3",
   "metadata": {},
   "outputs": [],
   "source": [
    "# Draw a vector from the origin to (1,2)\n",
    "\n",
    "plt.arrow(0,0,1,2);"
   ]
  },
  {
   "cell_type": "code",
   "execution_count": null,
   "id": "cd3f5060",
   "metadata": {},
   "outputs": [],
   "source": [
    "# Draw a vector from the origin to (1,2), in blue, make the window bigger, and label axes.\n",
    "\n",
    "plt.arrow(0,0,1,2,color='b',length_includes_head=True,head_width=.1);\n",
    "plt.xlim([-3,3])\n",
    "plt.ylim([-3,3])\n",
    "plt.xlabel(\"$x$\")\n",
    "plt.ylabel(\"$y$\")\n",
    "plt.title(\"A Vector\");"
   ]
  },
  {
   "cell_type": "markdown",
   "id": "97184874",
   "metadata": {},
   "source": [
    "That's a bit better, but a lot of code for a simple thing. Let's make our lives a bit easier and define a function to do this."
   ]
  },
  {
   "cell_type": "code",
   "execution_count": null,
   "id": "b358dba7",
   "metadata": {},
   "outputs": [],
   "source": [
    "def plot_vector(v,base=(0,0),**kwargs):\n",
    "    \"\"\"Plots a vector `v` with tail at the point `base` (defaults to origin).\"\"\"\n",
    "    return plt.arrow(base[0],base[1],v[0],v[1],length_includes_head=True,head_width=.2,**kwargs)"
   ]
  },
  {
   "cell_type": "code",
   "execution_count": null,
   "id": "fe478e13",
   "metadata": {},
   "outputs": [],
   "source": [
    "v = np.array([-1.5,2.5])\n",
    "w = np.array([3,4])\n",
    "\n",
    "plt.gca().set_aspect('equal', adjustable='box')\n",
    "\n",
    "plt.xlim([-5,5])\n",
    "plt.ylim([-5,5])\n",
    "plt.xlabel(\"$x$\")\n",
    "plt.ylabel(\"$y$\")\n",
    "plt.title(\"A Vector\");\n",
    "plt.grid(True)\n",
    "\n",
    "plot_vector(v,color='r')\n",
    "plot_vector(v,base=(3,-1),color='b')\n",
    "a3 = plot_vector(v,base=(-2,2),color='purple')"
   ]
  },
  {
   "cell_type": "code",
   "execution_count": null,
   "id": "e6d1c56a",
   "metadata": {},
   "outputs": [],
   "source": [
    "plt.gca().set_aspect('equal', adjustable='box')\n",
    "plot_vector(v,color='r')\n",
    "plot_vector(w,color='b')\n",
    "plot_vector(v+w,color='purple')\n",
    "plot_vector(v - w, base=w); # semicolon on last line suppresses printing return value."
   ]
  },
  {
   "cell_type": "markdown",
   "id": "cedcb16a",
   "metadata": {},
   "source": [
    "## Convex Combinations"
   ]
  },
  {
   "cell_type": "markdown",
   "id": "788844a9",
   "metadata": {},
   "source": [
    "A **convex combination** of vectors is a linear combination in which all the scaling factors add to 1. For two vectors, that means something of the form $$(1 - t) \\vec v + t \\vec w.$$\n",
    "\n",
    "We could think of this as a *weighted average*, a *linear interpolation* or, alternatively as a parameterized path from $\\vec v$ to $\\vec w$ as $t$ goes from 0 to 1.\n",
    "\n",
    "### Linear segments\n",
    "\n",
    "If $\\vec v$ and $\\vec w$ are positions of endpoints, we can descibe the positions of the line segment between them with the combination above. \n",
    "\n",
    "The code below illustrates this. "
   ]
  },
  {
   "cell_type": "code",
   "execution_count": null,
   "id": "265cefde",
   "metadata": {},
   "outputs": [],
   "source": [
    "# plot the line segment\n",
    "plt.plot([v[0], w[0]], [v[1], w[1]])\n",
    "\n",
    "for t in linspace(0, 1, 15):\n",
    "    plot_vector((1 - t)*v + t*w, color='purple')\n",
    "\n",
    "plot_vector(v,color='r')\n",
    "plot_vector(w,color='b')\n",
    "\n",
    "plt.gca().set_aspect('equal')"
   ]
  },
  {
   "cell_type": "markdown",
   "id": "f8ef5600",
   "metadata": {},
   "source": [
    "So convex combinations are good for literally describing straight paths (line segments) in space, but more abstractly, you can think of them as a linear transition from one state to another. "
   ]
  },
  {
   "cell_type": "markdown",
   "id": "50b1c24a",
   "metadata": {},
   "source": [
    "### Images"
   ]
  },
  {
   "cell_type": "markdown",
   "id": "1dc45b71",
   "metadata": {},
   "source": [
    "To some extent, digital images are just themselves big vectors. We could thus use convex combinations to turn a frog into a prince. "
   ]
  },
  {
   "cell_type": "code",
   "execution_count": null,
   "id": "ec477115",
   "metadata": {},
   "outputs": [],
   "source": [
    "frog = mpimg.imread(\"frog.png\")\n",
    "prince = mpimg.imread(\"prince.png\")"
   ]
  },
  {
   "cell_type": "code",
   "execution_count": null,
   "id": "750a6fde",
   "metadata": {},
   "outputs": [],
   "source": [
    "@widgets.interact\n",
    "def _(t = (0,1,.01)):\n",
    "    plt.imshow((1 - t)*frog + t*prince)"
   ]
  },
  {
   "cell_type": "markdown",
   "id": "54c31bc0",
   "metadata": {},
   "source": [
    "*Note: The files here were prepped to compatible in in terms of dimension and format. It's not quite this simple for any two images.*"
   ]
  },
  {
   "cell_type": "markdown",
   "id": "25005310",
   "metadata": {},
   "source": [
    "### Animation\n",
    "\n",
    "We call a convex combination of the form above a **parameterization**. We'll hear this over and over. The parameter $t$ can represent all sorts of things. One is time. \n",
    "\n",
    "Let's make a simple animation of a triangle moving from one position to another. \n",
    "\n",
    "The key piece here is the `update` function, which draws the new position of the function based on a parameter. "
   ]
  },
  {
   "cell_type": "code",
   "execution_count": null,
   "id": "a5d9487e",
   "metadata": {},
   "outputs": [],
   "source": [
    "fig, ax = plt.subplots(figsize=(5,5))\n",
    "\n",
    "ax.set_xlim((0, 10))\n",
    "ax.set_ylim((0, 10))\n",
    "\n",
    "# Initial position\n",
    "u, v, w = array(((0,0), (2,0), (1,2)))\n",
    "\n",
    "# Final position\n",
    "u1, v1, w1 = array(((7,5), (9,5), (8,7)))\n",
    "\n",
    "# Set a list of blank polygons\n",
    "polys = plt.fill([], alpha = .5)\n",
    "\n",
    "# Pick the first\n",
    "poly = polys[0]\n",
    "\n",
    "def update(t):\n",
    "    \"\"\"Draw the polygon based on parameter value t.\"\"\"\n",
    "    poly.set_xy([(1 - t)*u + t*u1,\n",
    "                 (1 - t)*v + t*v1,\n",
    "                 (1 - t)*w + t*w1])\n",
    "\n",
    "def ax_init():\n",
    "    \"\"\"Reset axis.\"\"\"\n",
    "    update(0)\n",
    "    \n",
    "anim = FuncAnimation(fig, update, frames=linspace(0,1,72), interval=1000/24)\n",
    "\n",
    "plt.close()\n",
    "\n",
    "HTML(anim.to_html5_video())"
   ]
  },
  {
   "cell_type": "markdown",
   "id": "cea9828e",
   "metadata": {},
   "source": [
    "Compelling action, I know. Make it more exciting by making a new animation. This one, we'll save as a GIF."
   ]
  },
  {
   "cell_type": "markdown",
   "id": "7f6ad33f",
   "metadata": {},
   "source": [
    "<!-- BEGIN QUESTION -->\n",
    "\n",
    "#### Question 3\n",
    "\n",
    "Change the `update` function below to make an interesting GIF of your own design. \n",
    "\n",
    "![Closing hexagon example](hexample.gif) \n",
    "\n",
    "*Don't just imitate this example, and don't worry about making it complicated. Anything original that uses linear combinations of vectors will do.*\n",
    "\n",
    "You can add more polygons by setting `N` to a positive integer, and then within `update` edit the `n`th one's vertices by using the `polys[n].set_xy` method as in the example above. `poly[n].set_color` can optionally be used to change the color. \n"
   ]
  },
  {
   "cell_type": "code",
   "execution_count": null,
   "id": "a6af910e",
   "metadata": {
    "tags": []
   },
   "outputs": [],
   "source": [
    "fig, ax = plt.subplots(figsize=(5,5))\n",
    "\n",
    "ax.set_xlim((-2,2)) # Change the view window if you wish\n",
    "ax.set_ylim((-2,2)) # Change the view window if you wish\n",
    "\n",
    "# Turn off axis markers [OPTIONAL].\n",
    "ax.set_xticks([])\n",
    "ax.set_yticks([])\n",
    "\n",
    "# Set a list of blank polygons\n",
    "\n",
    "N = 6\n",
    "\n",
    "polys = plt.fill(*[[]]*2*N, alpha = .5)\n",
    "\n",
    "# Pick the first\n",
    "poly = polys[0]\n",
    "\n",
    "def update(t):\n",
    "    \"\"\"Draw the polygon(s) based on parameter value t.\"\"\"\n",
    "\n",
    "    poly.set_xy([\n",
    "        ...\n",
    "        ])\n",
    "    \n",
    "def ax_init():\n",
    "    \"\"\"Reset axis.\"\"\"\n",
    "    update(0)\n",
    "\n",
    "# You can adjust the length of the animation by altering the frames argument. \n",
    "anim = FuncAnimation(fig, update, frames=linspace(0,1,72), interval=1000/24)\n",
    "# anim = FuncAnimation(fig, update, frames=np.concatenate((linspace(0,4,288),linspace(4,0,288))), interval=1000/24)\n",
    "\n",
    "plt.close()\n",
    "\n",
    "anim.save(\"more_interesting.gif\")\n",
    "\n",
    "HTML(\"\"\"<img src=\"./more_interesting.gif\">\"\"\")"
   ]
  },
  {
   "cell_type": "markdown",
   "id": "ab88e9cb",
   "metadata": {},
   "source": [
    "<!-- END QUESTION -->\n",
    "\n",
    "### Maps\n",
    "\n",
    "Many applications of mathematics study maps—not atlas kind of maps—but functions that associate each point of the plane to another point, like shifting grains of sand on a board. The dimensions make these somewhat difficult to visualize, but one way to do it is draw a figure as a set of input points and use convex combinations to show it transitioning to its output position. This gives a sense of the map's action. In other words, we graph for each input/output pair a position $$(1 - t) \\mbox{ input} + t \\mbox{ output}$$\n",
    "and then vary the parameter $t$ from $0$ to $1$. \n",
    "\n",
    "**Note**. The interim values may have no physical meaning or significance other that showing where a point is going.\n",
    "\n",
    "For example consider the following map: $$f: (x, y) \\mapsto (x^2 - y^2, 2xy)$$\n",
    "\n",
    "Let's color a grid and then animate where points go under this map."
   ]
  },
  {
   "cell_type": "code",
   "execution_count": null,
   "id": "1111ea08",
   "metadata": {},
   "outputs": [],
   "source": [
    "%matplotlib widget\n",
    "\n",
    "fig, ax = plt.subplots(figsize = (7,7))\n",
    "\n",
    "ax.set_xlim([-2,2])\n",
    "ax.set_ylim([-2, 2])\n",
    "ax.grid(True)\n",
    "\n",
    "# plt.axis('equal')\n",
    "\n",
    "t = linspace(-1,1,100)\n",
    "\n",
    "lines = []\n",
    "\n",
    "for i in linspace(-1, 1, 9):\n",
    "    p = ax.plot(t, i * np.ones_like(t), color='b')[0]\n",
    "    lines.append(p)\n",
    "\n",
    "for i in linspace(-1, 1, 9):\n",
    "    p = ax.plot(i * np.ones_like(t), t, color='r')[0]\n",
    "    lines.append(p)\n",
    "\n",
    "lines_data = [l.get_xydata() for l in lines]\n",
    "# define map above\n",
    "def f(v):\n",
    "    x, y = v # separate components\n",
    "    \n",
    "    #########################\n",
    "    #########################\n",
    "    # Modify this line to visualize a different map.\n",
    "    #########################\n",
    "    #########################\n",
    "    out = (x**2 - y**2, 2*x*y) \n",
    "    #########################\n",
    "    #########################\n",
    "    \n",
    "    return np.array(out)\n",
    "\n",
    "@widgets.interact\n",
    "def _(t = (0, 1, .01)):\n",
    "    for line, data in zip(lines, lines_data):\n",
    "        xy = data\n",
    "        line.set_data(np.column_stack([(1 - t)*v + t*f(v) for v in xy]))\n",
    "        "
   ]
  },
  {
   "cell_type": "markdown",
   "id": "89ce733e",
   "metadata": {},
   "source": [
    "Determine a function $g:\\mathbb{R}^2 \\to \\mathbb{R}^2$ that \"folds\" the square $\\{(x,y) : -1 \\leq x \\leq 1, -1 \\leq y \\leq 1 \\}$ to the unit square as shown. \n",
    "\n",
    "![Animation of square folded onto itself twice](q4.gif)"
   ]
  },
  {
   "cell_type": "code",
   "execution_count": null,
   "id": "cd9dc0cd",
   "metadata": {
    "tags": []
   },
   "outputs": [],
   "source": [
    "def g(v):\n",
    "    x,y = v\n",
    "    out = ...\n",
    "    return np.array(out)"
   ]
  },
  {
   "cell_type": "code",
   "execution_count": null,
   "id": "e4e0c30b",
   "metadata": {
    "deletable": false,
    "editable": false
   },
   "outputs": [],
   "source": [
    "grader.check(\"q4\")"
   ]
  },
  {
   "cell_type": "markdown",
   "id": "7e4803e8",
   "metadata": {},
   "source": [
    "<!-- BEGIN QUESTION -->\n",
    "\n",
    "#### Feedback/Reflection\n",
    "\n",
    "Please jot down a few sentences about your experience with this lab. Helpful information would include:\n",
    "  - Did these expand or enhance your understanding of linear combinations in any way?\n",
    "  - Did you have difficulty with the length or amount of technical jargon/code? \n",
    "  - Is there anything mathematically you are still confused about?"
   ]
  },
  {
   "cell_type": "markdown",
   "id": "0be97658",
   "metadata": {},
   "source": [
    "_Type your answer here, replacing this text._"
   ]
  },
  {
   "cell_type": "markdown",
   "id": "e0733654",
   "metadata": {},
   "source": [
    "<!-- END QUESTION -->\n",
    "\n",
    "## Export\n",
    "\n",
    "Save this notebook (use the File menu above). Then execute the following cell and upload the zip file to Gradescope. You'll see the autograded score and be able to resubmit until the deadline. "
   ]
  },
  {
   "cell_type": "code",
   "execution_count": null,
   "id": "27b6cbc0",
   "metadata": {},
   "outputs": [],
   "source": [
    "import zipfile, os\n",
    "\n",
    "ASSIGNMENT_NAME=\"lab0\"\n",
    "ZIPFILE=f\"{ASSIGNMENT_NAME}_submission.zip\"\n",
    "CWD=os.path.curdir\n",
    "\n",
    "zip = zipfile.ZipFile(os.path.join(CWD, ZIPFILE), mode='w')\n",
    "\n",
    "for filename in [\"more_interesting.gif\", f\"{ASSIGNMENT_NAME}.ipynb\"]:\n",
    "    zip.write(os.path.join(CWD, filename))\n",
    "    \n",
    "zip.close()\n",
    "\n",
    "display(HTML(f\"\"\"Download the <a href=\"{os.path.join(CWD,ZIPFILE)}\" download=\"{ZIPFILE}\" target=\"_blank\">zip file</a> and upload it to the assignment on Gradescope.\"\"\"))"
   ]
  },
  {
   "cell_type": "code",
   "execution_count": null,
   "id": "7ced4df3",
   "metadata": {},
   "outputs": [],
   "source": []
  },
  {
   "cell_type": "markdown",
   "id": "0eda8d9f",
   "metadata": {
    "deletable": false,
    "editable": false
   },
   "source": [
    "---\n",
    "\n",
    "To double-check your work, the cell below will rerun all of the autograder tests."
   ]
  },
  {
   "cell_type": "code",
   "execution_count": null,
   "id": "b2667ea8",
   "metadata": {
    "deletable": false,
    "editable": false
   },
   "outputs": [],
   "source": [
    "grader.check_all()"
   ]
  }
 ],
 "metadata": {
  "kernelspec": {
   "display_name": "Python 3 (ipykernel)",
   "language": "python",
   "name": "python3"
  },
  "language_info": {
   "codemirror_mode": {
    "name": "ipython",
    "version": 3
   },
   "file_extension": ".py",
   "mimetype": "text/x-python",
   "name": "python",
   "nbconvert_exporter": "python",
   "pygments_lexer": "ipython3",
   "version": "3.9.8"
  },
  "otter": {
   "tests": {
    "q1": {
     "name": "q1",
     "points": 2,
     "suites": [
      {
       "cases": [
        {
         "code": ">>> \n>>> # make sure your answers are numpy arrays\n>>> \n>>> mid_point.shape == (3,)\nTrue",
         "failure_message": "Your answer is not in the correct format.",
         "hidden": false,
         "locked": false,
         "points": 0,
         "success_message": "Your answer is in the correct format. Its accuracy is determined when uploaded."
        },
        {
         "code": ">>> ninety_pct.shape == (3,)\nTrue",
         "failure_message": "Your answer is not in the correct format.",
         "hidden": false,
         "locked": false,
         "points": 0,
         "success_message": "Your answer is in the correct format. Its accuracy is determined when uploaded."
        }
       ],
       "scored": true,
       "setup": "",
       "teardown": "",
       "type": "doctest"
      }
     ]
    },
    "q2": {
     "name": "q2",
     "points": 2,
     "suites": [
      {
       "cases": [
        {
         "code": ">>> \n>>> # make sure your answers are numpy arrays\n>>> \n>>> uvw_centroid.shape == (3,)\nTrue",
         "failure_message": "Your answer is not in the correct format.",
         "hidden": false,
         "locked": false,
         "points": 0,
         "success_message": "Your answer is in the correct format. Its accuracy is determined when uploaded."
        }
       ],
       "scored": true,
       "setup": "",
       "teardown": "",
       "type": "doctest"
      }
     ]
    },
    "q4": {
     "name": "q4",
     "points": 2,
     "suites": [
      {
       "cases": [
        {
         "code": ">>> v = np.array((0,1))\n>>> np.allclose(v, g(v))\nTrue",
         "hidden": false,
         "locked": false
        },
        {
         "code": ">>> v = np.array((1,0))\n>>> np.allclose(v, g(v))\nTrue",
         "hidden": false,
         "locked": false
        },
        {
         "code": ">>> w = np.array((1,1))\n>>> np.allclose(g(w), (0,0))\nTrue",
         "hidden": false,
         "locked": false
        },
        {
         "code": ">>> w = np.array((0,0))\n>>> np.allclose(g(w), (1, 1))\nTrue",
         "hidden": false,
         "locked": false
        }
       ],
       "scored": true,
       "setup": "",
       "teardown": "",
       "type": "doctest"
      }
     ]
    }
   }
  },
  "toc-autonumbering": false,
  "toc-showcode": false,
  "toc-showmarkdowntxt": false,
  "toc-showtags": false
 },
 "nbformat": 4,
 "nbformat_minor": 5
}
