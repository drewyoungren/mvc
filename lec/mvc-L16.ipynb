{
 "cells": [
  {
   "cell_type": "code",
   "execution_count": 9,
   "metadata": {
    "slideshow": {
     "slide_type": "skip"
    }
   },
   "outputs": [],
   "source": [
    "import numpy as np\n",
    "import matplotlib.pyplot as plt\n",
    "from IPython.display import display, HTML, IFrame\n",
    "from ipywidgets import interact,fixed\n",
    "from mpl_toolkits import mplot3d\n",
    "\n",
    "plt.rcParams[\"figure.figsize\"] = [7, 7]\n",
    "\n",
    "from numpy.linalg import norm\n",
    "from numpy import cos,sin,tan,arctan,exp,log,pi,sqrt,linspace,meshgrid,array\n",
    "\n",
    "from ipykernel.pylab.backend_inline import flush_figures\n",
    "\n",
    "from scipy.integrate import quad, dblquad, tplquad\n",
    "\n",
    "%matplotlib inline\n",
    "\n",
    "plt.rcParams.update({\n",
    "    \"figure.figsize\": (6,6),\n",
    "    \"text.usetex\": True,\n",
    "    \"font.family\": \"serif\",\n",
    "})\n",
    "\n",
    "# Uncomment the one that corresponds to your Jupyter theme\n",
    "plt.style.use('default')\n",
    "# plt.style.use('dark_background')\n",
    "# plt.style.use('fivethirtyeight')\n",
    "# plt.style.use('Solarize_Light2')"
   ]
  },
  {
   "cell_type": "markdown",
   "metadata": {
    "slideshow": {
     "slide_type": "notes"
    }
   },
   "source": [
    "$\\newcommand{\\RR}{\\mathbb{R}}$\n",
    "$\\newcommand{\\bv}[1]{\\begin{bmatrix} #1 \\end{bmatrix}}$\n",
    "$\\renewcommand{\\vec}{\\mathbf}$\n"
   ]
  },
  {
   "cell_type": "markdown",
   "metadata": {
    "slideshow": {
     "slide_type": "slide"
    },
    "tags": []
   },
   "source": [
    "# One-minute Review\n",
    "\n",
    "## Other coordinates\n",
    "\n",
    "  - **Polar coordinates** $(r,\\theta)$ \n",
    "  $$\\iint_\\mathcal R f(x,y)\\,dxdy = \\iint_\\mathcal R f(r\\cos \\theta, r \\sin \\theta)\\,r\\,dr\\,d\\theta$$\n",
    "  - **Cylindrical coordinates** $(r,\\theta, z)$ \n",
    "  $$\\iiint_\\mathcal E f(x,y,z)\\,dxdydz = \\iiint_\\mathcal E f(r\\cos \\theta, r \\sin \\theta,z)\\,r\\,dz\\,dr\\,d\\theta$$\n",
    "  - **Spherical coordinates** $(\\rho, \\phi, \\theta)$ \n",
    "  $$\\iiint_\\mathcal E f(x,y,z)\\,dxdydz $$ $$= \\iiint_\\mathcal E f(\\rho \\sin \\phi \\cos \\theta, \\rho \\sin \\phi \\sin \\theta, \\rho \\cos \\phi ) \\, \\rho^2 \\sin \\phi \\, d\\rho \\, d\\phi \\, d\\theta $$\n",
    "\n",
    "where the bounds of integration for $\\mathcal R$ or $\\mathcal E$ are translated appropriately."
   ]
  },
  {
   "cell_type": "markdown",
   "metadata": {},
   "source": [
    "<p style=\"padding-bottom:40%;\"> </p>"
   ]
  },
  {
   "cell_type": "markdown",
   "metadata": {
    "slideshow": {
     "slide_type": "slide"
    }
   },
   "source": [
    "### APMA E2000\n",
    "\n",
    "# Lecture 15\n",
    "\n",
    "## Triple Integrals/Applications"
   ]
  },
  {
   "cell_type": "markdown",
   "metadata": {
    "slideshow": {
     "slide_type": "fragment"
    }
   },
   "source": [
    "\n",
    "  - Objectives\n",
    "    - Integration\n",
    "      - Polar Coordinates\n",
    "      - Triple Integrals\n",
    "        - Change order of integration\n",
    "      - Applications of integration:\n",
    "        - Center of mass\n",
    "        - Moment of inertia\n",
    "        - Probability\n",
    "    "
   ]
  },
  {
   "cell_type": "markdown",
   "metadata": {
    "slideshow": {
     "slide_type": "skip"
    }
   },
   "source": [
    "  - Resources\n",
    "    - Content\n",
    "      - Stewart: §15.4–5\n",
    "      - New Strang: [§5.6](https://openstax.org/books/calculus-volume-3/pages/5-6-calculating-centers-of-mass-and-moments-of-inertia)\n",
    "\n",
    "    - Practice\n",
    "      - Mooculus: [Mass and Moments](https://ximera.osu.edu/mooculus/calculus3/computationsAndInterpretations/digInMassMomentsAndCenterOfMass)\n",
    "    - Extras\n",
    "      - CalcBLUE: [Integrals](https://www.math.upenn.edu/~ghrist/BLUE.html#VOL3) "
   ]
  },
  {
   "cell_type": "markdown",
   "metadata": {},
   "source": [
    "<div style=\"padding-bottom: 40%\"></div>"
   ]
  },
  {
   "cell_type": "markdown",
   "metadata": {
    "slideshow": {
     "slide_type": "slide"
    }
   },
   "source": [
    "# Applications of Integration\n",
    "\n",
    "The basic principal behind applying integration is that the desired quantity, the <i>desideratum</i>, is obtained by integrating its <i>elements</i>. Put succinctly,"
   ]
  },
  {
   "cell_type": "markdown",
   "metadata": {
    "slideshow": {
     "slide_type": "fragment"
    }
   },
   "source": [
    "$$\\spadesuit = \\int d\\spadesuit$$"
   ]
  },
  {
   "cell_type": "markdown",
   "metadata": {},
   "source": [
    "<p style=\"padding-bottom:40%;\"> </p>"
   ]
  },
  {
   "cell_type": "markdown",
   "metadata": {
    "slideshow": {
     "slide_type": "subslide"
    }
   },
   "source": [
    "## A Word on Density\n",
    "\n",
    "\"Density\" often stands in for mass density which has units of mass/volume, like $\\frac{{\\rm g}}{{\\rm ml}}$. \n",
    "\n",
    "But think of it more generally as $$\\frac{\\rm stuff}{\\rm unit\\ of\\ measure}$$\n",
    "\n",
    "Further, these can vary continuously throughout a medium or space. Thus, we integrate to find the total amount of \"stuff\". "
   ]
  },
  {
   "cell_type": "markdown",
   "metadata": {},
   "source": [
    "<p style=\"padding-bottom:40%;\"> </p>"
   ]
  },
  {
   "cell_type": "markdown",
   "metadata": {
    "slideshow": {
     "slide_type": "fragment"
    }
   },
   "source": [
    "### Examples"
   ]
  },
  {
   "cell_type": "markdown",
   "metadata": {
    "slideshow": {
     "slide_type": "fragment"
    }
   },
   "source": [
    "  - Resistivity $\\rho(x)$ along a wire, $\\frac{\\Omega}{{\\rm m}}$. $$\\Omega = \\int_0^\\ell \\rho(x)\\, dx$$"
   ]
  },
  {
   "cell_type": "markdown",
   "metadata": {
    "slideshow": {
     "slide_type": "fragment"
    }
   },
   "source": [
    "  - Probability density function $\\rho(x,y)$ of two random variables. $$P(E) = \\iint_E \\rho(x,y)\\, dA$$"
   ]
  },
  {
   "cell_type": "markdown",
   "metadata": {
    "slideshow": {
     "slide_type": "fragment"
    }
   },
   "source": [
    "  - Concentration of chemicals, like $[\\text{H}_2\\text{CO}_3] = \\rho(x,y,z)$. $$\\text{total carbonic acid} = \\iiint_D \\rho(x,y,z)\\,dV$$"
   ]
  },
  {
   "cell_type": "markdown",
   "metadata": {},
   "source": [
    "<p style=\"padding-bottom:40%;\"> </p>"
   ]
  },
  {
   "cell_type": "markdown",
   "metadata": {
    "slideshow": {
     "slide_type": "slide"
    }
   },
   "source": [
    "## Masses and Moments\n",
    "\n",
    "Consider a two mass system in one dimension. That is suppose a mass $m_1$ is at position $x_1$ and mass $m_2$ is at position $x_2$.\n",
    "\n",
    "The total mass is of course\n",
    "\n",
    "$$M = m_1 + m_2.$$"
   ]
  },
  {
   "cell_type": "markdown",
   "metadata": {
    "slideshow": {
     "slide_type": "fragment"
    }
   },
   "source": [
    "The **center of mass** is the point $\\bar x$ that balances the torque. That is,\n",
    "\n",
    "$$m_1(x_1 - \\bar x) + m_2(x_2 - \\bar x) =0$$"
   ]
  },
  {
   "cell_type": "markdown",
   "metadata": {
    "slideshow": {
     "slide_type": "fragment"
    }
   },
   "source": [
    "$$\\bar x = \\frac{m_1x_1 + m_2x_2}{m_1 + m_2}$$"
   ]
  },
  {
   "cell_type": "markdown",
   "metadata": {
    "slideshow": {
     "slide_type": "fragment"
    }
   },
   "source": [
    "$$ = \\frac{m_1}{M}x_1 + \\frac{m_2}{M}x_2$$"
   ]
  },
  {
   "cell_type": "code",
   "execution_count": 18,
   "metadata": {
    "jupyter": {
     "source_hidden": true
    },
    "tags": []
   },
   "outputs": [
    {
     "data": {
      "application/vnd.jupyter.widget-view+json": {
       "model_id": "c4e92a0696484bcd9fb28fe9034f802d",
       "version_major": 2,
       "version_minor": 0
      },
      "text/plain": [
       "interactive(children=(FloatSlider(value=0.0, description='xbar', max=1.0, step=0.005), Output()), _dom_classes…"
      ]
     },
     "metadata": {},
     "output_type": "display_data"
    }
   ],
   "source": [
    "@interact\n",
    "def _(xbar=(0,1,.005)):\n",
    "    plt.figure(figsize=(8,3))\n",
    "    plt.plot([0,1],[0,0],zorder=-1)\n",
    "    plt.scatter([0],[0],s=130)\n",
    "    plt.scatter([1],[0],s=330,zorder=2)\n",
    "    plt.fill([xbar - .02, xbar + .02, xbar],[-1/2, -1/2 ,0])\n",
    "    plt.xlim(-.1,1.1)\n",
    "    plt.ylim(-.6,.1)\n",
    "    flush_figures();"
   ]
  },
  {
   "cell_type": "markdown",
   "metadata": {},
   "source": [
    "<p style=\"padding-bottom:40%;\"> </p>"
   ]
  },
  {
   "cell_type": "markdown",
   "metadata": {
    "slideshow": {
     "slide_type": "subslide"
    }
   },
   "source": [
    "## Masses and Moments\n",
    "\n",
    "<img src=\"https://culinarylore.com/wp-content/uploads/2014/02/waiter-drinks-tray.jpg\" width=\"30%\" style=\"float: right\">\n",
    "                                                                                                                      \n",
    "Let consider a planar region $\\mathcal D$ (a \"lamina\") with continuously varying density (mass per unit area) $\\rho(x,y)$. The the total mass is given by $$M = \\iint_D \\rho(x,y)\\,dA$$ "
   ]
  },
  {
   "cell_type": "markdown",
   "metadata": {
    "slideshow": {
     "slide_type": "fragment"
    }
   },
   "source": [
    "The **center of mass** $(\\bar{x},\\bar y)$ is the \"(weighted) average position\" of the mass in the object. \n",
    "$$(\\bar{x},\\bar y) = \\left(\\frac{M_y}{M},\\frac{M_x}{M}\\right)$$ "
   ]
  },
  {
   "cell_type": "markdown",
   "metadata": {
    "slideshow": {
     "slide_type": "fragment"
    }
   },
   "source": [
    "where \n",
    "\n",
    "$$ M_y = \\iint_\\mathcal D x \\rho(x,y)\\,dA$$ \n",
    "\n",
    "$$ M_x = \\iint_\\mathcal D y \\rho(x,y)\\,dA$$\n",
    "\n",
    "are the **first moments** relative to the $y$- and $x$-axes, respectively."
   ]
  },
  {
   "cell_type": "markdown",
   "metadata": {
    "slideshow": {
     "slide_type": "subslide"
    }
   },
   "source": [
    "## Center of mass\n",
    "\n",
    "More concisely, \n",
    "\n",
    "$$(\\bar{x},\\bar y) = \\left(\\frac{\\iint_\\mathcal D x \\rho(x,y)\\,dA}{\\iint_\\mathcal D \\rho(x,y)\\,dA},\\frac{\\iint_\\mathcal D y \\rho(x,y)\\,dA}{\\iint_\\mathcal D  \\rho(x,y)\\,dA}\\right)$$ \n"
   ]
  },
  {
   "cell_type": "markdown",
   "metadata": {},
   "source": [
    "<p style=\"padding-bottom:40%;\"> </p>"
   ]
  },
  {
   "cell_type": "markdown",
   "metadata": {
    "slideshow": {
     "slide_type": "subslide"
    }
   },
   "source": [
    "### Example\n",
    "\n",
    "Find the center of mass of the unit square $[0,1]\\times [0,1]$ whose density is given by $\\rho(x,y) = x+y$ "
   ]
  },
  {
   "cell_type": "code",
   "execution_count": 20,
   "metadata": {
    "hide_input": true,
    "jupyter": {
     "source_hidden": true
    },
    "slideshow": {
     "slide_type": "fragment"
    },
    "tags": []
   },
   "outputs": [
    {
     "data": {
      "application/vnd.jupyter.widget-view+json": {
       "model_id": "1b07543676ad435a9bfd387d2bf7a394",
       "version_major": 2,
       "version_minor": 0
      },
      "text/plain": [
       "interactive(children=(Checkbox(value=False, description='show'), Output()), _dom_classes=('widget-interact',))"
      ]
     },
     "metadata": {},
     "output_type": "display_data"
    }
   ],
   "source": [
    "@interact\n",
    "def _(show=False):\n",
    "    x = y = np.linspace(0,1,100)\n",
    "    x,y = np.meshgrid(x,y)\n",
    "\n",
    "    plt.figure(figsize=(8,8))\n",
    "    plt.pcolormesh(x,y,x+y,cmap='rainbow',shading='gouraud')\n",
    "    plt.xlim([0,1.5])\n",
    "    plt.ylim([0,1.5])\n",
    "    if show:\n",
    "        plt.scatter([7/12],[7/12],zorder=2)\n",
    "    flush_figures()\n"
   ]
  },
  {
   "cell_type": "code",
   "execution_count": 14,
   "metadata": {},
   "outputs": [],
   "source": [
    "M = dblquad(lambda y,x: x+y,0,1,0,1)[0]"
   ]
  },
  {
   "cell_type": "code",
   "execution_count": 15,
   "metadata": {},
   "outputs": [],
   "source": [
    "ybar = 1/M*dblquad(lambda y,x: (x+y)*y,0,1,0,1)[0]"
   ]
  },
  {
   "cell_type": "code",
   "execution_count": 16,
   "metadata": {},
   "outputs": [
    {
     "data": {
      "text/plain": [
       "(1.0, 1.662923778137264e-14)"
      ]
     },
     "execution_count": 16,
     "metadata": {},
     "output_type": "execute_result"
    }
   ],
   "source": [
    "dblquad(lambda y,x: x+y,0,1,0,1)"
   ]
  },
  {
   "cell_type": "markdown",
   "metadata": {},
   "source": [
    "<p style=\"padding-bottom:40%;\"> </p>"
   ]
  },
  {
   "cell_type": "markdown",
   "metadata": {
    "slideshow": {
     "slide_type": "slide"
    },
    "tags": []
   },
   "source": [
    "## Moment(s) of Inertia\n",
    "\n",
    "<img src=\"http://giphygifs.s3.amazonaws.com/media/RmuN3xF9sBpL2/giphy.gif\" alt=\"Figure skater spinning\" style=\"float: right;\">\n",
    "\n",
    "The **moment of inertia** $I$ of a massive body is a measure of its \"resistance to rotation\" about a given axis. \n",
    "\n",
    "Angular momentum is  $L=I\\omega$, the product of the moment of inertia and the angular velocity.\n",
    "\n",
    "\n",
    "\n",
    "The figure skater pulls her body in to reduce her moment of intertia. As angular momentum is conserved, she spins faster."
   ]
  },
  {
   "cell_type": "markdown",
   "metadata": {},
   "source": [
    "<p style=\"padding-bottom:40%;\"> </p>"
   ]
  },
  {
   "cell_type": "markdown",
   "metadata": {
    "slideshow": {
     "slide_type": "subslide"
    }
   },
   "source": [
    "### Formula\n",
    "\n",
    "$I$ is a measurement of how far the mass is spread from the axis. It is the second moment of the density distribution. \n",
    "\n",
    "If we take a body $\\mathcal D$ in the plane with area density $\\rho(x,y)$, and consider it rotating about the origin, then\n",
    "\n",
    "$$ I = \\iint_\\mathcal D (x^2+y^2)\\rho(x,y)\\,dA $$\n",
    "\n",
    "that is, the distance to the axis squared, weighted by mass. \n"
   ]
  },
  {
   "cell_type": "markdown",
   "metadata": {},
   "source": [
    "<p style=\"padding-bottom:40%;\"> </p>"
   ]
  },
  {
   "cell_type": "markdown",
   "metadata": {
    "slideshow": {
     "slide_type": "subslide"
    }
   },
   "source": [
    "#### Exercise\n",
    "\n",
    "Let's compute the moment of inertia of the square above about:\n",
    "  - the origin\n",
    "  - the $y$-axis"
   ]
  },
  {
   "cell_type": "code",
   "execution_count": 17,
   "metadata": {
    "slideshow": {
     "slide_type": "fragment"
    }
   },
   "outputs": [
    {
     "data": {
      "text/plain": [
       "(0.8333333333333334, 2.3025363234819638e-14)"
      ]
     },
     "execution_count": 17,
     "metadata": {},
     "output_type": "execute_result"
    }
   ],
   "source": [
    "dblquad(lambda y,x: (x**2 + y**2)*(x + y),0,1,0,1)"
   ]
  },
  {
   "cell_type": "code",
   "execution_count": 18,
   "metadata": {
    "slideshow": {
     "slide_type": "fragment"
    }
   },
   "outputs": [
    {
     "data": {
      "text/plain": [
       "(0.41666666666666663, 1.655709812050779e-14)"
      ]
     },
     "execution_count": 18,
     "metadata": {},
     "output_type": "execute_result"
    }
   ],
   "source": [
    "dblquad(lambda y,x: (x**2)*(x + y),0,1,0,1)"
   ]
  },
  {
   "cell_type": "code",
   "execution_count": 19,
   "metadata": {
    "hide_input": true,
    "jupyter": {
     "source_hidden": true
    },
    "slideshow": {
     "slide_type": "fragment"
    }
   },
   "outputs": [
    {
     "data": {
      "application/vnd.jupyter.widget-view+json": {
       "model_id": "0db3b578144947d39fcf32228e2548cd",
       "version_major": 2,
       "version_minor": 0
      },
      "text/plain": [
       "interactive(children=(FloatSlider(value=0.0, description='t', max=6.283185307179586, step=0.3141592653589793),…"
      ]
     },
     "metadata": {},
     "output_type": "display_data"
    }
   ],
   "source": [
    "@interact(t=(0.,2*pi,pi/10))\n",
    "def _(t=0):\n",
    "    x = linspace(0,1)\n",
    "    x,y = meshgrid(x,x)\n",
    "    plt.figure(figsize=(6,6))\n",
    "    ax = plt.gca(projection='3d')\n",
    "    ax.plot_surface(x*cos(t) - y*sin(t),x*sin(t) + y*cos(t),0*x)\n",
    "    ax.plot_surface(x*cos(2*t),y,x*sin(2*t))\n",
    "    ax.plot([0,0],[-1,1],[0,0],'--k')\n",
    "    ax.plot([0,0],[0,0],[-1,1],'--k')\n",
    "    for c in 'xyz':\n",
    "        getattr(ax,f\"set_{c}lim\")([-1,1]);    \n",
    "        getattr(ax,f\"set_{c}label\")(f\"${c}$\",size=16)\n",
    "    "
   ]
  },
  {
   "cell_type": "markdown",
   "metadata": {
    "slideshow": {
     "slide_type": "slide"
    }
   },
   "source": [
    "# Probability\n",
    "\n",
    "Two (real) random variables $X$ and $Y$ have a joint probability density function $\\rho(x,y)$. This is simply a function on the plane with $\\rho(x,y) \\geq 0$ and \n",
    "\n",
    "$$\\iint_{\\RR^2} \\rho(x,y)\\,dA = 1.$$\n",
    "\n",
    "An **event** $E \\subset \\RR^2$ is just a subset of the sample space, and its probability is \n",
    "\n",
    "$$P(E) = \\iint_E \\rho(x,y)\\,dA$$."
   ]
  },
  {
   "cell_type": "code",
   "execution_count": 27,
   "metadata": {},
   "outputs": [
    {
     "data": {
      "text/plain": [
       "(-1+0j)"
      ]
     },
     "execution_count": 27,
     "metadata": {},
     "output_type": "execute_result"
    }
   ],
   "source": [
    "1j**2"
   ]
  },
  {
   "cell_type": "markdown",
   "metadata": {
    "slideshow": {
     "slide_type": "subslide"
    }
   },
   "source": [
    "## Example\n",
    "\n",
    "What is the probability that 2 numbers randomly chosen between 0 and 1 have a product greater than $\\frac12$?"
   ]
  },
  {
   "cell_type": "code",
   "execution_count": 20,
   "metadata": {
    "jupyter": {
     "source_hidden": true
    },
    "slideshow": {
     "slide_type": "subslide"
    }
   },
   "outputs": [
    {
     "data": {
      "image/png": "[encoded data removed]",
      "text/plain": [
       "<Figure size 432x288 with 1 Axes>"
      ]
     },
     "metadata": {},
     "output_type": "display_data"
    }
   ],
   "source": [
    "x = y = np.linspace(0,1,50)\n",
    "x,y = np.meshgrid(x,y)\n",
    "plt.contourf(x,y,x*y ,levels=[0,1/2,1]);"
   ]
  },
  {
   "cell_type": "code",
   "execution_count": 21,
   "metadata": {
    "slideshow": {
     "slide_type": "fragment"
    }
   },
   "outputs": [
    {
     "data": {
      "text/plain": [
       "0.15342640972002736"
      ]
     },
     "execution_count": 21,
     "metadata": {},
     "output_type": "execute_result"
    }
   ],
   "source": [
    "dblquad(lambda y,x: 1, 1/2,1,lambda x: 1/(2*x),1)[0]"
   ]
  },
  {
   "cell_type": "code",
   "execution_count": 22,
   "metadata": {
    "slideshow": {
     "slide_type": "fragment"
    }
   },
   "outputs": [
    {
     "data": {
      "text/plain": [
       "0.15342640972002736"
      ]
     },
     "execution_count": 22,
     "metadata": {},
     "output_type": "execute_result"
    }
   ],
   "source": [
    "1/2-log(2)/2"
   ]
  },
  {
   "cell_type": "markdown",
   "metadata": {
    "hide_input": true,
    "slideshow": {
     "slide_type": "subslide"
    }
   },
   "source": [
    "## The Moments \n",
    "\n",
    "Moment measurements have analogous meaning in the probability context."
   ]
  },
  {
   "cell_type": "markdown",
   "metadata": {
    "slideshow": {
     "slide_type": "fragment"
    }
   },
   "source": [
    "The \"center of mass\" is in fact the **expected value** of the variables.\n",
    "\n",
    "$$(\\bar{x},\\bar{y}) = \\left( \\iint_{\\RR^2} x \\rho(x,y)\\,dA,\\iint_{\\RR^2} y \\rho(x,y)\\,dA\\right) $$"
   ]
  },
  {
   "cell_type": "markdown",
   "metadata": {
    "slideshow": {
     "slide_type": "fragment"
    }
   },
   "source": [
    "The second moments (relative to this center) give the **variances** of the respected variables. \n",
    "\n",
    "$$(\\sigma_x^2,\\sigma_{y}^2) = \\left( \\iint_{\\RR^2} (x-\\bar{x})^2 \\rho(x,y)\\,dA,\\iint_{\\RR^2} (y-\\bar{y})^2 \\rho(x,y)\\,dA\\right) $$"
   ]
  },
  {
   "cell_type": "markdown",
   "metadata": {
    "slideshow": {
     "slide_type": "fragment"
    }
   },
   "source": [
    "The list goes on \n",
    "\n",
    "  - mixed moments $\\to$ covariance\n",
    "  - 3rd moments $\\to$ skewedness\n",
    "  - 4th moments $\\to$ kurtosis\n",
    "  - $\\ldots$"
   ]
  },
  {
   "cell_type": "code",
   "execution_count": null,
   "metadata": {},
   "outputs": [],
   "source": []
  }
 ],
 "metadata": {
  "celltoolbar": "Slideshow",
  "kernelspec": {
   "display_name": "Python 3 (ipykernel)",
   "language": "python",
   "name": "python3"
  },
  "language_info": {
   "codemirror_mode": {
    "name": "ipython",
    "version": 3
   },
   "file_extension": ".py",
   "mimetype": "text/x-python",
   "name": "python",
   "nbconvert_exporter": "python",
   "pygments_lexer": "ipython3",
   "version": "3.9.7"
  },
  "rise": {
   "enable_chalkboard": true,
   "scroll": true,
   "theme": "sky",
   "transition": "concave"
  },
  "widgets": {
   "application/vnd.jupyter.widget-state+json": {
    "state": {},
    "version_major": 2,
    "version_minor": 0
   }
  }
 },
 "nbformat": 4,
 "nbformat_minor": 4
}
