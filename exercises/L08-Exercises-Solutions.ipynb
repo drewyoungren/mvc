{
 "cells": [
  {
   "cell_type": "code",
   "execution_count": 3,
   "metadata": {},
   "outputs": [],
   "source": [
    "import numpy as np\n",
    "import matplotlib.pyplot as plt\n",
    "from IPython.display import display, HTML, IFrame, YouTubeVideo\n",
    "from ipywidgets import interact,fixed\n",
    "import pandas as pd\n",
    "from numpy import cos,sin,pi,tan,log,exp,sqrt,array,linspace,arange\n",
    "from mpl_toolkits import mplot3d\n",
    "# from mpl_toolkits.mplot3d.art3d import Poly3DCollection\n",
    "\n",
    "from ipywidgets import interact\n",
    "\n",
    "plt.rcParams[\"figure.figsize\"] = [7,7]\n",
    "\n",
    "from numpy.linalg import norm\n",
    "\n",
    "%matplotlib inline\n",
    "\n",
    "# Uncomment the one that corresponds to your Jupyter theme\n",
    "plt.style.use('dark_background')\n",
    "# plt.style.use('fivethirtyeight')\n",
    "# plt.style.use('Solarize_Light2')"
   ]
  },
  {
   "cell_type": "markdown",
   "metadata": {},
   "source": [
    "$\\renewcommand{\\vec}{\\mathbf}$"
   ]
  },
  {
   "cell_type": "markdown",
   "metadata": {
    "slideshow": {
     "slide_type": "fragment"
    }
   },
   "source": [
    "#### Example\n",
    "\n",
    "Compute:\n",
    "\n",
    "  1. $\\displaystyle \\frac{\\partial}{\\partial x} \\left( x^2y - \\sin(x-2y) \\right)$"
   ]
  },
  {
   "cell_type": "markdown",
   "metadata": {},
   "source": [
    "$$ = 2xy - \\cos(x - 2y)$$"
   ]
  },
  {
   "cell_type": "markdown",
   "metadata": {
    "slideshow": {
     "slide_type": "fragment"
    }
   },
   "source": [
    "  2. $\\displaystyle \\frac{\\partial}{\\partial y} \\left( x^2y - \\sin(x-2y) \\right)$"
   ]
  },
  {
   "cell_type": "markdown",
   "metadata": {},
   "source": [
    "$$ = x^2 +2 \\cos(x - 2y)$$"
   ]
  },
  {
   "cell_type": "markdown",
   "metadata": {
    "slideshow": {
     "slide_type": "fragment"
    }
   },
   "source": [
    "  3. $\\displaystyle \\frac{\\partial}{\\partial z} \\left( \\frac{z^2 \\tan^{-1}(\\sqrt{x^2+1})}{\\cosh(xy)} \\right)$"
   ]
  },
  {
   "cell_type": "markdown",
   "metadata": {
    "slideshow": {
     "slide_type": "fragment"
    }
   },
   "source": [
    "$$\\displaystyle =  2z\\left( \\frac{ \\tan^{-1}(\\sqrt{x^2+1})}{\\cosh(xy)} \\right)$$"
   ]
  },
  {
   "cell_type": "markdown",
   "metadata": {},
   "source": [
    "  "
   ]
  },
  {
   "cell_type": "markdown",
   "metadata": {},
   "source": []
  },
  {
   "cell_type": "markdown",
   "metadata": {
    "slideshow": {
     "slide_type": "subslide"
    }
   },
   "source": [
    "## Mixed partials\n",
    "\n",
    "A quantity like $\\frac{\\partial^2 f}{\\partial x \\partial y}$ is a little harder to wrap ones head around. \n",
    "\n",
    "Compute all mixed partials of the following funtions:\n",
    "  \n",
    "  1. $f(x,y) = xy^3 - y \\sin x$"
   ]
  },
  {
   "cell_type": "markdown",
   "metadata": {},
   "source": [
    "$$f_x = y^3 - y \\cos x \\qquad f_y = 3xy^2 - \\sin x$$\n",
    "\n",
    "$$f_{xy} = 3y^2 - \\cos x = f_{yx} x$$\n"
   ]
  },
  {
   "cell_type": "markdown",
   "metadata": {
    "slideshow": {
     "slide_type": "subslide"
    }
   },
   "source": [
    "  2. $r(x,t) = \\frac{x}{x+t}$"
   ]
  },
  {
   "cell_type": "markdown",
   "metadata": {},
   "source": [
    "$$r_x = \\frac{t}{(x + t)^2} \\qquad r_t = \\frac{-x}{(x + t)^2}$$\n",
    "\n",
    "$$r_{xt} = \\frac{(x+t)^2 - 2t(x+t)}{(x + t)^4} = \\frac{x-t}{(x + t)^3} = r_{tx} x$$\n"
   ]
  },
  {
   "cell_type": "markdown",
   "metadata": {
    "slideshow": {
     "slide_type": "subslide"
    }
   },
   "source": [
    "  3. $u(p,q) = e^{-p\\sqrt{q}}$   "
   ]
  },
  {
   "cell_type": "markdown",
   "metadata": {},
   "source": [
    "$$u_p = -\\sqrt{q} e^{-p\\sqrt{q}} \\qquad u_q = -\\frac{p}{2\\sqrt{q}}e^{-p\\sqrt{q}}$$\n",
    "\n",
    "$$u_{pq} = e^{-p\\sqrt{q}} \\left( \\frac{p}{2} - \\frac{1}{2\\sqrt{q}}\\right) = u_{qp} $$\n"
   ]
  }
 ],
 "metadata": {
  "kernelspec": {
   "display_name": "Python 3",
   "language": "python",
   "name": "python3"
  },
  "language_info": {
   "codemirror_mode": {
    "name": "ipython",
    "version": 3
   },
   "file_extension": ".py",
   "mimetype": "text/x-python",
   "name": "python",
   "nbconvert_exporter": "python",
   "pygments_lexer": "ipython3",
   "version": "3.7.6"
  },
  "widgets": {
   "application/vnd.jupyter.widget-state+json": {
    "state": {},
    "version_major": 2,
    "version_minor": 0
   }
  }
 },
 "nbformat": 4,
 "nbformat_minor": 4
}
