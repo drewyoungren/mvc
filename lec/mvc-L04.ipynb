{
 "cells": [
  {
   "cell_type": "code",
   "execution_count": 12,
   "metadata": {
    "slideshow": {
     "slide_type": "skip"
    }
   },
   "outputs": [],
   "source": [
    "import numpy as np\n",
    "import matplotlib.pyplot as plt\n",
    "from IPython.display import display, HTML, IFrame\n",
    "from ipywidgets import interact\n",
    "import pandas as pd\n",
    "from numpy import cos,sin,pi,tan,log,exp,array,linspace,arange\n",
    "from mpl_toolkits import mplot3d\n",
    "from matplotlib.patches import FancyArrowPatch\n",
    "\n",
    "plt.rcParams[\"figure.figsize\"] = [10, 10]\n",
    "\n",
    "%matplotlib inline\n",
    "\n",
    "# Uncomment the one that corresponds to your Jupyter theme\n",
    "plt.style.use('dark_background')\n",
    "# plt.style.use('fivethirtyeight')\n",
    "# plt.style.use('Solarize_Light2')"
   ]
  },
  {
   "cell_type": "code",
   "execution_count": 22,
   "metadata": {
    "slideshow": {
     "slide_type": "skip"
    }
   },
   "outputs": [
    {
     "data": {
      "text/html": [
       "<style>\n",
       "td {\n",
       "  font-size: 16px\n",
       "}\n",
       "</style>\n"
      ],
      "text/plain": [
       "<IPython.core.display.HTML object>"
      ]
     },
     "metadata": {},
     "output_type": "display_data"
    }
   ],
   "source": [
    "%%HTML\n",
    "<style>\n",
    "td {\n",
    "  font-size: 16px\n",
    "}\n",
    "</style>"
   ]
  },
  {
   "cell_type": "markdown",
   "metadata": {
    "slideshow": {
     "slide_type": "notes"
    }
   },
   "source": [
    "$\\newcommand{\\RR}{\\mathbb{R}}$\n",
    "$\\newcommand{\\bv}[1]{\\begin{bmatrix} #1 \\end{bmatrix}}$\n",
    "$\\renewcommand{\\vec}{\\mathbf}$\n"
   ]
  },
  {
   "cell_type": "markdown",
   "metadata": {},
   "source": [
    "<p style=\"padding-bottom:40%;\"> </p>"
   ]
  },
  {
   "cell_type": "markdown",
   "metadata": {
    "slideshow": {
     "slide_type": "slide"
    }
   },
   "source": [
    "# One-minute Review\n",
    "\n",
    "## Vector Operations\n",
    "\n",
    "Let $\\vec v, \\vec w$ be vectors in $\\RR^n$ and $c$ a scalar. \n",
    "\n",
    "| Operation | Notation | Formula | Output |\n",
    "|---|---| --- |---|\n",
    "| scalar multiplication | $$c \\vec v$$ | $$\\langle c v_1, \\ldots ,c v_n \\rangle $$| vector |\n",
    "| vector addition | $$\\vec v + \\vec w$$ | $$\\langle v_1 + w_1,\\ldots, v_n + w_n \\rangle $$| vector |\n",
    "| dot product | $$\\vec v \\cdot \\vec w$$ | $$v_1 w_1 + \\cdots + v_n w_n  $$| scalar |\n",
    "| cross product | $$\\vec v \\times \\vec w$$ | $$ \\begin{vmatrix} \\vec i & \\vec j & \\vec k \\\\v_1 & v_2 & v_3 \\\\ w_1 & w_2 & w_3 \\\\ \\end{vmatrix} $$| 3-vector |"
   ]
  },
  {
   "cell_type": "markdown",
   "metadata": {
    "slideshow": {
     "slide_type": "subslide"
    }
   },
   "source": [
    "## Properties of $\\vec v \\times \\vec w$\n",
    "\n",
    "  - $\\vec v \\times \\vec w$ is perpendicular to *both* $\\vec v $ and $\\vec w$.\n",
    "\n",
    "  - $\\vec v \\times \\vec w$ points in the direction according to the right-hand-rule.\n",
    "\n",
    "  - $|\\vec v \\times \\vec w| = |\\vec v ||\\vec w|\\sin\\theta$ where theta is the (positive) angle between the vectors."
   ]
  },
  {
   "cell_type": "markdown",
   "metadata": {
    "slideshow": {
     "slide_type": "slide"
    }
   },
   "source": [
    "# Lecture 04\n",
    "\n",
    "  - Objectives\n",
    "\n",
    "    - Specify lines and planes based on relationships to other points/lines/planes.\n",
    "    - Measure distances among points/lines/planes using projections.\n",
    "    - Introduce parametrized curves (i.e., vector-valued functions).\n",
    "  \n",
    "  - Resources\n",
    "    - Content\n",
    "      - Stewart: §12.5–6\n",
    "      - New Strang: [§2.5](https://cnx.org/contents/oxzXkyFi@5.30:YM6I55EW@6/2-5-Equations-of-Lines-and-Planes-in-Space) [§3.1](https://openstax.org/books/calculus-volume-3/pages/3-1-vector-valued-functions-and-space-curves)\n",
    "    - Practice\n",
    "      - [Exercises & Solutions](../exercises/L04-Exercises-Solutions.ipynb)\n",
    "      - Mooculus: [Lines](https://ximera.osu.edu/mooculus/calculus3/linesAndCurvesInSpace/digInLinesAndCurvesInSpace) [Planes](https://ximera.osu.edu/mooculus/calculus3/normalVectors/digInPlanesInSpace) \\*not everything is relevant\n",
    "    - Extras\n",
    "      - CalcBLUE: [Lines & Planes](https://www.youtube.com/watch?v=owMT-d4RRpw&index=3&list=PL8erL0pXF3JYm7VaTdKDaWc8Q3FuP8Sa7)"
   ]
  },
  {
   "cell_type": "markdown",
   "metadata": {
    "slideshow": {
     "slide_type": "subslide"
    }
   },
   "source": [
    "\n",
    "## Parametric form of lines\n",
    "\n",
    "The parametric form for a line through a position $\\vec p$ with direction vector $\\vec v$ it geven by $$\\vec r(t) = \\vec p + t \\vec v.$$\n"
   ]
  },
  {
   "cell_type": "code",
   "execution_count": 14,
   "metadata": {
    "hide_input": true,
    "jupyter": {
     "source_hidden": true
    },
    "slideshow": {
     "slide_type": "fragment"
    }
   },
   "outputs": [
    {
     "data": {
      "application/vnd.jupyter.widget-view+json": {
       "model_id": "a0b7e7e563374e90960de081161dd72a",
       "version_major": 2,
       "version_minor": 0
      },
      "text/plain": [
       "interactive(children=(FloatSlider(value=1.5, description='t', max=5.0, min=-2.0), IntSlider(value=42, descript…"
      ]
     },
     "metadata": {},
     "output_type": "display_data"
    }
   ],
   "source": [
    "@interact\n",
    "def _(t=(-2.,5.,.1),angle=(-30,120,6)):\n",
    "    fig = plt.figure()\n",
    "    ax = fig.gca(projection='3d')\n",
    "    ax.quiver([0,1],[0,1],[0,1],[1,2*t],[1,0],[1,-t*2])\n",
    "    ax.plot([1+2*(-1),1+2*(5)],[1,1],[1-2*(-1),1-2*5],color='k',ls='dashed')\n",
    "    ax.set_xlim([-1,5])\n",
    "    ax.set_ylim([-2,4])\n",
    "    ax.set_zlim([-2,4]);\n",
    "    ax.view_init(30, angle)\n",
    "    ax.quiver([0,1],[0,1],[0,1],[1,2*t],[1,0],[1,-t*2])\n",
    "    ax.set_autoscale_on(True)\n",
    "    for c in 'xyz':\n",
    "#         getattr(ax,f\"set_{c}lim\")([-6,6]);\n",
    "        getattr(ax,f\"set_{c}label\")(f\"${c}$\",size=16)"
   ]
  },
  {
   "cell_type": "markdown",
   "metadata": {
    "slideshow": {
     "slide_type": "subslide"
    }
   },
   "source": [
    "## Equation of a plane\n",
    "\n",
    "But a more efficient way in $\\RR^3$ recognizes that a plane can be define by \n",
    "  - a position vector $\\vec p = \\langle p_1,p_2,p_3 \\rangle$, and\n",
    "  - a **normal** vectorn $\\vec n = \\langle a,b,c \\rangle$, perpendicular to the plane.\n",
    "  \n",
    "So a position vector $\\vec x = \\langle x,y,z \\rangle$ if and only if $$\\vec n\\cdot(\\vec x - \\vec p) = 0 \\quad \\text{ or } \\quad ax + by +cz = ap_1 + bp_2 + cp_3$$"
   ]
  },
  {
   "cell_type": "code",
   "execution_count": 15,
   "metadata": {
    "hide_input": true,
    "jupyter": {
     "source_hidden": true
    },
    "slideshow": {
     "slide_type": "fragment"
    }
   },
   "outputs": [
    {
     "data": {
      "application/vnd.jupyter.widget-view+json": {
       "model_id": "6d1186b79a3e4ea5892b1db935792d1a",
       "version_major": 2,
       "version_minor": 0
      },
      "text/plain": [
       "interactive(children=(IntSlider(value=45, description='angle', max=90, step=3), Output()), _dom_classes=('widg…"
      ]
     },
     "metadata": {},
     "output_type": "display_data"
    }
   ],
   "source": [
    "@interact\n",
    "def _(angle=(0,90,3)):\n",
    "    fig = plt.figure(figsize=(10,10))\n",
    "    ax = fig.gca(projection='3d')\n",
    "\n",
    "    s = t = np.linspace(-2,2,30)\n",
    "    s,t = np.meshgrid(s,t)\n",
    "\n",
    "    n = -np.cross([-2,1,2],[3,1,-1])\n",
    "\n",
    "    x = 3 - 2*t + 3*s\n",
    "    y = 0 + 1*t + 1*s\n",
    "    z = 1 + 2*t - 1*s\n",
    "\n",
    "    ax.plot_surface(x,y,z,alpha=.8)\n",
    "    r,v,w = np.column_stack([[0,0,0],[3,0,1],[3,0,1],n])\n",
    "    ax.quiver(r[:2],v[:2],w[:2],r[2:],v[2:],w[2:],color=['r','k']);\n",
    "    for c in 'xyz':\n",
    "        getattr(ax,f\"set_{c}lim\")([-6,6]);    \n",
    "        getattr(ax,f\"set_{c}label\")(f\"${c}$\",size=16)\n",
    "    ax.view_init(30, angle)\n"
   ]
  },
  {
   "cell_type": "markdown",
   "metadata": {
    "slideshow": {
     "slide_type": "slide"
    }
   },
   "source": [
    "### Exercises\n",
    "\n",
    "  1. Find an equation of the plane containing the line $\\vec r(t) = \\langle 1 - t, 2 + t, 3t \\rangle$ and the point $(3, 3, 3)$."
   ]
  },
  {
   "cell_type": "markdown",
   "metadata": {},
   "source": [
    "<p style=\"padding-bottom:40%;\"> </p>"
   ]
  },
  {
   "cell_type": "markdown",
   "metadata": {
    "slideshow": {
     "slide_type": "slide"
    }
   },
   "source": [
    "# Distance between points, lines, and planes\n",
    "\n",
    "The distance between points is given easily by the distance formula, but often one wants to know the distance from a position to a given set of points, or between two sets. First, we must specify by \"distance to a set\" we mean **the minimum of the distances to all points is the set**.\n",
    "\n",
    "#### Example\n",
    "\n",
    "Find the distance from the origin to the line given by \n",
    "$$\\vec r(t) = (3-t)\\,\\vec i + 2t\\,\\vec j + (t - 2)\\,\\vec k.$$"
   ]
  },
  {
   "cell_type": "code",
   "execution_count": 16,
   "metadata": {
    "hide_input": true,
    "jupyter": {
     "source_hidden": true
    },
    "slideshow": {
     "slide_type": "fragment"
    }
   },
   "outputs": [
    {
     "data": {
      "application/vnd.jupyter.widget-view+json": {
       "model_id": "50287c0746614f0a9170e15b429fd242",
       "version_major": 2,
       "version_minor": 0
      },
      "text/plain": [
       "interactive(children=(FloatSlider(value=1.5, description='t', max=5.0, min=-2.0), IntSlider(value=45, descript…"
      ]
     },
     "metadata": {},
     "output_type": "display_data"
    }
   ],
   "source": [
    "p,v = np.array([[3,0,-2],[-1,2,1]])\n",
    "pj = np.dot(p,v)/np.dot(v,v)*v\n",
    "@interact\n",
    "def _(t=(-2.,5.,.1),angle=(0,90,3),sol=False):\n",
    "    fig = plt.figure()\n",
    "    ax = fig.gca(projection='3d')\n",
    "    ax.quiver([0,0],[0,0],[0,0],[3,3-1*t],[0,2*t],[-2,-2+t])\n",
    "    ax.plot([5,-2],[-4,10],[-4,3],color='k',ls='dashed')\n",
    "    ax.view_init(30, angle)\n",
    "    ax.set_xlim([-1,5])\n",
    "    ax.set_ylim([-2,4])\n",
    "    ax.set_zlim([-2,4]);\n",
    "    if sol:\n",
    "        vx,vy,vz = np.column_stack([[0,0,0],pj,pj,p-pj])\n",
    "        ax.quiver(vx[:2],vy[:2],vz[:2],vx[2:],vy[2:],vz[2:],color='r')\n",
    "    for c in 'xyz':\n",
    "        getattr(ax,f\"set_{c}label\")(f\"${c}$\",size=16)"
   ]
  },
  {
   "cell_type": "markdown",
   "metadata": {},
   "source": [
    "<p style=\"padding-bottom:40%;\"> </p>"
   ]
  },
  {
   "cell_type": "markdown",
   "metadata": {
    "slideshow": {
     "slide_type": "subslide"
    }
   },
   "source": [
    "### Distance from a point to a line\n",
    "\n",
    "We can generalize this:\n",
    "The distance from a point at position $\\vec x$ to a line with parametric form $\\vec r (t) = \\vec p + t\\,\\vec v$ is given by $$|\\vec x - \\vec p - \\operatorname{proj}_\\vec v (\\vec x - \\vec p) |.$$"
   ]
  },
  {
   "cell_type": "markdown",
   "metadata": {},
   "source": [
    "<p style=\"padding-bottom:40%;\"> </p>"
   ]
  },
  {
   "cell_type": "markdown",
   "metadata": {
    "slideshow": {
     "slide_type": "subslide"
    }
   },
   "source": [
    "### Distance from a point to a plane\n",
    "\n",
    "The distance from a point at position $\\vec x$ to a plane with normal vector $\\vec n$ and a point at $\\vec p$ is in a sense more straight forward."
   ]
  },
  {
   "cell_type": "markdown",
   "metadata": {},
   "source": [
    "<p style=\"padding-bottom:40%;\"> </p>"
   ]
  },
  {
   "cell_type": "markdown",
   "metadata": {
    "slideshow": {
     "slide_type": "subslide"
    }
   },
   "source": [
    "# Space Curves \n",
    "\n",
    "## aka Vector-Valued Functions\n",
    "\n",
    "We turn our attention to functions of the form $$\\vec r: \\RR \\to \\RR^3$$ or, in component form, $$\\vec r(t) = \\bv{x(t) \\\\ y(t) \\\\ z(t)}.$$"
   ]
  },
  {
   "cell_type": "markdown",
   "metadata": {},
   "source": [
    "<p style=\"padding-bottom:40%;\"> </p>"
   ]
  },
  {
   "cell_type": "markdown",
   "metadata": {
    "slideshow": {
     "slide_type": "subslide"
    }
   },
   "source": [
    "### Examples\n",
    "\n",
    "We first interpret $\\vec r(t)$, as in the specific case of lines, as giving a position vector for each real scalar input $t$. Thus, we can plot these as a set of points, a **curve**."
   ]
  },
  {
   "cell_type": "code",
   "execution_count": 17,
   "metadata": {
    "hide_input": true,
    "jupyter": {
     "source_hidden": true
    },
    "slideshow": {
     "slide_type": "fragment"
    }
   },
   "outputs": [
    {
     "data": {
      "application/vnd.jupyter.widget-view+json": {
       "model_id": "cab12d7eb8694790a83ead94fb8d402a",
       "version_major": 2,
       "version_minor": 0
      },
      "text/plain": [
       "interactive(children=(FloatSlider(value=0.0, description='t', max=1.0, min=-1.0, step=0.05), Dropdown(descript…"
      ]
     },
     "metadata": {},
     "output_type": "display_data"
    }
   ],
   "source": [
    "r1 = lambda t: np.array([t,t**2,t**3])\n",
    "r2 = lambda t: np.array([cos(2*pi*t),sin(2*pi*t),t])\n",
    "r3 = lambda t: np.array([cos(8*pi*t),sin(3*pi*t),sin(7*pi*t)])\n",
    "\n",
    "@interact\n",
    "def _(t=(-1,1,.05),r={\"twist\":r1, \"helix\": r2, \"wacky\": r3},angle=(-90,120,6),vangle=(0,90,6)):\n",
    "    fig = plt.figure(figsize = (10,10))\n",
    "    ax = fig.add_subplot(111,projection='3d')\n",
    "    s = np.linspace(-1,1,300)\n",
    "    ax.view_init(vangle, angle)\n",
    "    ax.set_autoscale_on(True)\n",
    "    for c in 'xyz':\n",
    "        getattr(ax,f\"set_{c}lim\")([-1,1]);    \n",
    "        getattr(ax,f\"set_{c}label\")(f\"${c}$\",size=16)\n",
    "    X,Y,Z = np.column_stack([r(x) for x in s])\n",
    "    # make axes lines\n",
    "    ax.plot([-1,1],[0,0],[0,0],'k')\n",
    "    ax.plot([0,0],[-1,1],[0,0],'k')\n",
    "    ax.plot([0,0],[0,0],[-1,1],'k')\n",
    "    ax.plot(X,Y,Z,alpha=1,lw=3);\n",
    "    ax.quiver(0,0,0,r(t)[0],r(t)[1],r(t)[2])"
   ]
  },
  {
   "cell_type": "markdown",
   "metadata": {
    "slideshow": {
     "slide_type": "subslide"
    }
   },
   "source": [
    "### Exercise (via Stewart)\n",
    "\n",
    "<!-- ![Stewart 3.1.17–22](../img/stewart3-1-17.png) -->"
   ]
  },
  {
   "cell_type": "code",
   "execution_count": 18,
   "metadata": {
    "jupyter": {
     "source_hidden": true
    }
   },
   "outputs": [
    {
     "data": {
      "application/vnd.jupyter.widget-view+json": {
       "model_id": "67c672b167d8406383281fb8a6e32d32",
       "version_major": 2,
       "version_minor": 0
      },
      "text/plain": [
       "interactive(children=(IntSlider(value=-12, description='angle', max=96, min=-120, step=6), Output()), _dom_cla…"
      ]
     },
     "metadata": {},
     "output_type": "display_data"
    }
   ],
   "source": [
    "rr = list(range(6))\n",
    "np.random.shuffle(rr)\n",
    "rr\n",
    "tt = np.linspace(0,10,250)\n",
    "\n",
    "funs = [lambda t: np.array((t*cos(t),t,t*sin(t))),\n",
    "        lambda t: np.array((cos((t-5))**2,sin((t-5))**2,(t-5))),\n",
    "        lambda t: np.array((cos(t),sin(t),cos(2*t))),\n",
    "        lambda t: np.array((cos(8*(t-5)),sin(8*(t-5)),np.exp(.8*(t-5)))),\n",
    "        lambda t: np.array(((t-5),1/(((t-5))**2 + 1),((t-5))**2)),\n",
    "        lambda t: np.array((cos((3*(t-5))),sin((3*(t-5))),1/(1+((3*(t-5)))**2)))]\n",
    "\n",
    "@interact\n",
    "def _(angle=(-120,96,6)):\n",
    "    fig = plt.figure(figsize=(9,6))\n",
    "    for i in range(len(funs)):\n",
    "        ax = fig.add_subplot(2,3,i+1,projection='3d')\n",
    "        x,y,z = np.column_stack([funs[rr[i]](t) for t in tt])\n",
    "        ax.plot(x,y,z)\n",
    "        ax.view_init(30,angle)\n",
    "        for c in 'xyz':\n",
    "#             getattr(ax,f\"set_{c}lim\")([-1,1]);    \n",
    "            getattr(ax,f\"set_{c}label\")(f\"${c}$\",size=12)\n",
    "    "
   ]
  },
  {
   "cell_type": "markdown",
   "metadata": {},
   "source": [
    "<table>\n",
    "    <tr>\n",
    "        <td>A. $$\\langle t \\cos t, t, t\\sin t\\rangle$$</td>\n",
    "        <td>B. $$\\langle \\cos t, \\sin t, 1/(1+t^2)\\rangle$$</td>\n",
    "        <td>C. $$\\langle t, 1/(1+t^2),t^2\\rangle$$</td>\n",
    "    </tr>\n",
    "    <tr>\n",
    "         <td>D. $$\\langle \\cos t, \\sin t, \\cos 2t\\rangle$$</td>\n",
    "         <td>E. $$\\langle \\cos 8t, \\sin 8t, e^{0.8t}\\rangle$$</td>\n",
    "         <td>F. $$\\langle \\cos^2 t, \\sin^2 t, t\\rangle$$</td>\n",
    "    </tr>\n",
    "</table>"
   ]
  },
  {
   "cell_type": "markdown",
   "metadata": {},
   "source": [
    "<p style=\"padding-bottom:40%;\"> </p>"
   ]
  },
  {
   "cell_type": "markdown",
   "metadata": {
    "slideshow": {
     "slide_type": "subslide"
    }
   },
   "source": [
    "### Resource: CalcPlot3D\n",
    "\n",
    "A quick-and-easy place to visualize a lot of graphs in this course (and one that makes nicer pictures than your instructor, frankly) is Paul Seeburger's [CalcPlot3D](https://www.monroecc.edu/faculty/paulseeburger/calcnsf/CalcPlot3D/). \n",
    "\n",
    "Bookmark it and keep it on hand for quick visualizations."
   ]
  },
  {
   "cell_type": "markdown",
   "metadata": {
    "slideshow": {
     "slide_type": "slide"
    }
   },
   "source": [
    "### Example\n",
    "\n",
    "Parametrize the curve of the intersection of the cylinder $x^2 +y^2 =4 $ and the plane $x-2y+z=4$."
   ]
  },
  {
   "cell_type": "code",
   "execution_count": 19,
   "metadata": {
    "hide_input": true,
    "jupyter": {
     "source_hidden": true
    },
    "slideshow": {
     "slide_type": "fragment"
    }
   },
   "outputs": [
    {
     "data": {
      "application/vnd.jupyter.widget-view+json": {
       "model_id": "1feda46d698740959bd08f38698310dd",
       "version_major": 2,
       "version_minor": 0
      },
      "text/plain": [
       "interactive(children=(IntSlider(value=0, description='angle', max=96, min=-96, step=6), Output()), _dom_classe…"
      ]
     },
     "metadata": {},
     "output_type": "display_data"
    }
   ],
   "source": [
    "@interact\n",
    "def _(angle=(-96,96,6)):\n",
    "    fig = plt.figure()\n",
    "    ax = fig.gca(projection='3d')\n",
    "    x = y = np.linspace(-1,1,101)\n",
    "    x,y = np.meshgrid(x,y)\n",
    "    X = 2*cos(2*pi*x)\n",
    "    Y = 2*sin(2*pi*x)\n",
    "    Z = 4*y+3\n",
    "    ax.plot_surface(X,Y,Z,alpha=.6,cmap='ocean');\n",
    "    X = 2*x\n",
    "    Y = 2*y\n",
    "    Z = 4-X+2*Y\n",
    "    ax.plot_surface(X,Y,Z,alpha=1,color='purple')\n",
    "    for c in 'xy':\n",
    "            getattr(ax,f\"set_{c}lim\")([-2.5,2.5]);    \n",
    "            getattr(ax,f\"set_{c}label\")(f\"${c}$\",size=16)\n",
    "    ax.set_zlim([0,8])\n",
    "    ax.set_zlabel(\"$z$\",size=16)\n",
    "\n",
    "    ax.view_init(30,angle)"
   ]
  },
  {
   "cell_type": "markdown",
   "metadata": {},
   "source": [
    "<p style=\"padding-bottom:40%;\"> </p>"
   ]
  },
  {
   "cell_type": "markdown",
   "metadata": {
    "slideshow": {
     "slide_type": "slide"
    }
   },
   "source": [
    "# Calculus of Vector-Valued Functions"
   ]
  },
  {
   "cell_type": "markdown",
   "metadata": {
    "slideshow": {
     "slide_type": "fragment"
    }
   },
   "source": [
    "## Limits\n",
    "\n",
    "Let $\\vec r (t) = \\langle x(t),y(t),z(t) \\rangle$ then the definition of a limit looks nearly identical to that for scalar-valued funtions. $$\\lim_{t \\to a} \\vec r(t) = \\vec L $$ if $|\\vec r(t) - \\vec L|$ gets arbitrarily small as $t$ approaches $a$."
   ]
  },
  {
   "cell_type": "markdown",
   "metadata": {
    "slideshow": {
     "slide_type": "fragment"
    }
   },
   "source": [
    "In other words, $$\\lim_{t \\to a} \\vec r(t) = \\bv{\\lim_{t \\to a} x(t) \\\\\\lim_{t \\to a} y(t) \\\\ \\lim_{t \\to a} z(t) }$$ where the LHS exists if and only if all limits on the RHS exist."
   ]
  },
  {
   "cell_type": "markdown",
   "metadata": {},
   "source": [
    "<p style=\"padding-bottom:40%;\"> </p>"
   ]
  },
  {
   "cell_type": "markdown",
   "metadata": {
    "slideshow": {
     "slide_type": "subslide"
    }
   },
   "source": [
    "## Derivatives\n",
    "\n",
    "A similar story happens when we try to import the definition of a derivative to this context. $$\\vec r'(t) = \\lim_{h \\to 0} \\frac{\\vec r(t+h) - \\vec r(t)}{h} $$"
   ]
  },
  {
   "cell_type": "markdown",
   "metadata": {
    "slideshow": {
     "slide_type": "fragment"
    }
   },
   "source": [
    "$$ = \\bv{x'(t) \\\\ y'(t) \\\\ z'(t)}$$"
   ]
  },
  {
   "cell_type": "markdown",
   "metadata": {
    "slideshow": {
     "slide_type": "fragment"
    }
   },
   "source": [
    "... but the geometric view is actually interesting..."
   ]
  },
  {
   "cell_type": "markdown",
   "metadata": {},
   "source": [
    "<p style=\"padding-bottom:40%;\"> </p>"
   ]
  },
  {
   "cell_type": "markdown",
   "metadata": {
    "slideshow": {
     "slide_type": "subslide"
    }
   },
   "source": [
    "### Example\n",
    "\n",
    "Consider the curve $\\vec r(t) = \\langle -t \\cos t, t \\sin t \\rangle $ in the plane for $t \\in [0,2\\pi]$. \n",
    "  - Compute $\\vec r'(\\pi/2)$. \n",
    "  - Draw several \"values\" of the difference quotient in the limit definition of the derivative. \n",
    "  - Interpret the derivative as a vector. "
   ]
  },
  {
   "cell_type": "code",
   "execution_count": 20,
   "metadata": {
    "hide_input": true,
    "jupyter": {
     "source_hidden": true
    },
    "slideshow": {
     "slide_type": "fragment"
    }
   },
   "outputs": [
    {
     "data": {
      "application/vnd.jupyter.widget-view+json": {
       "model_id": "9d3dfa0a66114dfe852db8e96b892c60",
       "version_major": 2,
       "version_minor": 0
      },
      "text/plain": [
       "interactive(children=(FloatSlider(value=0.9, description='h', max=1.0, min=-0.9, step=0.05), Output()), _dom_c…"
      ]
     },
     "metadata": {},
     "output_type": "display_data"
    }
   ],
   "source": [
    "r = lambda t: np.array([- t*cos(t),t*sin(t)])\n",
    "r2 = lambda t: np.array([cos(2*pi*t),sin(2*pi*t),t])\n",
    "r3 = lambda t: np.array([cos(8*pi*t),sin(3*pi*t),sin(7*pi*t)])\n",
    "\n",
    "@interact(h=(-.9,1,.05))\n",
    "def _(h=.9):\n",
    "    fig = plt.figure(figsize = (10,6))\n",
    "    ax = fig.add_subplot(111)\n",
    "    s = np.linspace(0,pi,300)\n",
    "    ax.set_autoscale_on(True)\n",
    "    for c in 'xy':\n",
    "        getattr(ax,f\"set_{c}label\")(f\"${c}$\",size=16)\n",
    "    X,Y = np.column_stack([r(x) for x in s])\n",
    "    # make axes lines\n",
    "    ax.plot(X,Y,alpha=1,lw=3);\n",
    "    ax.plot([-1,pi],[0,0],'k')\n",
    "    ax.plot([0,0],[0,pi],'k')\n",
    "    v = r(pi/2+h)-r(pi/2)\n",
    "    ax.quiver([0,0],[pi/2,pi/2],[v[0],h == 0 and pi/2 or v[0]/h ],[v[1],h == 0 and 1 or v[1]/h],angles='xy', scale_units='xy', scale=1)"
   ]
  },
  {
   "cell_type": "markdown",
   "metadata": {
    "slideshow": {
     "slide_type": "subslide"
    }
   },
   "source": [
    "#### Quick exercise\n",
    "\n",
    "What is the derivative of the parametrized line $$\\vec r(t) = \\vec p + t \\vec v ?$$"
   ]
  }
 ],
 "metadata": {
  "celltoolbar": "Slideshow",
  "kernelspec": {
   "display_name": "Python 3",
   "language": "python",
   "name": "python3"
  },
  "language_info": {
   "codemirror_mode": {
    "name": "ipython",
    "version": 3
   },
   "file_extension": ".py",
   "mimetype": "text/x-python",
   "name": "python",
   "nbconvert_exporter": "python",
   "pygments_lexer": "ipython3",
   "version": "3.9.1"
  },
  "rise": {
   "enable_chalkboard": true,
   "scroll": true,
   "theme": "sky",
   "transition": "concave"
  }
 },
 "nbformat": 4,
 "nbformat_minor": 4
}
