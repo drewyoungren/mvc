{
 "cells": [
  {
   "cell_type": "code",
   "execution_count": 1,
   "metadata": {
    "slideshow": {
     "slide_type": "skip"
    },
    "tags": []
   },
   "outputs": [],
   "source": [
    "import numpy as np\n",
    "import matplotlib\n",
    "import matplotlib.pyplot as plt\n",
    "from IPython.display import display, HTML, IFrame\n",
    "from ipywidgets import interact, widgets, FloatSlider, IntSlider, Checkbox, Layout, Dropdown, Output, VBox, HBox\n",
    "# import networkx as nx\n",
    "from mpl_toolkits.mplot3d import Axes3D \n",
    "from matplotlib import cm\n",
    "\n",
    "from numpy import sin, cos, exp, pi, sqrt, linspace, arange, meshgrid\n",
    "\n",
    "%matplotlib widget\n",
    "\n",
    "# Uncomment the one that corresponds to your Jupyter theme\n",
    "plt.style.use('default')\n",
    "# plt.style.use('dark_background')\n",
    "# plt.style.use('fivethirtyeight')\n",
    "# plt.style.use('Solarize_Light2')\n",
    "\n",
    "plt.rcParams.update({\n",
    "    \"figure.figsize\": (6, 6),\n",
    "    \"text.usetex\": True,\n",
    "    \"font.family\": \"serif\",\n",
    "})"
   ]
  },
  {
   "cell_type": "code",
   "execution_count": 2,
   "metadata": {
    "tags": []
   },
   "outputs": [
    {
     "data": {
      "text/html": [
       "<style>\n",
       "tr {\n",
       "    font-size: 1.5em;\n",
       "}\n",
       "    li.thm {\n",
       "        margin: 10px 0;\n",
       "    }\n",
       "    .shadow {\n",
       "        /*Edit or add new attributes, change size, color, etc */\n",
       "        width: 75%;\n",
       "        box-shadow: 8px 8px 10px #444;\n",
       "        border: 1px solid silver;\n",
       "\n",
       "        /*For positioning in a jupyter notebook*/\n",
       "        margin-top: 2em;\n",
       "        position: relative;\n",
       "        top: -25px\n",
       "    }\n",
       "\n",
       "    ol li {\n",
       "        padding: .5em;\n",
       "    }\n",
       "</style>\n"
      ],
      "text/plain": [
       "<IPython.core.display.HTML object>"
      ]
     },
     "metadata": {},
     "output_type": "display_data"
    }
   ],
   "source": [
    "%%html\n",
    "<style>\n",
    "tr {\n",
    "    font-size: 1.5em;\n",
    "}\n",
    "    li.thm {\n",
    "        margin: 10px 0;\n",
    "    }\n",
    "    .shadow {\n",
    "        /*Edit or add new attributes, change size, color, etc */\n",
    "        width: 75%;\n",
    "        box-shadow: 8px 8px 10px #444;\n",
    "        border: 1px solid silver;\n",
    "\n",
    "        /*For positioning in a jupyter notebook*/\n",
    "        margin-top: 2em;\n",
    "        position: relative;\n",
    "        top: -25px\n",
    "    }\n",
    "\n",
    "    ol li {\n",
    "        padding: .5em;\n",
    "    }\n",
    "</style>"
   ]
  },
  {
   "cell_type": "markdown",
   "metadata": {
    "slideshow": {
     "slide_type": "notes"
    }
   },
   "source": [
    "$\\newcommand{\\RR}{\\mathbb{R}}$\n",
    "$\\newcommand{\\bv}[1]{\\begin{bmatrix} #1 \\end{bmatrix}}$\n",
    "$\\renewcommand{\\vec}{\\mathbf}$"
   ]
  },
  {
   "cell_type": "markdown",
   "metadata": {
    "slideshow": {
     "slide_type": "slide"
    },
    "tags": []
   },
   "source": [
    "## One(-or-so)-minute Review\n",
    "\n",
    "  - Distance between points in $\\RR^n = \\{(x_1, \\dots,x_n): x_i \\in \\RR\\}$ is measured by $$\\sqrt{\\sum_{i=1}^n (x_i - y_i)^2}$$\n",
    "  - A vector $\\vec v$ is a directed line segment modulo location. \n",
    "  - It can be specified by the displacement in each coordinate. \n",
    "  $$\\vec v = \\langle v_1, v_2, v_3 \\rangle $$\n",
    "  - The **length** of a vector is (in $\\RR^3$), the scalar\n",
    "   $$|\\vec v| = \\sqrt{v_1^2+ v_2^2 + v_3^2}$$\n",
    "  - Thus the distance between points with position vectors $\\vec v $ and $\\vec w$ is simply $|\\vec v - \\vec w|$.\n"
   ]
  },
  {
   "cell_type": "markdown",
   "metadata": {},
   "source": [
    "<div style=\"padding-bottom: 40%\"></div>"
   ]
  },
  {
   "cell_type": "markdown",
   "metadata": {
    "slideshow": {
     "slide_type": "slide"
    }
   },
   "source": [
    "## Vector Operations\n",
    "\n",
    "Let $\\vec v, \\vec w$ be vectors in $\\RR^n$ and $c$ a scalar. \n",
    "\n",
    "| Operation | Notation | Formula | Output |\n",
    "|---|---| --- |---|\n",
    "| magnitude    | $|\\vec v|$ | $$\\sqrt{\\sum v_i^2}$$ | scalar |\n",
    "| scalar multiplication | $c \\vec v$ | $$\\langle c v_1, \\ldots ,c v_n \\rangle $$| vector |\n",
    "| vector addition | $\\vec v + \\vec w$ | $$\\langle v_1 + w_1,\\ldots, v_n + w_n \\rangle $$| vector |"
   ]
  },
  {
   "cell_type": "markdown",
   "metadata": {},
   "source": [
    "<div style=\"padding-bottom: 40%\"></div>"
   ]
  },
  {
   "cell_type": "markdown",
   "metadata": {
    "slideshow": {
     "slide_type": "slide"
    }
   },
   "source": [
    "## Linear Combinations\n",
    "\n",
    "A *linear combination* of vectors $\\vec v$ and $\\vec w$ is the expression $$a \\vec v + b \\vec w$$ where $a$ and $b$ are scalars."
   ]
  },
  {
   "cell_type": "code",
   "execution_count": 3,
   "metadata": {
    "jupyter": {
     "source_hidden": true
    },
    "tags": []
   },
   "outputs": [
    {
     "data": {
      "application/vnd.jupyter.widget-view+json": {
       "model_id": "f8b22fde816e49e8ac776b80143d5eb3",
       "version_major": 2,
       "version_minor": 0
      },
      "text/plain": [
       "VBox(children=(FloatSlider(value=1.0, description='$a$', max=2.0, min=-2.0, step=0.01), FloatSlider(value=0.0,…"
      ]
     },
     "metadata": {},
     "output_type": "display_data"
    }
   ],
   "source": [
    "def a(TITLE):\n",
    "    if TITLE in plt.get_figlabels():\n",
    "        plt.close(plt.figure(TITLE))\n",
    "\n",
    "    plt.ioff()\n",
    "    fig,ax = plt.subplots(num=TITLE)\n",
    "    plt.ion()\n",
    "    \n",
    "    ax.set_xlim(-4,4)\n",
    "    ax.set_ylim(-4,4)\n",
    "\n",
    "    ax.arrow(0,0,2,1,color='r',width=.02,head_width=.1,lw=4)\n",
    "    ax.arrow(0,0,-1/2,3/2,color='b',width=.02,head_width=.1,lw=4)\n",
    "    \n",
    "    sliderA = FloatSlider(min=-2,max=2, step=.01, description=\"$a$\", value=1)\n",
    "    sliderB = FloatSlider(min=-2,max=2, step=.01, description=\"$b$\", value=0)\n",
    "    \n",
    "    def update(change):\n",
    "        while len(ax.patches) > 2:\n",
    "            ax.patches.pop()\n",
    "        a, b = sliderA.value, sliderB.value\n",
    "        ax.arrow(0,0,2*a,a,alpha = .3)\n",
    "        ax.arrow(0,0,-b/2,b*3/2,alpha=.3)\n",
    "        ax.arrow(0,0,2*a - b/2,a + b*3/2,color='purple', width=.02,head_width=.1,lw=4)\n",
    "    \n",
    "    for w in [sliderA, sliderB]:\n",
    "        w.observe(update, names='value')\n",
    "    \n",
    "    return widgets.VBox([sliderA, sliderB, fig.canvas])\n",
    "\n",
    "a(\"Linear Combinations\")"
   ]
  },
  {
   "cell_type": "markdown",
   "metadata": {},
   "source": [
    "<div style=\"padding-bottom: 40%\"></div>"
   ]
  },
  {
   "cell_type": "markdown",
   "metadata": {
    "slideshow": {
     "slide_type": "subslide"
    }
   },
   "source": [
    "### Special Case\n",
    "\n",
    "Consider a linear combination $c\\vec v + d\\vec w$ such that $c+d=1$. Which vectors result?"
   ]
  },
  {
   "cell_type": "code",
   "execution_count": 4,
   "metadata": {
    "jupyter": {
     "source_hidden": true
    },
    "tags": []
   },
   "outputs": [
    {
     "data": {
      "application/vnd.jupyter.widget-view+json": {
       "model_id": "d92d6f3027db4f9aa2e85e72c133214f",
       "version_major": 2,
       "version_minor": 0
      },
      "text/plain": [
       "VBox(children=(FloatSlider(value=0.0, max=1.0, step=0.01), Canvas(toolbar=Toolbar(toolitems=[('Home', 'Reset o…"
      ]
     },
     "metadata": {},
     "output_type": "display_data"
    }
   ],
   "source": [
    "def a(TITLE):\n",
    "    if TITLE in plt.get_figlabels():\n",
    "        plt.close(plt.figure(TITLE))\n",
    "    \n",
    "    plt.ioff()\n",
    "    fig, ax = plt.subplots(num=TITLE)\n",
    "    plt.ion()\n",
    "    \n",
    "    slider = FloatSlider(min=0, max=1, step=.01, value=0)\n",
    "    ax.set_xlim(-4,4)\n",
    "    ax.set_ylim(-4,4)\n",
    "\n",
    "\n",
    "    ax.grid(True)\n",
    "    \n",
    "    def update(change):\n",
    "        ax.patches.clear()\n",
    "        \n",
    "        t = slider.value\n",
    "        \n",
    "        ax.arrow(0,0,2,1,color='r',width=.02,head_width=.1,lw=4,length_includes_head=True)\n",
    "        ax.arrow(0,0,-1/2,3/2,color='b',width=.02,head_width=.1,lw=4,length_includes_head=True)\n",
    "        ax.arrow(0,0,2*t,t,alpha = .3,length_includes_head=True)\n",
    "        ax.arrow(0,0,-(1-t)/2,(1-t)*3/2,alpha=.3,length_includes_head=True)\n",
    "        ax.arrow(0,0,2*t - (1-t)/2,t + (1-t)*3/2,color='purple', width=.02,head_width=.1,lw=4,length_includes_head=True)\n",
    "\n",
    "    update({})\n",
    "    \n",
    "    slider.observe(update, names='value')\n",
    "    \n",
    "    return VBox([slider, fig.canvas])\n",
    "\n",
    "a(\"A special case\")"
   ]
  },
  {
   "cell_type": "markdown",
   "metadata": {
    "slideshow": {
     "slide_type": "fragment"
    }
   },
   "source": [
    "We can see they form a line throw $\\vec v$ and $\\vec w$ by noting $d=1-c$, and thus,\n",
    "$$c\\vec v + d\\vec w = c\\vec v +(1-c)\\vec w = \\vec w + c(\\vec v-\\vec w)$$\n",
    "so every such vector \"starts\" at $\\vec w$ and moves some multiple of the direction toward $\\vec v$."
   ]
  },
  {
   "cell_type": "markdown",
   "metadata": {},
   "source": [
    "<p style=\"padding-bottom:40%;\"> </p>"
   ]
  },
  {
   "cell_type": "markdown",
   "metadata": {
    "slideshow": {
     "slide_type": "slide"
    }
   },
   "source": [
    "# Special Basis Vectors\n",
    "\n",
    "In $\\RR^3$, since we use them so often, we define special basis vectors \n",
    "$$\\vec i = \\bv{1 \\\\ 0 \\\\ 0} \\qquad \\vec j = \\bv{0 \\\\ 1  \\\\ 0} \\qquad \\vec k = \\bv{0 \\\\ 0 \\\\ 1 }$$"
   ]
  },
  {
   "cell_type": "markdown",
   "metadata": {
    "slideshow": {
     "slide_type": "fragment"
    }
   },
   "source": [
    "Then every vector is an obvious linear combination of these. \n",
    "$$\\langle a, b, c \\rangle = a\\,\\vec i + b\\,\\vec j + c\\,\\vec k$$"
   ]
  },
  {
   "cell_type": "markdown",
   "metadata": {},
   "source": [
    "<p style=\"padding-bottom:40%;\"> </p>"
   ]
  },
  {
   "cell_type": "markdown",
   "metadata": {
    "slideshow": {
     "slide_type": "slide"
    }
   },
   "source": [
    "# Lecture 02\n",
    "\n",
    "Objectives:\n",
    "  - Dot product\n",
    "    - definition\n",
    "    - algebraic and geometric views\n",
    "  - Cross product\n",
    "    - definition\n",
    "    - mnemonic\n",
    "    - key properties\n",
    " \n",
    " References:\n",
    "   - Openstax (Strang et al)\n",
    "     - [§1.3 The Dot Product](https://openstax.org/books/calculus-volume-3/pages/2-3-the-dot-product) \n",
    "     - [§1.4 The Cross Product](https://openstax.org/books/calculus-volume-3/pages/2-4-the-cross-product)"
   ]
  },
  {
   "cell_type": "markdown",
   "metadata": {},
   "source": [
    "<p style=\"padding-bottom:40%;\"> </p>"
   ]
  },
  {
   "cell_type": "markdown",
   "metadata": {
    "slideshow": {
     "slide_type": "slide"
    }
   },
   "source": [
    "## The Dot Product\n",
    "\n",
    "We expand our list of vector operations with the **dot** (or **inner** or **scalar**) **product**.\n",
    "\n",
    "$$\\vec v \\cdot \\vec w = \\sum_{i=1}^n v_i w_i$$"
   ]
  },
  {
   "cell_type": "markdown",
   "metadata": {
    "slideshow": {
     "slide_type": "fragment"
    },
    "tags": []
   },
   "source": [
    "#### Examples"
   ]
  },
  {
   "cell_type": "markdown",
   "metadata": {
    "slideshow": {
     "slide_type": "fragment"
    },
    "tags": []
   },
   "source": [
    "  - $\\langle 4,2, -1 \\rangle \\cdot \\langle -2,6, 0 \\rangle = -8 + 12 + 0 = 4 $"
   ]
  },
  {
   "cell_type": "markdown",
   "metadata": {
    "slideshow": {
     "slide_type": "fragment"
    },
    "tags": []
   },
   "source": [
    "  - Compare: $$\\begin{bmatrix} 4 \\\\ 2 \\\\ -1 \\end{bmatrix}\\cdot \\begin{bmatrix} 2 \\\\ 6 \\\\ 0 \\end{bmatrix} = -8 + 12 = 4 $$"
   ]
  },
  {
   "cell_type": "markdown",
   "metadata": {
    "slideshow": {
     "slide_type": "fragment"
    },
    "tags": []
   },
   "source": [
    "  - $\\vec i \\cdot \\vec i = 1$"
   ]
  },
  {
   "cell_type": "markdown",
   "metadata": {
    "slideshow": {
     "slide_type": "fragment"
    },
    "tags": []
   },
   "source": [
    "  - $\\vec i \\cdot \\vec j = \\vec i \\cdot \\vec k = \\vec j \\cdot \\vec k = 0$"
   ]
  },
  {
   "cell_type": "markdown",
   "metadata": {},
   "source": [
    "### "
   ]
  },
  {
   "cell_type": "markdown",
   "metadata": {},
   "source": [
    "<p style=\"padding-bottom:40%;\"> </p>"
   ]
  },
  {
   "cell_type": "markdown",
   "metadata": {
    "slideshow": {
     "slide_type": "subslide"
    },
    "tags": []
   },
   "source": [
    "## Properties of the dot product. "
   ]
  },
  {
   "cell_type": "markdown",
   "metadata": {
    "slideshow": {
     "slide_type": "subslide"
    },
    "tags": []
   },
   "source": [
    "  - $\\vec v \\cdot \\vec v = |\\vec v |^2 = v_1^2 + v_2^2 + \\ldots$"
   ]
  },
  {
   "cell_type": "markdown",
   "metadata": {
    "slideshow": {
     "slide_type": "fragment"
    },
    "tags": []
   },
   "source": [
    "  - $\\vec v \\cdot \\vec 0 = 0$"
   ]
  },
  {
   "cell_type": "markdown",
   "metadata": {
    "slideshow": {
     "slide_type": "fragment"
    },
    "tags": []
   },
   "source": [
    "  - $\\vec v \\cdot \\vec w = \\vec w \\cdot \\vec v$"
   ]
  },
  {
   "cell_type": "markdown",
   "metadata": {
    "slideshow": {
     "slide_type": "fragment"
    },
    "tags": []
   },
   "source": [
    "  - $(c\\vec u + d\\vec v) \\cdot \\vec w = c(\\vec u \\cdot \\vec w) + d (\\vec v \\cdot \\vec w)$"
   ]
  },
  {
   "cell_type": "markdown",
   "metadata": {},
   "source": [
    "<p style=\"padding-bottom:40%;\"> </p>"
   ]
  },
  {
   "cell_type": "markdown",
   "metadata": {},
   "source": [
    "### Exercise"
   ]
  },
  {
   "cell_type": "code",
   "execution_count": 5,
   "metadata": {
    "jupyter": {
     "source_hidden": true
    },
    "tags": []
   },
   "outputs": [
    {
     "data": {
      "text/html": [
       "\n",
       "        <iframe\n",
       "            width=\"800\"\n",
       "            height=\"600\"\n",
       "            src=\"https://embed.polleverywhere.com/multiple_choice_polls/m8rI2GBEJASfzT4uT3S8v?controls=none&short_poll=true\"\n",
       "            frameborder=\"0\"\n",
       "            allowfullscreen\n",
       "            \n",
       "        ></iframe>\n",
       "        "
      ],
      "text/plain": [
       "<IPython.lib.display.IFrame at 0x139993520>"
      ]
     },
     "execution_count": 5,
     "metadata": {},
     "output_type": "execute_result"
    }
   ],
   "source": [
    "url=\"https://embed.polleverywhere.com/multiple_choice_polls/m8rI2GBEJASfzT4uT3S8v?controls=none&short_poll=true\"\n",
    "IFrame(src=url, width=800, height=600)"
   ]
  },
  {
   "cell_type": "markdown",
   "metadata": {
    "slideshow": {
     "slide_type": "slide"
    }
   },
   "source": [
    "## Dot products and angles"
   ]
  },
  {
   "cell_type": "code",
   "execution_count": 6,
   "metadata": {
    "jupyter": {
     "source_hidden": true
    },
    "tags": []
   },
   "outputs": [
    {
     "data": {
      "application/vnd.jupyter.widget-view+json": {
       "model_id": "c2283369b0d746a19c3c904fdc08da22",
       "version_major": 2,
       "version_minor": 0
      },
      "text/plain": [
       "VBox(children=(FloatSlider(value=0.0, description='$\\\\alpha$', max=6.283185307179586, min=-3.141592653589793, …"
      ]
     },
     "metadata": {},
     "output_type": "display_data"
    }
   ],
   "source": [
    "def a(TITLE):\n",
    "    if TITLE in plt.get_figlabels():\n",
    "        plt.close(plt.figure(TITLE))\n",
    "\n",
    "    plt.ioff()\n",
    "    fig,ax = plt.subplots(num=TITLE)\n",
    "    plt.ion()\n",
    "    \n",
    "    ax.set_xlim(-4,4)\n",
    "    ax.set_ylim(-4,4)\n",
    "    ax.grid(True)\n",
    "\n",
    "    t = linspace(0,1,100)\n",
    "\n",
    "    sliderA = FloatSlider(min=-pi, max = 2*pi, step = pi/60, description=r\"$\\alpha$\")\n",
    "    sliderT = FloatSlider(min=0, max = 2*pi, step = pi/60, value=pi/4, description=r\"$\\theta$\")\n",
    "    \n",
    "    def update(change):\n",
    "        while ax.lines:\n",
    "            ax.lines.pop()\n",
    "        while ax.collections:\n",
    "            ax.collections.pop()          \n",
    "        while ax.texts:\n",
    "            ax.texts.pop()            \n",
    "        \n",
    "        al,th = sliderA.value, sliderT.value\n",
    "        \n",
    "        ax.quiver(0,0,3/sqrt(2)*cos(al),\n",
    "             3/sqrt(2)*sin(al),color='r',angles='xy', scale_units='xy', scale=1)\n",
    "        ax.quiver(0,0,sqrt(2)*cos(th+al),\n",
    "                 sqrt(2)*sin(th+al),color='b',\n",
    "                 angles='xy', scale_units='xy', scale=1)\n",
    "\n",
    "        ax.text(0,3.5,f\"$\\\\vec v\\\\cdot\\\\vec w = {3*cos(th):.4f}$\",fontsize=22)\n",
    "        ax.plot(cos(al + t*th)/2, sin(al + t*th)/2,c='b', zorder=-1)\n",
    "        if th > 0:\n",
    "            ax.text(cos(th/2 + al),sin(th/2 + al),f\"$\\\\theta$\",fontsize=22, ha='center', va='center')\n",
    "        ax.plot(cos(al*t)/3*2, sin(al*t)/3*2,zorder=-1,c='r')\n",
    "        if al > 0:\n",
    "            ax.text(cos(al/2),sin(al/2),f\"$\\\\alpha$\",fontsize=22, ha='center', va='center')\n",
    "    \n",
    "    for w in [sliderA, sliderT]:\n",
    "        w.observe(update, names='value')\n",
    "    \n",
    "    update({})\n",
    "    \n",
    "    return VBox([sliderA, sliderT, fig.canvas])\n",
    "\n",
    "a(\"Dot Products and Angles\")"
   ]
  },
  {
   "cell_type": "markdown",
   "metadata": {},
   "source": [
    "<p style=\"padding-bottom:40%;\"> </p>"
   ]
  },
  {
   "cell_type": "markdown",
   "metadata": {
    "slideshow": {
     "slide_type": "subslide"
    }
   },
   "source": [
    "## Geometric View\n",
    "\n",
    "The following formula best summarizes the significance of the dot product. \n",
    "\n",
    "$$\\vec v \\cdot \\vec w = |\\vec v | | \\vec w | \\cos \\theta $$\n",
    "\n",
    "where $\\theta$ is the angle between the vectors. "
   ]
  },
  {
   "cell_type": "markdown",
   "metadata": {
    "slideshow": {
     "slide_type": "fragment"
    }
   },
   "source": [
    "This equation holds in any dimension. "
   ]
  },
  {
   "cell_type": "markdown",
   "metadata": {},
   "source": [
    "<p style=\"padding-bottom:40%;\"> </p>"
   ]
  },
  {
   "cell_type": "markdown",
   "metadata": {
    "slideshow": {
     "slide_type": "fragment"
    }
   },
   "source": [
    "<div class=\"alert alert-block alert-info shadow\">\n",
    "<strong>Definition</strong>\n",
    "    \n",
    "<p>Two vectors $\\vec v$ and $\\vec w$ are <b>orthogonal</b> provided $\\vec v \\cdot \\vec w =0$. </p>\n",
    "\n",
    "<p>*Perpendicular*, usually for dimesions 2 and 3, is also acceptable.</p>\n",
    "</div>"
   ]
  },
  {
   "cell_type": "markdown",
   "metadata": {},
   "source": [
    "<p style=\"padding-bottom:40%;\"> </p>"
   ]
  },
  {
   "cell_type": "markdown",
   "metadata": {
    "slideshow": {
     "slide_type": "slide"
    }
   },
   "source": [
    "\n",
    "### [Exercise](https://PollEv.com/multiple_choice_polls/XohgLLf7HHGw0swRP3OL1/respond)\n",
    "\n",
    "What angle does the line $x = y = z$ make with the $xy$-plane?"
   ]
  },
  {
   "cell_type": "code",
   "execution_count": 7,
   "metadata": {
    "jupyter": {
     "source_hidden": true
    },
    "tags": []
   },
   "outputs": [
    {
     "data": {
      "text/html": [
       "\n",
       "        <iframe\n",
       "            width=\"800\"\n",
       "            height=\"600\"\n",
       "            src=\"https://embed.polleverywhere.com/multiple_choice_polls/kdscgCqDWSbzqUevoaQdb?controls=none&short_poll=true\"\n",
       "            frameborder=\"0\"\n",
       "            allowfullscreen\n",
       "            \n",
       "        ></iframe>\n",
       "        "
      ],
      "text/plain": [
       "<IPython.lib.display.IFrame at 0x139a9d910>"
      ]
     },
     "execution_count": 7,
     "metadata": {},
     "output_type": "execute_result"
    }
   ],
   "source": [
    "src=\"https://embed.polleverywhere.com/multiple_choice_polls/kdscgCqDWSbzqUevoaQdb?controls=none&short_poll=true\"\n",
    "IFrame(src=src, width=800, height=600)"
   ]
  },
  {
   "cell_type": "markdown",
   "metadata": {},
   "source": [
    "<p style=\"padding-bottom:40%;\"> </p>"
   ]
  },
  {
   "cell_type": "markdown",
   "metadata": {
    "slideshow": {
     "slide_type": "slide"
    }
   },
   "source": [
    "## Projection\n",
    "\n",
    "Let $\\vec v = \\langle 3, 1 \\rangle$ and $\\vec w = \\langle 1,1 \\rangle$. Find the scalar $c$ such that $$ |\\vec v - c\\vec w|$$ is as small as possible.\n",
    "\n",
    "**Reinterpretation**\n",
    "> Find the multiple of vector $\\vec w $ *closest* to $\\vec v$.\n",
    "\n"
   ]
  },
  {
   "cell_type": "code",
   "execution_count": 8,
   "metadata": {
    "jupyter": {
     "source_hidden": true
    },
    "tags": []
   },
   "outputs": [
    {
     "data": {
      "application/vnd.jupyter.widget-view+json": {
       "model_id": "239bed468b2e4b339ce0e4f4598a649d",
       "version_major": 2,
       "version_minor": 0
      },
      "text/plain": [
       "VBox(children=(FloatSlider(value=0.0, max=7.0), Canvas(toolbar=Toolbar(toolitems=[('Home', 'Reset original vie…"
      ]
     },
     "metadata": {},
     "output_type": "display_data"
    }
   ],
   "source": [
    "def a(TITLE):\n",
    "    if TITLE in plt.get_figlabels():\n",
    "        plt.close(plt.figure(TITLE))\n",
    "\n",
    "    plt.ioff()\n",
    "    fig,ax = plt.subplots(num=TITLE)\n",
    "    plt.ion()\n",
    "\n",
    "    slider = FloatSlider(min=0, max = 7, step=.1)\n",
    "    ax.grid()\n",
    "    ax.set_xlim([0,8])\n",
    "    ax.set_ylim([0,8])\n",
    "\n",
    "    ax.text(5,3,f\"$\\\\vec v$\",size=18)\n",
    "    ax.arrow(0,0,5,3,color='r',width=.02,head_width=.1,lw=2,length_includes_head=True)\n",
    "    cv = ax.arrow(0,0,1, 1,color='b',width=.02,head_width=.1,lw=3, length_includes_head=True)\n",
    "\n",
    "    c = slider.value\n",
    "    t1 = ax.text(2,7,f\"$|\\\\vec v- c \\\\vec w | = {np.linalg.norm(np.array([5-c,3-c])):.4f}$\",size=22)\n",
    "    t2 = ax.text(c-1,c,f\"${c:.1f}\\\\vec w$\",size=18)\n",
    "    \n",
    "    def update(change):\n",
    "        c = slider.value\n",
    "\n",
    "        cv.set_data(dx=c,dy=c)\n",
    "\n",
    "        t1.set_text(f\"$|\\\\vec v- c \\\\vec w | = {np.linalg.norm(np.array([5-c,3-c])):.4f}$\")\n",
    "        t2.set_x(c-1)\n",
    "        t2.set_y(c)\n",
    "        t2.set_text(f\"${c:.1f}\\\\vec w$\")\n",
    "    \n",
    "    slider.observe(update, names='value')\n",
    "    update({})\n",
    "    \n",
    "    return VBox([slider, fig.canvas])\n",
    "\n",
    "a(\"As close as possible\")"
   ]
  },
  {
   "cell_type": "markdown",
   "metadata": {},
   "source": [
    "<p style=\"padding-bottom:40%;\"> </p>"
   ]
  },
  {
   "cell_type": "code",
   "execution_count": 9,
   "metadata": {
    "jupyter": {
     "source_hidden": true
    },
    "tags": []
   },
   "outputs": [
    {
     "data": {
      "application/vnd.jupyter.widget-view+json": {
       "model_id": "cbcc4f27bd0146c6b6dfb0f891563a7c",
       "version_major": 2,
       "version_minor": 0
      },
      "text/plain": [
       "VBox(children=(FloatSlider(value=0.0, max=7.0), Canvas(toolbar=Toolbar(toolitems=[('Home', 'Reset original vie…"
      ]
     },
     "metadata": {},
     "output_type": "display_data"
    }
   ],
   "source": [
    "def a(TITLE):\n",
    "    if TITLE in plt.get_figlabels():\n",
    "        plt.close(plt.figure(TITLE))\n",
    "\n",
    "    plt.ioff()\n",
    "    fig,ax = plt.subplots(num=TITLE)\n",
    "    plt.ion()\n",
    "\n",
    "    slider = FloatSlider(min=0, max = 7, step=.1)\n",
    "    ax.grid()\n",
    "    ax.set_xlim([0,8])\n",
    "    ax.set_ylim([0,8])\n",
    "\n",
    "    ax.text(5,3,f\"$\\\\vec v$\",size=18)\n",
    "    ax.arrow(0,0,5,3,color='r',width=.02,head_width=.1,lw=2,length_includes_head=True)\n",
    "    cv = ax.arrow(0,0,1, 1,color='b',width=.02,head_width=.1,lw=3, length_includes_head=True)\n",
    "\n",
    "    c = slider.value\n",
    "    t1 = ax.text(2,7,f\"$|\\\\vec v- c \\\\vec w | = {np.linalg.norm(np.array([5-c,3-c])):.4f}$\",size=22)\n",
    "    t2 = ax.text(c-1,c,f\"${c:.1f}\\\\vec w$\",size=18)\n",
    "    a2 = ax.arrow(c,c,5-c,3-c,color='k',alpha = .3,width=.02,head_width=.1,lw=3, length_includes_head=True)\n",
    "\n",
    "    ax.plot([0,8],[0,8],'--')\n",
    "\n",
    "    def update(change):\n",
    "        c = slider.value\n",
    "\n",
    "        cv.set_data(dx=c,dy=c)\n",
    "        a2.set_data(x=c, y=c, dx= 5-c, dy=3 - c)\n",
    "        \n",
    "        t1.set_text(f\"$|\\\\vec v- c \\\\vec w | = {np.linalg.norm(np.array([5-c,3-c])):.4f}$\")\n",
    "        t2.set_x(c-1)\n",
    "        t2.set_y(c)\n",
    "        t2.set_text(f\"${c:.1f}\\\\vec w$\")\n",
    "    \n",
    "    slider.observe(update, names='value')\n",
    "    update({})\n",
    "    \n",
    "    return VBox([slider, fig.canvas])\n",
    "\n",
    "a(\"Projection\")"
   ]
  },
  {
   "cell_type": "markdown",
   "metadata": {},
   "source": [
    "<p style=\"padding-bottom:40%;\"> </p>"
   ]
  },
  {
   "cell_type": "markdown",
   "metadata": {
    "slideshow": {
     "slide_type": "subslide"
    },
    "tags": []
   },
   "source": [
    "<div class=\"alert alert-block alert-info shadow\">\n",
    "<strong>Definitions</strong>\n",
    "    \n",
    "Suppose $\\vec b \\neq \\vec 0$.\n",
    "\n",
    "The <b>vector projection</b> of the vector $\\vec a$ onto $\\vec b$ is \n",
    "$$\\operatorname{proj}_\\vec b \\vec a = \\frac{\\vec a \\cdot \\vec b}{\\vec b \\cdot \\vec b} \\vec b. $$\n",
    "\n",
    "The <b>scalar projection</b> (or <em>component</em>) of the vector $\\vec a$ onto $\\vec b$ is \n",
    "$$\\operatorname{comp}_\\vec b \\vec a = \\frac{\\vec a \\cdot \\vec b}{|\\vec b|}. $$\n",
    "\n",
    "</div>"
   ]
  },
  {
   "cell_type": "markdown",
   "metadata": {
    "slideshow": {
     "slide_type": "fragment"
    }
   },
   "source": [
    "Note: The notation for the latter comes from the \"*comp*onent of $\\vec a$ in the $\\vec b$ direction.\""
   ]
  },
  {
   "cell_type": "markdown",
   "metadata": {
    "slideshow": {
     "slide_type": "fragment"
    }
   },
   "source": [
    "Furthermore, let $\\vec u = \\frac{\\vec b}{|\\vec b|}$, the normalization of $\\vec b$. Then,\n",
    "\n",
    "$$\\operatorname{proj}_\\vec b \\vec a = (\\operatorname{comp}_\\vec b \\vec a)\\vec u = (\\vec a \\cdot \\vec u)  \\vec u.$$"
   ]
  },
  {
   "cell_type": "markdown",
   "metadata": {},
   "source": [
    "<p style=\"padding-bottom:40%;\"> </p>"
   ]
  },
  {
   "cell_type": "markdown",
   "metadata": {},
   "source": [
    "### [Exercises](https://pollev.com/dcy2)"
   ]
  },
  {
   "cell_type": "code",
   "execution_count": 10,
   "metadata": {
    "jupyter": {
     "source_hidden": true
    },
    "tags": []
   },
   "outputs": [
    {
     "data": {
      "text/html": [
       "\n",
       "        <iframe\n",
       "            width=\"800\"\n",
       "            height=\"600\"\n",
       "            src=\"https://embed.polleverywhere.com/multiple_choice_polls/wsaqPHN8xerNCVtEpW0r2?controls=none&short_poll=true\"\n",
       "            frameborder=\"0\"\n",
       "            allowfullscreen\n",
       "            \n",
       "        ></iframe>\n",
       "        "
      ],
      "text/plain": [
       "<IPython.lib.display.IFrame at 0x10976b910>"
      ]
     },
     "execution_count": 10,
     "metadata": {},
     "output_type": "execute_result"
    }
   ],
   "source": [
    "url = \"https://embed.polleverywhere.com/multiple_choice_polls/wsaqPHN8xerNCVtEpW0r2?controls=none&short_poll=true\"\n",
    "IFrame(src=url, width=800, height=600)"
   ]
  },
  {
   "cell_type": "code",
   "execution_count": 11,
   "metadata": {
    "jupyter": {
     "source_hidden": true
    },
    "tags": []
   },
   "outputs": [
    {
     "data": {
      "text/html": [
       "\n",
       "        <iframe\n",
       "            width=\"800\"\n",
       "            height=\"600\"\n",
       "            src=\"https://embed.polleverywhere.com/multiple_choice_polls/xm3Wne3aZE7oNXH0uRFXH?controls=none&short_poll=true\"\n",
       "            frameborder=\"0\"\n",
       "            allowfullscreen\n",
       "            \n",
       "        ></iframe>\n",
       "        "
      ],
      "text/plain": [
       "<IPython.lib.display.IFrame at 0x139b52a60>"
      ]
     },
     "execution_count": 11,
     "metadata": {},
     "output_type": "execute_result"
    }
   ],
   "source": [
    "url = \"https://embed.polleverywhere.com/multiple_choice_polls/xm3Wne3aZE7oNXH0uRFXH?controls=none&short_poll=true\"\n",
    "IFrame(src=url, width=800, height=600)"
   ]
  },
  {
   "cell_type": "markdown",
   "metadata": {},
   "source": [
    "<div style=\"padding-bottom: 40%\"></div>"
   ]
  },
  {
   "cell_type": "markdown",
   "metadata": {},
   "source": [
    "### Exercise \n",
    "\n",
    "The (infinitely long) finish line to a boat race is modeled by $3x + 4y = 12$. Boat $A$ is at position $(3/2, 0)$ and boat $B$ is at $(-1, 1)$. Which is winning?"
   ]
  },
  {
   "cell_type": "code",
   "execution_count": 12,
   "metadata": {
    "jupyter": {
     "source_hidden": true
    },
    "tags": []
   },
   "outputs": [
    {
     "data": {
      "application/vnd.jupyter.widget-view+json": {
       "model_id": "66ee5cb8dc914461bf02eb4ebf04a847",
       "version_major": 2,
       "version_minor": 0
      },
      "image/png": "[encoded data removed]",
      "text/html": [
       "\n",
       "            <div style=\"display: inline-block;\">\n",
       "                <div class=\"jupyter-widgets widget-label\" style=\"text-align: center;\">\n",
       "                    Boat Race\n",
       "                </div>\n",
       "                <img src='data:image/png;base64,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' width=600.0/>\n",
       "            </div>\n",
       "        "
      ],
      "text/plain": [
       "Canvas(toolbar=Toolbar(toolitems=[('Home', 'Reset original view', 'home', 'home'), ('Back', 'Back to previous …"
      ]
     },
     "execution_count": 12,
     "metadata": {},
     "output_type": "execute_result"
    }
   ],
   "source": [
    "def a(TITLE):\n",
    "    if TITLE in plt.get_figlabels():\n",
    "        plt.close(plt.figure(TITLE))\n",
    "\n",
    "    plt.ioff()\n",
    "    fig,ax = plt.subplots(num=TITLE)\n",
    "    plt.ion()\n",
    "    \n",
    "    ax.plot([-8,10],[9,-18/4],'b',linestyle='dashed')\n",
    "    ax.set_xlim([-8,8])\n",
    "    ax.set_ylim([-8,8])\n",
    "    ax.grid(True)\n",
    "    ax.set_aspect('equal')\n",
    "    ax.text(1,0,'$A$')\n",
    "    ax.text(-1,3/2,'$B$')\n",
    "    ax.scatter([1,-1],[0,3/2],marker='s');\n",
    "    \n",
    "    return fig.canvas\n",
    "\n",
    "a(\"Boat Race\")"
   ]
  },
  {
   "cell_type": "markdown",
   "metadata": {},
   "source": [
    "<p style=\"padding-bottom:40%;\"> </p>"
   ]
  },
  {
   "cell_type": "markdown",
   "metadata": {
    "slideshow": {
     "slide_type": "slide"
    }
   },
   "source": [
    "# Cross Product\n",
    "\n",
    "It turns out $\\RR^3$ is special. There happens to be a vector 'multiplication' of two vectors $$\\vec v \\times \\vec w$$ that gives a new vector. This **does not work** in $\\RR^2$ (and most other dimensions)."
   ]
  },
  {
   "cell_type": "markdown",
   "metadata": {
    "slideshow": {
     "slide_type": "fragment"
    },
    "tags": []
   },
   "source": [
    "The following properties actually define the cross product.\n",
    "\n",
    "  - $\\vec v \\times \\vec w$ is bilinear. "
   ]
  },
  {
   "cell_type": "markdown",
   "metadata": {
    "slideshow": {
     "slide_type": "fragment"
    },
    "tags": []
   },
   "source": [
    "  - $\\vec v \\times \\vec w  = - \\vec w \\times \\vec v $ (antisymmetry)"
   ]
  },
  {
   "cell_type": "markdown",
   "metadata": {
    "slideshow": {
     "slide_type": "fragment"
    },
    "tags": []
   },
   "source": [
    "  - $\\vec i \\times \\vec j = \\vec k$\n",
    "  - $\\vec j \\times \\vec k = \\vec i$\n",
    "  - $\\vec k \\times \\vec i = \\vec j$\n",
    "  "
   ]
  },
  {
   "cell_type": "markdown",
   "metadata": {},
   "source": [
    "<p style=\"padding-bottom:40%;\"> </p>"
   ]
  },
  {
   "cell_type": "markdown",
   "metadata": {
    "slideshow": {
     "slide_type": "subslide"
    }
   },
   "source": [
    "## Formula\n",
    "\n",
    "$$ \\langle a,b,c \\rangle\\times \\langle d,e,f \\rangle = (a\\vec i + b\\vec j + c \\vec k)\\times(d\\vec i + e\\vec j + f \\vec k)$$"
   ]
  },
  {
   "cell_type": "markdown",
   "metadata": {
    "slideshow": {
     "slide_type": "fragment"
    }
   },
   "source": [
    "$$ = \\begin{vmatrix} \\vec i & \\vec j & \\vec k \\\\a &b &c \\\\ d & e & f \\\\ \\end{vmatrix} $$"
   ]
  },
  {
   "cell_type": "markdown",
   "metadata": {},
   "source": [
    "<p style=\"padding-bottom:40%;\"> </p>"
   ]
  },
  {
   "cell_type": "markdown",
   "metadata": {
    "slideshow": {
     "slide_type": "subslide"
    }
   },
   "source": [
    "## Properties of $\\vec v \\times \\vec w$"
   ]
  },
  {
   "cell_type": "markdown",
   "metadata": {
    "slideshow": {
     "slide_type": "subslide"
    },
    "tags": []
   },
   "source": [
    "  - $\\vec v \\times \\vec w$ is perpendicular to *both* $\\vec v $ and $\\vec w$."
   ]
  },
  {
   "cell_type": "markdown",
   "metadata": {
    "slideshow": {
     "slide_type": "fragment"
    },
    "tags": []
   },
   "source": [
    "  - $\\vec v \\times \\vec w$ points in the direction according to the right-hand-rule."
   ]
  },
  {
   "cell_type": "markdown",
   "metadata": {
    "slideshow": {
     "slide_type": "fragment"
    },
    "tags": []
   },
   "source": [
    "  - $|\\vec v \\times \\vec w| = |\\vec v ||\\vec w|\\sin\\theta$ where theta is the (positive) angle between the vectors."
   ]
  },
  {
   "cell_type": "code",
   "execution_count": 13,
   "metadata": {
    "jupyter": {
     "source_hidden": true
    },
    "tags": []
   },
   "outputs": [
    {
     "data": {
      "application/vnd.jupyter.widget-view+json": {
       "model_id": "3b46d29edd6242778e0635c4ba638a13",
       "version_major": 2,
       "version_minor": 0
      },
      "image/png": "[encoded data removed]",
      "text/html": [
       "\n",
       "            <div style=\"display: inline-block;\">\n",
       "                <div class=\"jupyter-widgets widget-label\" style=\"text-align: center;\">\n",
       "                    A cross product\n",
       "                </div>\n",
       "                <img src='data:image/png;base64,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' width=600.0/>\n",
       "            </div>\n",
       "        "
      ],
      "text/plain": [
       "Canvas(toolbar=Toolbar(toolitems=[('Home', 'Reset original view', 'home', 'home'), ('Back', 'Back to previous …"
      ]
     },
     "execution_count": 13,
     "metadata": {},
     "output_type": "execute_result"
    }
   ],
   "source": [
    "def a(TITLE):\n",
    "    if TITLE in plt.get_figlabels():\n",
    "        plt.close(plt.figure(TITLE))\n",
    "    \n",
    "    plt.ioff()\n",
    "    fig = plt.figure(num=TITLE)\n",
    "    plt.ion()\n",
    "    ax = fig.add_subplot(projection='3d') \n",
    "    \n",
    "    # make axes lines\n",
    "    ax.plot([-1,1],[0,0],[0,0],'gray')\n",
    "    ax.plot([0,0],[-1,1],[0,0],'gray')\n",
    "    ax.plot([0,0],[0,0],[-1,1],'gray')   \n",
    "\n",
    "    for c in 'xyz':\n",
    "        getattr(ax,f\"set_{c}lim\")([-1,1]);    \n",
    "        getattr(ax,f\"set_{c}label\")(f\"${c}$\",size=16)\n",
    "    \n",
    "    ax.set_autoscale_on(True)\n",
    "    \n",
    "    t = 1/2\n",
    "    \n",
    "    v= np.array((1,1,0))\n",
    "    w =np.array((1-t,-1/2 + t,1))\n",
    "    u = np.cross(w,v)\n",
    "    for c in 'xyz':\n",
    "        getattr(ax,f\"set_{c}label\")(f\"${c}$\",fontsize=16)\n",
    "        getattr(ax,f\"set_{c}lim\")([-1,1])\n",
    "    origin = [0,0,0]\n",
    "    X, Y, Z = zip(origin,origin,origin) \n",
    "    U, V, W = zip(v,w,u)\n",
    "    ax.quiver(X,Y,Z,U,V,W,arrow_length_ratio=0.1,colors=['b','r','purple'])\n",
    "    \n",
    "    return fig.canvas\n",
    "\n",
    "a(\"A cross product\")"
   ]
  },
  {
   "cell_type": "markdown",
   "metadata": {},
   "source": [
    "<p style=\"padding-bottom:40%;\"> </p>"
   ]
  },
  {
   "cell_type": "markdown",
   "metadata": {
    "slideshow": {
     "slide_type": "slide"
    },
    "tags": []
   },
   "source": [
    "### Exercises\n",
    "\n",
    "  1. Find a unit vector perpendicular to $\\langle 1,2,-1\\rangle$ and $\\langle 3,0,1\\rangle$. Is there only one?\n",
    "  "
   ]
  },
  {
   "cell_type": "markdown",
   "metadata": {
    "slideshow": {
     "slide_type": "slide"
    },
    "tags": []
   },
   "source": [
    "  2. Suppose that $\\vec a$ is a nonzero vector in $\\RR^3$.\n",
    "  \n",
    "  - If $\\vec a \\cdot \\vec b = \\vec a \\cdot \\vec c$, does it follow that $\\vec b = \\vec c$?\n",
    "    \n",
    "  - If $\\vec a \\times \\vec b= \\vec a \\times \\vec c$, does it follow that $\\vec b = \\vec c$?\n",
    "    \n",
    "  - If both conditions above hold, does it follow that $\\vec b = \\vec c$?"
   ]
  },
  {
   "cell_type": "markdown",
   "metadata": {},
   "source": [
    "<p style=\"padding-bottom:40%;\"> </p>"
   ]
  },
  {
   "cell_type": "markdown",
   "metadata": {},
   "source": [
    "# Areas & Volumes\n",
    "\n",
    "We won't need this immediately, but put it in the back of your mind as it will come back later. \n",
    "\n",
    "Let $\\vec a$ and $\\vec b$ define the nonparallel edges of a parallelogram. "
   ]
  },
  {
   "cell_type": "code",
   "execution_count": 14,
   "metadata": {
    "tags": []
   },
   "outputs": [
    {
     "data": {
      "application/vnd.jupyter.widget-view+json": {
       "model_id": "a25270fdea4b4f1a8c7c84a4318d1090",
       "version_major": 2,
       "version_minor": 0
      },
      "text/plain": [
       "VBox(children=(FloatSlider(value=2.0, max=3.5), Canvas(toolbar=Toolbar(toolitems=[('Home', 'Reset original vie…"
      ]
     },
     "metadata": {},
     "output_type": "display_data"
    }
   ],
   "source": [
    "def a(TITLE):\n",
    "    if TITLE in plt.get_figlabels():\n",
    "        plt.close(plt.figure(TITLE))\n",
    "\n",
    "    plt.ioff()\n",
    "    fig,ax = plt.subplots(num=TITLE)\n",
    "    plt.ion()\n",
    "\n",
    "    slider = FloatSlider(min=0, max = 3.5, value=2)\n",
    "\n",
    "    c =slider.value\n",
    "    \n",
    "    ax.grid()\n",
    "    ax.set_xlim([0,8])\n",
    "    ax.set_ylim([0,8])\n",
    "    \n",
    "    ax.arrow(0,0,4,1,color='r',width=.02,head_width=.1,lw=2,length_includes_head=True)\n",
    "    a1 = ax.arrow(0,0,c,2*c,color='b',width=.02,head_width=.1,lw=2,length_includes_head=True)\n",
    "    a2 = ax.arrow(c,2*c,4,1,color='r',width=.02,head_width=.1,lw=2,length_includes_head=True)\n",
    "    a3 = ax.arrow(4,1,c,2*c,color='b',width=.02,head_width=.1,lw=2,length_includes_head=True)\n",
    "    f1 = ax.fill([0,4,4+c,c],[0,1,2*c + 1,2*c],alpha=.5,zorder=-1)[0]\n",
    "    p1 = ax.plot([c,c*3/8*4,0],[2*c,c*3/8,0],'--')[0]\n",
    "\n",
    "    t1 = ax.text(c*5/4,c*19/16,\"h\",size=18)\n",
    "    \n",
    "    def update(change):\n",
    "        c = slider.value\n",
    "        t1.set_x(c*5/4)\n",
    "        t1.set_y(c*19/16)\n",
    "        \n",
    "        a1.set_data(dx=c, dy=2*c)\n",
    "        a2.set_data(x=c, y=2*c)\n",
    "        a3.set_data(dx=c, dy=2*c)\n",
    "        \n",
    "        f1.set_xy(np.array([[0,4,4+c,c],[0,1,2*c + 1,2*c]]).transpose())\n",
    "        p1.set_data([c,c*3/8*4,0],[2*c,c*3/8,0])\n",
    "        \n",
    "    slider.observe(update, names='value')\n",
    "    \n",
    "    return VBox([slider, fig.canvas])\n",
    "\n",
    "a(\"Areas\")"
   ]
  },
  {
   "cell_type": "markdown",
   "metadata": {},
   "source": [
    "Then the height $h = $\n",
    "\n",
    "and the area $A = $"
   ]
  },
  {
   "cell_type": "markdown",
   "metadata": {},
   "source": [
    "<p style=\"padding-bottom:40%;\"> </p>"
   ]
  },
  {
   "cell_type": "markdown",
   "metadata": {},
   "source": [
    "<p style=\"padding-bottom:40%;\"> </p>"
   ]
  }
 ],
 "metadata": {
  "celltoolbar": "Slideshow",
  "kernelspec": {
   "display_name": "Python 3 (ipykernel)",
   "language": "python",
   "name": "python3"
  },
  "language_info": {
   "codemirror_mode": {
    "name": "ipython",
    "version": 3
   },
   "file_extension": ".py",
   "mimetype": "text/x-python",
   "name": "python",
   "nbconvert_exporter": "python",
   "pygments_lexer": "ipython3",
   "version": "3.9.8"
  },
  "rise": {
   "enable_chalkboard": true,
   "scroll": true,
   "theme": "sky",
   "transition": "concave"
  }
 },
 "nbformat": 4,
 "nbformat_minor": 4
}
