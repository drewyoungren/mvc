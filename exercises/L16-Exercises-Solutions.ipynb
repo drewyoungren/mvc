{
 "cells": [
  {
   "cell_type": "code",
   "execution_count": 4,
   "metadata": {},
   "outputs": [],
   "source": [
    "import numpy as np\n",
    "import matplotlib.pyplot as plt\n",
    "from IPython.display import display, HTML, IFrame\n",
    "from ipywidgets import interact,fixed\n",
    "from mpl_toolkits import mplot3d\n",
    "\n",
    "plt.rcParams[\"figure.figsize\"] = [10, 10]\n",
    "\n",
    "from numpy.linalg import norm\n",
    "from numpy import cos,sin,tan,arctan,exp,log,pi,sqrt,arccos,linspace,array,arange,meshgrid,abs,arcsin\n",
    "\n",
    "from scipy.integrate import quad,dblquad,tplquad\n",
    "\n",
    "%matplotlib inline\n",
    "\n",
    "# Uncomment the one that corresponds to your Jupyter theme\n",
    "plt.style.use('dark_background')\n",
    "# plt.style.use('fivethirtyeight')\n",
    "# plt.style.use('Solarize_Light2')"
   ]
  },
  {
   "cell_type": "markdown",
   "metadata": {},
   "source": [
    "### Example\n",
    "\n",
    "Consider the region $ E\\subset\\RR^3$ bounded defined by $$-1 \\leq x \\leq 1$$ $$ -1 \\leq y \\leq 1$$ $$ -2 \\leq z \\leq 2^x.$$ "
   ]
  },
  {
   "cell_type": "code",
   "execution_count": 6,
   "metadata": {
    "hide_input": true,
    "jupyter": {
     "source_hidden": true
    },
    "slideshow": {
     "slide_type": "fragment"
    }
   },
   "outputs": [
    {
     "data": {
      "application/vnd.jupyter.widget-view+json": {
       "model_id": "2030a49c220b4f62a5f3e39db1ef701a",
       "version_major": 2,
       "version_minor": 0
      },
      "text/plain": [
       "interactive(children=(IntSlider(value=-24, description='angle', max=66, min=-108, step=6), IntSlider(value=42,…"
      ]
     },
     "metadata": {},
     "output_type": "display_data"
    }
   ],
   "source": [
    "@interact(angle=(-108,66,6))\n",
    "def _(angle=-24,vangle=(0,90,6)):\n",
    "    fig = plt.figure(figsize=(10,10))\n",
    "    ax= fig.add_subplot(111,projection='3d')\n",
    "    u = np.linspace(-1,1,80)\n",
    "    v = np.linspace(-1,1,80)\n",
    "    U,V = np.meshgrid(u,v)\n",
    "    X = U\n",
    "    Y = V\n",
    "    Z = 2**U\n",
    "    ax.plot_wireframe(X,Y,Z,rcount=20,ccount=20)\n",
    "    ax.plot_surface(X,Y,0*X - 2,rcount=20,ccount=20,color='gray',alpha=.4)\n",
    "    ax.plot_surface(0*X -1,Y,1.25*X - .75,rcount=20,ccount=20,color='gray',alpha=.4)\n",
    "    ax.plot_surface(0*X + 1,Y,2*X,rcount=20,ccount=20,color='gray',alpha=.4)\n",
    "    ax.plot_surface(X,0*Y+1,(2**X + 2)/2*Y + (2**X - 2)/2 ,rcount=20,ccount=20,color='blue',alpha=.3)\n",
    "    ax.plot_surface(X,0*Y-1,(2**X + 2)/2*Y + (2**X - 2)/2 ,rcount=20,ccount=20,color='blue',alpha=.3)\n",
    "    ax.view_init(vangle,angle)\n",
    "    \n",
    "    for c in 'xyz':\n",
    "#         getattr(ax,f\"set_{c}lim\")([-1,1]);    \n",
    "        getattr(ax,f\"set_{c}label\")(f\"${c}$\",size=16)\n",
    "    "
   ]
  },
  {
   "cell_type": "markdown",
   "metadata": {},
   "source": [
    "Which of the following triple integrals is greatest?\n",
    "\n",
    "  a. $$\\iiint_E x\\,dV$$\n",
    "  b. $$\\iiint_E -x^2\\,dV$$\n",
    "  c. $$\\iiint_E y\\,dV$$\n",
    "  d. $$\\iiint_E z\\,dV$$\n",
    "  e. $$\\iiint_E \\,dV$$"
   ]
  },
  {
   "cell_type": "markdown",
   "metadata": {},
   "source": [
    "#### Answer \n",
    "\n",
    "e. "
   ]
  },
  {
   "cell_type": "markdown",
   "metadata": {},
   "source": [
    "<div style=\"padding-bottom: 40%\"></div>"
   ]
  },
  {
   "cell_type": "markdown",
   "metadata": {
    "slideshow": {
     "slide_type": "subslide"
    }
   },
   "source": [
    "### Example\n",
    "\n",
    "Write the triple integral $\\iiint_E f(x,y,z)\\,dV$ where E is the region in the first octant bounded by $z = 1-x$ and $y = x^2$ as three different iterated integrals. "
   ]
  },
  {
   "cell_type": "code",
   "execution_count": 7,
   "metadata": {
    "hide_input": true,
    "jupyter": {
     "source_hidden": true
    },
    "slideshow": {
     "slide_type": "fragment"
    }
   },
   "outputs": [
    {
     "data": {
      "application/vnd.jupyter.widget-view+json": {
       "model_id": "9a1b626b8b6942fb96d550b52174f96d",
       "version_major": 2,
       "version_minor": 0
      },
      "text/plain": [
       "interactive(children=(IntSlider(value=-24, description='angle', max=66, min=-108, step=6), IntSlider(value=42,…"
      ]
     },
     "metadata": {},
     "output_type": "display_data"
    }
   ],
   "source": [
    "@interact(angle=(-108,66,6))\n",
    "def _(angle=-24,vangle=(0,90,6)):\n",
    "    fig = plt.figure(figsize=(10,10))\n",
    "    ax= fig.add_subplot(111,projection='3d')\n",
    "    u = np.linspace(0,1,80)\n",
    "    v = np.linspace(0,1,80)\n",
    "    U,V = np.meshgrid(u,v)\n",
    "    X = U\n",
    "    Y = V*(U**2)\n",
    "    Z = 1-X\n",
    "    ax.plot_wireframe(X,Y,Z,rcount=20,ccount=20)\n",
    "    ax.plot_surface(X,Y,0*X,rcount=20,ccount=20,color='gray',alpha=.4)\n",
    "    ax.view_init(vangle,angle)\n",
    "    \n",
    "    ax.plot_wireframe(U,U**2,V*(1-U),rcount=20,ccount=20)\n",
    "    ax.plot_surface(X,0*X,V*(1-U),rcount=20,ccount=20,color='gray',alpha=.4)\n",
    "# ???    t = np.linspace(0,1,26)\n",
    "#     for x in r:\n",
    "#         ax.plot(x*np.ones_like(t),t*pi/3,'k')\n",
    "#     for y in th:\n",
    "#         ax.plot(1+t,y*np.ones_like(t),'k')\n",
    "    for c in 'xyz':\n",
    "#         getattr(ax,f\"set_{c}lim\")([-1,1]);    \n",
    "        getattr(ax,f\"set_{c}label\")(f\"${c}$\",size=16)\n",
    "    "
   ]
  },
  {
   "cell_type": "markdown",
   "metadata": {
    "slideshow": {
     "slide_type": "fragment"
    }
   },
   "source": [
    "Solutions:\n",
    "\n",
    "$$\\int_{0}^{1} \\int_{0}^{1-x} \\int_{0}^{x^2} f(x,y,z)\\,dy \\,dz \\, dx $$\n",
    "\n",
    "$$\\int_{0}^{1} \\int_{0}^{1-z} \\int_{0}^{x^2} f(x,y,z)\\,dy \\,dx \\, dz $$\n",
    "\n",
    "$$\\int_{0}^{1} \\int_{0}^{x^2} \\int_{0}^{1-x} f(x,y,z)\\,dz \\,dy \\, dx $$\n",
    "\n",
    "$$\\int_{0}^{1} \\int_{0}^{\\sqrt{y}} \\int_{0}^{1-x} f(x,y,z)\\,dz \\,dx \\, dy $$\n",
    "\n",
    "And ..."
   ]
  },
  {
   "cell_type": "markdown",
   "metadata": {
    "slideshow": {
     "slide_type": "fragment"
    }
   },
   "source": [
    "$$\\int_{0}^{1} \\int_{0}^{(1-z)^2} \\int_{\\sqrt{y}}^{1-z} f(x,y,z)\\,dx \\,dy \\, dz $$\n",
    "\n",
    "$$\\int_{0}^{1} \\int_{0}^{1-\\sqrt{y}} \\int_{\\sqrt{y}}^{1-z} f(x,y,z)\\,dx \\,dz \\, dy $$"
   ]
  },
  {
   "cell_type": "markdown",
   "metadata": {},
   "source": [
    "<div style=\"padding-bottom: 40%\"></div>"
   ]
  },
  {
   "cell_type": "markdown",
   "metadata": {
    "slideshow": {
     "slide_type": "subslide"
    }
   },
   "source": [
    "### Exercise\n",
    "\n",
    "Sketch the region in the first octant bounded by the planes $z=1$, $z = x$, and $z=y$ and express the triple integral of an arbitrary integrand over this region as an iterated integral. \n",
    "\n",
    "Start by sketching the regions \"shadow\" in each of the \n",
    "  - $xy$-\n",
    "  - $xz$-\n",
    "  - $yz$-planes."
   ]
  },
  {
   "cell_type": "code",
   "execution_count": 8,
   "metadata": {
    "hide_input": true,
    "jupyter": {
     "source_hidden": true
    },
    "slideshow": {
     "slide_type": "fragment"
    }
   },
   "outputs": [
    {
     "data": {
      "application/vnd.jupyter.widget-view+json": {
       "model_id": "5a48d7d62dd145c6836c6758d48b28e3",
       "version_major": 2,
       "version_minor": 0
      },
      "text/plain": [
       "interactive(children=(IntSlider(value=-24, description='angle', max=66, min=-108, step=6), IntSlider(value=42,…"
      ]
     },
     "metadata": {},
     "output_type": "display_data"
    }
   ],
   "source": [
    "@interact(angle=(-108,66,6))\n",
    "def _(angle=-24,vangle=(0,90,6)):\n",
    "    fig = plt.figure(figsize=(10,10))\n",
    "    ax= fig.add_subplot(111,projection='3d')\n",
    "    u = np.linspace(0,1,80)\n",
    "    v = np.linspace(0,1,80)\n",
    "    U,V = np.meshgrid(u,v)\n",
    "    X = U\n",
    "    Y = V\n",
    "    Z = np.ones_like(U)\n",
    "    ax.plot_wireframe(X,Y,Z,rcount=20,ccount=20)\n",
    "#     ax.plot_surface(X,Y,0*X,rcount=20,ccount=20,color='gray',alpha=.4)\n",
    "    ax.view_init(vangle,angle)\n",
    "    \n",
    "    ax.plot_wireframe(U,U*V,U,rcount=20,ccount=20)\n",
    "    ax.plot_wireframe(U*V,U,U,rcount=20,ccount=20)\n",
    "    ax.plot_surface(U,0*X,U+V*(1-U),rcount=20,ccount=20,color='gray',alpha=.4)\n",
    "    ax.plot_surface(U*0,U,U+V*(1-U),rcount=20,ccount=20,color='gray',alpha=.4)\n",
    "\n",
    "    for c in 'xyz':\n",
    "#         getattr(ax,f\"set_{c}lim\")([-1,1]);    \n",
    "        getattr(ax,f\"set_{c}label\")(f\"${c}$\",size=16)\n",
    "    "
   ]
  },
  {
   "cell_type": "markdown",
   "metadata": {},
   "source": [
    "<div style=\"padding-bottom: 40%\"></div>"
   ]
  },
  {
   "cell_type": "markdown",
   "metadata": {
    "slideshow": {
     "slide_type": "subslide"
    }
   },
   "source": [
    "# Cylindrical/Spherical Coordinates\n",
    "\n",
    "### Quick Exercise\n",
    "\n",
    "We know the equations $x=1$, $y=1$, and $z=1$ represent planes perpendicular to the respective access. Identify each of the following sets in the new coordinates.\n",
    "\n",
    "  1. $r=1$\n",
    "  2. $\\theta = 1$\n",
    "  3. $\\rho = 1$\n",
    "  4. $\\phi = 1$"
   ]
  },
  {
   "cell_type": "code",
   "execution_count": 9,
   "metadata": {
    "hide_input": true,
    "jupyter": {
     "source_hidden": true
    }
   },
   "outputs": [
    {
     "data": {
      "application/vnd.jupyter.widget-view+json": {
       "model_id": "c59db40657d84dd3911af7cd3ad135e4",
       "version_major": 2,
       "version_minor": 0
      },
      "text/plain": [
       "interactive(children=(IntSlider(value=0, description='angle', max=90, min=-90, step=6), Dropdown(description='…"
      ]
     },
     "metadata": {},
     "output_type": "display_data"
    }
   ],
   "source": [
    "@interact\n",
    "def _(angle=(-90,90,6),coord=['r','theta','rho','phi']):\n",
    "    fig = plt.figure(figsize=(10,10))\n",
    "    ax=fig.add_subplot(111,projection='3d')\n",
    "    ax.view_init(30,angle)\n",
    "    u = v = np.linspace(0,1,100)\n",
    "    u,v = np.meshgrid(u,v)\n",
    "    if coord == 'r':\n",
    "        ax.plot_surface(cos(2*pi*v),sin(2*pi*v),2*u-1,alpha=.5)\n",
    "    elif coord == 'theta':\n",
    "        ax.plot_surface(sqrt(2)*v*cos(1),sqrt(2)*v*sin(1),2*u-1,alpha=.5)\n",
    "    elif coord == 'rho':\n",
    "        ax.plot_surface(sin(pi*u)*cos(2*pi*v),sin(pi*u)*sin(2*pi*v),cos(pi*u),alpha=.5)\n",
    "    elif coord == 'phi':\n",
    "        ax.plot_surface(sin(1)*u*cos(2*pi*v),sin(1)*u*sin(2*pi*v),cos(1)*u,alpha=.5)\n",
    "    ax.plot([-1,1],[0,0],[0,0],'k',lw=3)\n",
    "    ax.plot([0,0],[-1,1],[0,0],'k',lw=3)\n",
    "    ax.plot([0,0],[0,0],[-1,1],'k',lw=3)\n",
    "    for c in 'xyz':\n",
    "#         getattr(ax,f\"set_{c}lim\")([-1,1]);    \n",
    "        getattr(ax,f\"set_{c}label\")(f\"${c}$\",size=16)\n",
    "    "
   ]
  },
  {
   "cell_type": "markdown",
   "metadata": {},
   "source": [
    "<div style=\"padding-bottom: 40%\"></div>"
   ]
  },
  {
   "cell_type": "markdown",
   "metadata": {},
   "source": [
    "## Exercise\n",
    "\n",
    "Each row of the table below represents a point in $\\mathbb{R}^3$. Fill in the missing values.\n",
    "\n",
    "<table>\n",
    "    <hr>\n",
    "    <td> $x$ </td>    <td> $y$ </td>    <td> $z$ </td>\n",
    "    <td> $r$ </td>    <td> $\\theta$ </td>    <td> $\\rho$ </td>    <td> $\\phi$ </td>\n",
    "    </hr>\n",
    "    <tr>\n",
    "    <td> $2$ </td>    <td> $2$ </td>    <td> $2$ </td>\n",
    "    <td> $2\\sqrt{2}$  </td>   <td> $\\pi/4$ </td>    <td> $2\\sqrt{3}$ </td>    <td> $\\cos^{-1}(1/\\sqrt{3})$ </td>\n",
    "    </tr>\n",
    "    <tr>\n",
    "    <td> $-3/2$  </td>    <td> $0$  </td>    <td> $2$ </td>\n",
    "    <td> $3/2$ </td>    <td> $\\pi$ </td>    <td> $5/2$ </td>    <td> $\\cos^{-1}(4/5)$ </td>\n",
    "    </tr>\n",
    "    <tr>\n",
    "    <td> $\\sqrt{3}/2$ </td>    <td> \n",
    "    $1/2$</td>    <td> $-1$ </td>\n",
    "    <td> $1$ </td>    <td> $\\pi/6$ </td>    <td> $\\sqrt{2}$ </td>    <td> $3\\pi/4$</td>\n",
    "    </tr>\n",
    "    <tr>\n",
    "    <td> $5$ </td>    <td> $1$ </td>    <td> $-\\sqrt{26/3}$ </td>\n",
    "    <td> $\\sqrt{26}$ </td>    <td> $\\tan^{-1}(1/5)$ </td>    <td> $2\\sqrt{26/3}$ </td>    <td> $2\\pi/3$ </td>\n",
    "    </tr>\n",
    "</table>"
   ]
  },
  {
   "cell_type": "markdown",
   "metadata": {},
   "source": [
    "<div style=\"padding-bottom: 40%\"></div>"
   ]
  },
  {
   "cell_type": "markdown",
   "metadata": {},
   "source": [
    "#### Quick questions\n",
    "\n",
    "  - How would you relate these to our definitions of $\\phi$ and $\\theta$?\n",
    "\n",
    "\n",
    "**Solution** $\\theta$ is much like longitude. $\\phi$ is like latitude but measured down from the North Pole instead of up from the equator.\n",
    "\n",
    "  - Using this, what are the spherical coordinates of Morningside Heights?\n",
    "  \n",
    "\n",
    "\n",
    "  - Where is the point on earth where $\\phi = \\frac\\pi4 = -\\theta$?\n",
    "  \n"
   ]
  },
  {
   "cell_type": "markdown",
   "metadata": {},
   "source": [
    "<div style=\"padding-bottom: 40%\"></div>"
   ]
  },
  {
   "cell_type": "markdown",
   "metadata": {},
   "source": [
    "## Example\n",
    "\n",
    "Find, in terms of constant $a>0$, the centroid of the solid region\n",
    "\n",
    "$$ 0 \\leq z \\leq a^2 - x^2 - y^2.$$"
   ]
  },
  {
   "cell_type": "code",
   "execution_count": 10,
   "metadata": {
    "hide_input": true,
    "jupyter": {
     "source_hidden": true
    }
   },
   "outputs": [
    {
     "data": {
      "application/vnd.jupyter.widget-view+json": {
       "model_id": "12e9189115164b7e9d08931ed34b74ba",
       "version_major": 2,
       "version_minor": 0
      },
      "text/plain": [
       "interactive(children=(IntSlider(value=42, description='angle', max=90, step=6), Output()), _dom_classes=('widg…"
      ]
     },
     "metadata": {},
     "output_type": "display_data"
    }
   ],
   "source": [
    "@interact\n",
    "def _(angle=(0,90,6)):\n",
    "    fig = plt.figure(figsize=(10,10))\n",
    "    ax=fig.add_subplot(111,projection='3d')\n",
    "    ax.view_init(angle,30)\n",
    "    u = v = np.linspace(0,1,100)\n",
    "    u,v = np.meshgrid(u,v)\n",
    "\n",
    "    ax.plot_surface(sqrt(2)*u*cos(2*pi*v),sqrt(2)*u*sin(2*pi*v),2*(1-u**2),alpha=.5)\n",
    "    ax.plot_wireframe(sqrt(2)*u*cos(2*pi*v),sqrt(2)*u*sin(2*pi*v),2*(1-u**2),color=(.3,.3,.3),rcount=10,ccount=10)\n",
    "\n",
    "    ax.plot([-1,1],[0,0],[0,0],'k',lw=3)\n",
    "    ax.plot([0,0],[-1,1],[0,0],'k',lw=3)\n",
    "    ax.plot([0,0],[0,0],[0,2],'k',lw=3)\n",
    "    for c in 'xyz':\n",
    "#         getattr(ax,f\"set_{c}lim\")([-1,1]);    \n",
    "        getattr(ax,f\"set_{c}label\")(f\"${c}$\",size=16)\n",
    "    "
   ]
  },
  {
   "cell_type": "markdown",
   "metadata": {},
   "source": [
    "#### Solution\n",
    "\n",
    "$\\bar x = \\bar y = 0$ by symmetry. Treating the density as 1, we compute the volume\n",
    "\n",
    "$$V = \\int_0^{2\\pi}\\int_0^a\\int_0^{a^2 - r^2} r \\,dz\\,dr\\,d\\theta = 2\\pi a^4/4$$"
   ]
  },
  {
   "cell_type": "markdown",
   "metadata": {},
   "source": [
    "$$\\bar z = \\frac1V \\int_0^{2\\pi}\\int_0^a\\int_0^{a^2 - r^2} z r \\,dz\\,dr\\,d\\theta $$\n",
    "\n",
    "$$ = \\frac{\\pi a^6/6}{\\pi a^4/2} = \\frac{a^2}{3} $$"
   ]
  },
  {
   "cell_type": "markdown",
   "metadata": {},
   "source": [
    "<div style=\"padding-bottom: 40%\"></div>"
   ]
  },
  {
   "cell_type": "markdown",
   "metadata": {
    "slideshow": {
     "slide_type": "subslide"
    }
   },
   "source": [
    "## Example\n",
    "\n",
    "Find the centroid of a solid quarter-sphere of radius $R$ and uniform density."
   ]
  },
  {
   "cell_type": "code",
   "execution_count": 12,
   "metadata": {
    "hide_input": true,
    "jupyter": {
     "source_hidden": true
    }
   },
   "outputs": [
    {
     "data": {
      "application/vnd.jupyter.widget-view+json": {
       "model_id": "e49d858016fc49ec8665edd53750eb2a",
       "version_major": 2,
       "version_minor": 0
      },
      "text/plain": [
       "interactive(children=(IntSlider(value=45, description='angle', max=135, min=-45, step=6), IntSlider(value=42, …"
      ]
     },
     "metadata": {},
     "output_type": "display_data"
    }
   ],
   "source": [
    "@interact\n",
    "def _(angle=(-45,135,6),vangle=(0,90,6)):\n",
    "    fig = plt.figure(figsize=(10,10))\n",
    "    ax=fig.add_subplot(111,projection='3d')\n",
    "    ax.view_init(vangle,angle)\n",
    "    u = v = np.linspace(0,1,100)\n",
    "    u,v = np.meshgrid(u,v)\n",
    "\n",
    "    ax.plot_wireframe(sin(pi*u)*cos(pi/2*v),sin(pi*u)*sin(pi/2*v),cos(pi*u),alpha=.8,rcount=20)\n",
    "    ax.plot_surface(v*sin(pi*u)*cos(pi/2),v*sin(pi*u)*sin(pi/2),v*cos(pi*u),alpha=.3,color='g')\n",
    "    ax.plot_surface(v*sin(pi*u)*cos(0),v*sin(pi*u)*sin(0),v*cos(pi*u),alpha=.3,color='g')\n",
    "    ax.plot([-1,1],[0,0],[0,0],'k',lw=3)\n",
    "    ax.plot([0,0],[-1,1],[0,0],'k',lw=3)\n",
    "    ax.plot([0,0],[0,0],[-1,1],'k',lw=3)\n",
    "    for c in 'xyz':\n",
    "#         getattr(ax,f\"set_{c}lim\")([-1,1]);    \n",
    "        getattr(ax,f\"set_{c}label\")(f\"${c}$\",size=16)\n",
    "    "
   ]
  },
  {
   "cell_type": "markdown",
   "metadata": {},
   "source": [
    "#### Solution\n",
    "\n",
    "$$\\bar x = \\frac1V\\int_0^{\\pi/2}\\int_0^\\pi\\int_0^R (\\rho \\sin\\phi\\cos \\theta)\\rho^2\\sin\\phi \\,d\\rho\\,d\\phi\\,d\\theta $$\n",
    "\n",
    "$$ = \\frac1V\\left(\\int_0^{\\pi/2}\\cos \\theta\\,d\\theta\\right)\\left(\\int_0^\\pi \\sin^2\\phi \\,d\\phi\\right)\\left( \\int_0^R \\rho^3\\,d\\rho \\right) = \\frac{1}{\\pi R^3/3} (1)(\\pi/2)(R^4/4)$$\n",
    "\n",
    "$$(\\bar x,\\bar y,\\bar z) = \\left( \\frac38 R,\\frac38 R,0\\right)$$"
   ]
  },
  {
   "cell_type": "markdown",
   "metadata": {},
   "source": [
    "<div style=\"padding-bottom: 40%\"></div>"
   ]
  },
  {
   "cell_type": "markdown",
   "metadata": {
    "slideshow": {
     "slide_type": "subslide"
    }
   },
   "source": [
    "## Example\n",
    "\n",
    "Find the moment of inertia of a solid sphere of radius $R$ relative to a central axis.\n",
    "\n",
    "The **radius of gyration** of a body is the distance from the axis of a point-mass with the same mass and moment of inertia. Find it for a sphere."
   ]
  },
  {
   "cell_type": "code",
   "execution_count": 13,
   "metadata": {
    "hide_input": true,
    "jupyter": {
     "source_hidden": true
    }
   },
   "outputs": [
    {
     "data": {
      "application/vnd.jupyter.widget-view+json": {
       "model_id": "57114bb6f83347b6a8f11b78bc1a4484",
       "version_major": 2,
       "version_minor": 0
      },
      "text/plain": [
       "interactive(children=(IntSlider(value=42, description='angle', max=90, step=6), Output()), _dom_classes=('widg…"
      ]
     },
     "metadata": {},
     "output_type": "display_data"
    }
   ],
   "source": [
    "@interact\n",
    "def _(angle=(0,90,6)):\n",
    "    tilt = 23.5*pi/180\n",
    "    fig = plt.figure(figsize=(10,10))\n",
    "    ax=fig.add_subplot(111,projection='3d')\n",
    "    ax.view_init(angle,30)\n",
    "    u = v = np.linspace(0,1,100)\n",
    "    u,v = np.meshgrid(u,v)\n",
    "\n",
    "    ax.plot_wireframe(sin(pi*u)*cos(2*pi*v),sin(pi*u)*sin(2*pi*v),cos(pi*u),alpha=1,rcount=12,ccount = 20)\n",
    "    ax.plot_surface(sin(pi*u)*cos(2*pi*v),sin(pi*u)*sin(2*pi*v),cos(pi*u),alpha=.2,color='g')\n",
    "    ax.plot([-1,1],[0,0],[0,0],'k',lw=3)\n",
    "    ax.plot([0,0],[-1,1],[0,0],'k',lw=3)\n",
    "    ax.plot([0,0],[0,0],[-1,1],'k',lw=3)\n",
    "    for c in 'xyz':\n",
    "#         getattr(ax,f\"set_{c}lim\")([-1,1]);    \n",
    "        getattr(ax,f\"set_{c}label\")(f\"${c}$\",size=16)\n",
    "    "
   ]
  },
  {
   "cell_type": "markdown",
   "metadata": {},
   "source": [
    "Consider the density to be 1.\n",
    "\n",
    "$$M = \\frac43 \\pi R^3 $$\n",
    "\n",
    "The distance to the $z$-axis is $r=\\rho\\sin\\phi$.\n",
    "\n",
    "$$ I = \\int_0^{2\\pi} \\int_0^\\pi \\int_0^R (\\rho \\sin\\phi)^2\\rho^2\\sin\\phi\\,d\\rho\\,d\\phi\\,d\\theta $$ \n",
    "\n",
    "$$= \\frac{8\\pi R^5}{15} = \\frac25 M R^2 $$"
   ]
  },
  {
   "cell_type": "markdown",
   "metadata": {},
   "source": [
    "So the radius of gyration is $\\displaystyle R_g = \\sqrt{\\frac{I}{M}} = \\sqrt{\\frac25}R$."
   ]
  },
  {
   "cell_type": "markdown",
   "metadata": {},
   "source": [
    "<div style=\"padding-bottom: 40%\"></div>"
   ]
  },
  {
   "cell_type": "markdown",
   "metadata": {},
   "source": [
    "<div style=\"padding-bottom: 40%\"></div>"
   ]
  },
  {
   "cell_type": "code",
   "execution_count": null,
   "metadata": {},
   "outputs": [],
   "source": []
  }
 ],
 "metadata": {
  "kernelspec": {
   "display_name": "Python 3",
   "language": "python",
   "name": "python3"
  },
  "language_info": {
   "codemirror_mode": {
    "name": "ipython",
    "version": 3
   },
   "file_extension": ".py",
   "mimetype": "text/x-python",
   "name": "python",
   "nbconvert_exporter": "python",
   "pygments_lexer": "ipython3",
   "version": "3.9.2"
  },
  "widgets": {
   "application/vnd.jupyter.widget-state+json": {
    "state": {},
    "version_major": 2,
    "version_minor": 0
   }
  }
 },
 "nbformat": 4,
 "nbformat_minor": 4
}
