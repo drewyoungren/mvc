{
 "cells": [
  {
   "cell_type": "code",
   "execution_count": 2,
   "metadata": {
    "slideshow": {
     "slide_type": "skip"
    }
   },
   "outputs": [],
   "source": [
    "import numpy as np\n",
    "import matplotlib.pyplot as plt\n",
    "from IPython.display import display, HTML, IFrame\n",
    "from ipywidgets import interact,fixed\n",
    "# import pandas as pd\n",
    "from mpl_toolkits import mplot3d\n",
    "\n",
    "plt.rcParams[\"figure.figsize\"] = [7, 7]\n",
    "\n",
    "from numpy.linalg import norm\n",
    "from numpy import cos,sin,tan,arctan,exp,log,pi,sqrt\n",
    "\n",
    "from scipy.integrate import quad,dblquad\n",
    "%matplotlib inline\n",
    "\n",
    "# Uncomment the one that corresponds to your Jupyter theme\n",
    "plt.style.use('dark_background')\n",
    "# plt.style.use('fivethirtyeight')\n",
    "# plt.style.use('Solarize_Light2')"
   ]
  },
  {
   "cell_type": "markdown",
   "metadata": {
    "slideshow": {
     "slide_type": "notes"
    }
   },
   "source": [
    "$\\newcommand{\\RR}{\\mathbb{R}}$\n",
    "$\\newcommand{\\bv}[1]{\\begin{bmatrix} #1 \\end{bmatrix}}$\n",
    "$\\renewcommand{\\vec}{\\mathbf}$\n"
   ]
  },
  {
   "cell_type": "markdown",
   "metadata": {
    "slideshow": {
     "slide_type": "slide"
    }
   },
   "source": [
    "# One-minute Review\n",
    "\n",
    "Suppose the same mass $M$ were distributed evenly over the following regions in space:\n",
    "  - $B$ a solid ball of radius $R$.\n",
    "  - $S$ a (hollow) sphere of radius $R$.\n",
    "  - $C$ a ring (circle) of radius $R$. \n",
    "  \n",
    "Which has the greatest moment of intertia about its center? "
   ]
  },
  {
   "cell_type": "markdown",
   "metadata": {},
   "source": [
    "<p style=\"padding-bottom:40%;\"> </p>"
   ]
  },
  {
   "cell_type": "markdown",
   "metadata": {
    "slideshow": {
     "slide_type": "slide"
    }
   },
   "source": [
    "# Lecture 18\n",
    "\n",
    "  - Objectives\n",
    "    - Line Integrals\n",
    "\n",
    "  - Resources\n",
    "    - [Interactive Demo](https://drew.youngren.nyc/3Demos/lineint/index.html)\n",
    "    - Content\n",
    "      - Stewart: §16.1–3\n",
    "      - New Strang:  \n",
    "        - [§6.2](https://openstax.org/books/calculus-volume-3/pages/6-2-line-integrals)\n",
    "      - [3Demos](https://drew.youngren.nyc/3Demos/lineint/)\n",
    "- Practice\n",
    "      - Mooculus: [Line Integrals](https://ximera.osu.edu/mooculus/calculus3/lineIntegrals/digInLineIntegrals)\n",
    "    - Extras\n",
    "      - CalcBLUE: [Path Integrals](https://www.youtube.com/watch?v=8333W0vsqBc&list=PL8erL0pXF3JYCn8Xukv0DqVIXtXJbOqdo&index=9) "
   ]
  },
  {
   "cell_type": "markdown",
   "metadata": {
    "slideshow": {
     "slide_type": "slide"
    }
   },
   "source": [
    "### A quick note on integrals\n",
    "\n",
    "Every integral has three essential parts, summarized as the \"where\", the \"what\", and the \"how\".\n",
    "\n",
    "$$\\int_D F\\,d\\omega $$"
   ]
  },
  {
   "cell_type": "markdown",
   "metadata": {
    "slideshow": {
     "slide_type": "fragment"
    }
   },
   "source": [
    "  - **Where?** the domain of integration $D$"
   ]
  },
  {
   "cell_type": "markdown",
   "metadata": {
    "slideshow": {
     "slide_type": "fragment"
    }
   },
   "source": [
    "  - **What?** the integrand $F$"
   ]
  },
  {
   "cell_type": "markdown",
   "metadata": {
    "slideshow": {
     "slide_type": "fragment"
    }
   },
   "source": [
    "  - **How?** the differential (form) $d\\omega$"
   ]
  },
  {
   "cell_type": "markdown",
   "metadata": {
    "slideshow": {
     "slide_type": "fragment"
    }
   },
   "source": [
    "We'll be seeing a lot of different integrals in vector calculus, you can keep yourself oriented by thinking about each of these for every integral we encounter."
   ]
  },
  {
   "cell_type": "markdown",
   "metadata": {},
   "source": [
    "<p style=\"padding-bottom:40%;\"> </p>"
   ]
  },
  {
   "cell_type": "markdown",
   "metadata": {},
   "source": [
    "## We need a new integral. "
   ]
  },
  {
   "cell_type": "markdown",
   "metadata": {},
   "source": [
    "In the question above, $C$ is a 1-dimensional object in 3-dimensional space. We cannot do a triple integral $\\iiint_C f\\,dV$ as we would get 0 for any $f$. \n",
    "\n",
    "If the mass $M$ is distributed evenly, that would mean a _linear density_ of $\\frac{M}{2\\pi R} \\frac{\\text{unit of mass}}{\\text{unit of length}}$.\n",
    "\n",
    "We thus need an integral $$\\int_C (\\text{distance to axis})^2 \\times (\\text{linear density})d(\\text{length}).$$\n",
    "\n",
    "This requires a new integral called a **line integral** or **path integral**.\n",
    "\n"
   ]
  },
  {
   "cell_type": "markdown",
   "metadata": {},
   "source": [
    "<p style=\"padding-bottom:40%;\"> </p>"
   ]
  },
  {
   "cell_type": "markdown",
   "metadata": {
    "slideshow": {
     "slide_type": "slide"
    }
   },
   "source": [
    "# Line Integrals\n",
    "\n",
    "A **line integral**, also called a **path integral**, is an integral whose domain of integration is $C$, the _image_ of a curve parametrized by $\\vec r(t)$.  \n",
    "\n",
    "They come in different \"flavors\" based on the integrand and the differential, but all have a domain of integration that is a path in space."
   ]
  },
  {
   "cell_type": "code",
   "execution_count": 3,
   "metadata": {
    "hide_input": true,
    "jupyter": {
     "source_hidden": true
    }
   },
   "outputs": [
    {
     "data": {
      "image/png": "[encoded data removed]",
      "text/plain": [
       "<Figure size 432x288 with 1 Axes>"
      ]
     },
     "metadata": {},
     "output_type": "display_data"
    }
   ],
   "source": [
    "r = lambda t: np.array([(1+t/4)*cos(4*pi*t),2*t - sin(8*t)/2])\n",
    "t = np.linspace(0,1,100)\n",
    "plt.plot(*r(t),'-r')\n",
    "plt.text(-.7,.45,\"$C$\");"
   ]
  },
  {
   "cell_type": "markdown",
   "metadata": {
    "slideshow": {
     "slide_type": "subslide"
    }
   },
   "source": [
    "## Line integrals w/ respect to arc length\n",
    "\n",
    "$$\\int_C f\\,ds$$\n",
    "\n",
    "  - Where? path in space $C$\n",
    "  - What? scalar field $f(x,y,\\ldots)$\n",
    "  - How? w.r.t. arc length $ds$"
   ]
  },
  {
   "cell_type": "markdown",
   "metadata": {
    "slideshow": {
     "slide_type": "fragment"
    }
   },
   "source": [
    "**Interpretation**: One way to think of this quantity is as the area of a wall built over $C$ with height given by $f$."
   ]
  },
  {
   "cell_type": "code",
   "execution_count": 4,
   "metadata": {
    "hide_input": true,
    "jupyter": {
     "source_hidden": true
    },
    "slideshow": {
     "slide_type": "fragment"
    }
   },
   "outputs": [
    {
     "data": {
      "application/vnd.jupyter.widget-view+json": {
       "model_id": "4d6fd5e537944687ae831bc81204479e",
       "version_major": 2,
       "version_minor": 0
      },
      "text/plain": [
       "interactive(children=(IntSlider(value=-24, description='angle', max=66, min=-108, step=6), IntSlider(value=42,…"
      ]
     },
     "metadata": {},
     "output_type": "display_data"
    }
   ],
   "source": [
    "r = lambda t: np.array([(1+t/4)*cos(4*pi*t),2*t - sin(8*t)/2])\n",
    "f = lambda x,y: x**2 + y**2/4\n",
    "t = np.linspace(0,1,100)\n",
    "\n",
    "@interact(angle=(-108,66,6),s=(0.,1,.05))\n",
    "def _(angle=-24,vangle=(0,90,6),s=0,\n",
    "     r=fixed(lambda t: np.array([(1+t/4)*cos(4*pi*t),2*t - sin(8*t)/2])),\n",
    "     f=fixed(lambda x,y: x**2 + y**2/4),\n",
    "     t=fixed(np.linspace(0,1,100))):\n",
    "    fig = plt.figure(figsize=(10,10))\n",
    "    ax= fig.add_subplot(111,projection='3d')\n",
    "    u = np.linspace(-1,1,100) \n",
    "    v = np.linspace(-1,2,100) \n",
    "    w = np.linspace(0,s,77)\n",
    "    w,z = np.meshgrid(w,np.linspace(0,1,50))\n",
    "    U,V = np.meshgrid(u,v)\n",
    "    ax.plot_surface(U,V,f(U,V),alpha=.4)\n",
    "    ax.plot_surface(*r(w),z*f(*r(w)),color='r')\n",
    "    ax.plot(*r(t),np.zeros_like(t),'-r')\n",
    "    ax.view_init(vangle,angle)\n",
    "\n",
    "\n",
    "    for c in 'xyz':\n",
    "#         getattr(ax,f\"set_{c}lim\")([-1,1]);    \n",
    "        getattr(ax,f\"set_{c}label\")(f\"${c}$\",size=16)\n",
    "    "
   ]
  },
  {
   "cell_type": "markdown",
   "metadata": {},
   "source": [
    "<p style=\"padding-bottom:40%;\"> </p>"
   ]
  },
  {
   "cell_type": "markdown",
   "metadata": {
    "slideshow": {
     "slide_type": "subslide"
    }
   },
   "source": [
    "## Formula\n",
    "\n",
    "$$\\int_C f\\,ds \\approx \\sum_{i=1}^n f(x_i^*,y_i^*)\\,\\Delta s_i$$\n",
    "\n",
    "where $\\Delta s_i = \\sqrt{\\Delta x_i^2 + \\Delta y_i^2}$. \n",
    "\n",
    "To compute this, we need a **parametrization** for $C$. That is, a space curve $\\vec r(t) = x(t)\\,\\vec i +  y(t)\\,\\vec j$ for $a \\leq t \\leq b$. Then this becomes in the limit"
   ]
  },
  {
   "cell_type": "markdown",
   "metadata": {
    "slideshow": {
     "slide_type": "fragment"
    }
   },
   "source": [
    "$$\\int_C f\\,ds = \\int_a^b f(x(t),y(t)) |\\vec r'(t)| dt.$$"
   ]
  },
  {
   "cell_type": "markdown",
   "metadata": {},
   "source": [
    "<p style=\"padding-bottom:40%;\"> </p>"
   ]
  },
  {
   "cell_type": "markdown",
   "metadata": {
    "slideshow": {
     "slide_type": "subslide"
    }
   },
   "source": [
    "## Line integral with respect to a coordinate\n",
    "\n",
    "$$\\int_C f\\,dx \\qquad \\text{ or } \\qquad \\int_C f\\,dy$$\n",
    "\n",
    "  - Where? path in space $C$\n",
    "  - What? scalar field $f(x,y,\\ldots)$\n",
    "  - How? w.r.t. to coordinate $dx$ (or $dy$ or ...)"
   ]
  },
  {
   "cell_type": "markdown",
   "metadata": {
    "slideshow": {
     "slide_type": "subslide"
    }
   },
   "source": [
    "## Formula\n",
    "\n",
    "$$\\int_C f\\,dx \\approx \\sum_{i=1}^n f(x_i^*,y_i^*)\\,\\Delta x_i$$\n",
    "\n",
    "where $\\Delta x_i$ can be positive or negative. \n",
    "\n",
    "To compute this, we need a **parametrization** for $C$. That is, a space curve $\\vec r(t) = x(t)\\,\\vec i +  y(t)\\,\\vec j$ for $a \\leq t \\leq b$. Then this becomes in the limit"
   ]
  },
  {
   "cell_type": "markdown",
   "metadata": {
    "slideshow": {
     "slide_type": "fragment"
    }
   },
   "source": [
    "$$\\int_C f\\,dx = \\int_a^b f(x(t),y(t)) \\,x'(t)\\, dt.$$\n",
    "\n",
    "$$\\int_C f\\,dy = \\int_a^b f(x(t),y(t))\\, y'(t)\\, dt.$$"
   ]
  },
  {
   "cell_type": "markdown",
   "metadata": {
    "slideshow": {
     "slide_type": "subslide"
    }
   },
   "source": [
    "**Interpretation**: This is more abstract. We accumulate products of the integrand with the change in a particlular direction along a path.\n",
    "\n",
    "The same function and curve are shown with representations of the integral with respect to \n",
    "  - $ds$ (red)\n",
    "  - $dx$ (blue)\n",
    "  - $dy$ (green)"
   ]
  },
  {
   "cell_type": "code",
   "execution_count": 5,
   "metadata": {
    "hide_input": true,
    "jupyter": {
     "source_hidden": true
    },
    "slideshow": {
     "slide_type": "fragment"
    }
   },
   "outputs": [
    {
     "data": {
      "application/vnd.jupyter.widget-view+json": {
       "model_id": "7e298693823d419ba8cd1d34f7aae4a8",
       "version_major": 2,
       "version_minor": 0
      },
      "text/plain": [
       "interactive(children=(IntSlider(value=-24, description='angle', max=66, min=-108, step=6), IntSlider(value=42,…"
      ]
     },
     "metadata": {},
     "output_type": "display_data"
    }
   ],
   "source": [
    "# r = lambda t: np.array([(1+t/4)*cos(4*pi*t),2*t - sin(8*t)/2])\n",
    "# f = lambda x,y: x**2 + y**2/4\n",
    "# t = np.linspace(0,1,100)\n",
    "\n",
    "@interact(angle=(-108,66,6),s=(0.,1,.05))\n",
    "def _(angle=-24,vangle=(0,90,6),s=0,surf=False,\n",
    "      r=fixed(lambda t: np.array([(1+t/4)*cos(4*pi*t),2*t - sin(8*t)/2])),\n",
    "      f = fixed(lambda x,y: x**2 + y**2/4),\n",
    "      t = fixed(np.linspace(0,1,100))):\n",
    "    fig = plt.figure(figsize=(10,10))\n",
    "    ax= fig.add_subplot(111,projection='3d')\n",
    "    u = np.linspace(-1,1,100) \n",
    "    v = np.linspace(-1,2,100) \n",
    "    w = np.linspace(0,s,77)\n",
    "    w,z = np.meshgrid(w,np.linspace(0,1,50))\n",
    "    U,V = np.meshgrid(u,v)\n",
    "    if surf:\n",
    "        ax.plot_surface(U,V,f(U,V),alpha=.4)\n",
    "    ax.plot_surface(*r(w),z*f(*r(w)),color='r',alpha=1)\n",
    "\n",
    "    ax.plot_surface(r(w)[0,:],0*w - 1,z*f(*r(w)),color='b',alpha=.5)\n",
    "    ax.plot_surface(0*w - 1.2,r(w)[1,:],z*f(*r(w)),color='g',alpha=.5)\n",
    "    ax.plot(*r(t),np.zeros_like(t),'-r')\n",
    "    ax.view_init(vangle,angle)\n",
    "\n",
    "    ax.set_xlim([-1.2,1.2])\n",
    "    ax.set_ylim([-1,2])\n",
    "    ax.set_zlim([0,2.2])\n",
    "    for c in 'xyz':\n",
    "#         getattr(ax,f\"set_{c}lim\")([-1,1]);    \n",
    "        getattr(ax,f\"set_{c}label\")(f\"${c}$\",size=16)\n",
    "    "
   ]
  },
  {
   "cell_type": "markdown",
   "metadata": {},
   "source": [
    "<p style=\"padding-bottom:40%;\"> </p>"
   ]
  },
  {
   "cell_type": "markdown",
   "metadata": {
    "slideshow": {
     "slide_type": "subslide"
    }
   },
   "source": [
    "## Line integral of a vector field\n",
    "\n",
    "$$\\int_C \\vec F\\cdot d\\vec r$$\n",
    "\n",
    "  - Where? path in space $C$\n",
    "  - What? vector field $\\vec F(x,y,\\ldots)$\n",
    "  - How? w.r.t. to direction of line $d\\vec r$"
   ]
  },
  {
   "cell_type": "markdown",
   "metadata": {
    "slideshow": {
     "slide_type": "fragment"
    }
   },
   "source": [
    "**Interpretation**: This quantity measures how much the vector field $\\vec F$ pushes along the path $C$ (which must be oriented).\n",
    "\n",
    "  - If $\\vec F$ is a force, and $C$ is the path of an object, the line integral is the work done by the force on the object.\n",
    "  - Consider the [question](https://en.wikipedia.org/wiki/Wind_assistance#Road_running) of whether a marathon run was \"wind-assisted.\""
   ]
  },
  {
   "cell_type": "code",
   "execution_count": 7,
   "metadata": {
    "hide_input": true,
    "slideshow": {
     "slide_type": "fragment"
    },
    "tags": []
   },
   "outputs": [
    {
     "data": {
      "image/png": "[encoded data removed]",
      "text/plain": [
       "<Figure size 504x504 with 1 Axes>"
      ]
     },
     "metadata": {},
     "output_type": "display_data"
    }
   ],
   "source": [
    "x = y = np.linspace(-2,2,20)\n",
    "x,y = np.meshgrid(x,y)\n",
    "plt.figure(figsize=(7,7))\n",
    "plt.quiver(x,y,-y,x,color='gray');\n",
    "for c in 'xy':\n",
    "#         getattr(ax,f\"set_{c}lim\")([-1,1]);    \n",
    "    getattr(plt.gca(),f\"set_{c}label\")(f\"${c}$\",size=16)\n",
    "t= np.linspace(0,1,100)    \n",
    "plt.plot(2 - (2+sqrt(2))*t,sqrt(2)*t,'r',lw=3);\n",
    "plt.plot(2*cos(t*3*pi/4),2*sin(t*3*pi/4),'b',lw=3);"
   ]
  },
  {
   "cell_type": "markdown",
   "metadata": {
    "slideshow": {
     "slide_type": "subslide"
    }
   },
   "source": [
    "## Formula\n",
    "\n",
    "$$\\int_C \\vec F\\cdot d\\vec r \\approx \\sum_{i=1}^n \\vec F(x_i^*,y_i^*)\\cdot\\langle \\Delta x_i,\\Delta y_i\\rangle$$\n",
    "\n",
    "where $\\Delta x_i, \\Delta y_i$ can be positive or negative. \n",
    "\n",
    "To compute this, we need a **parametrization** for $C$. That is, a space curve $\\vec r(t) = x(t)\\,\\vec i +  y(t)\\,\\vec j$ for $a \\leq t \\leq b$. Then this becomes in the limit"
   ]
  },
  {
   "cell_type": "markdown",
   "metadata": {
    "slideshow": {
     "slide_type": "fragment"
    }
   },
   "source": [
    "$$\\int_C \\vec F\\cdot d\\vec r = \\int_a^b \\vec F(\\vec r(t)) \\cdot \\vec r'(t)\\, dt.$$"
   ]
  },
  {
   "cell_type": "markdown",
   "metadata": {
    "slideshow": {
     "slide_type": "fragment"
    }
   },
   "source": [
    "If $ \\vec F(x,y) =  P(x,y)\\,\\vec i +  Q(x,y)\\,\\vec j $, then this becomes\n",
    "$$ \\int_a^b \\vec F(x(t),y(t)) \\cdot \\langle x'(t),y'(t) \\rangle\\, dt = \\int_C P\\, dx + Q\\,dy.$$"
   ]
  },
  {
   "cell_type": "markdown",
   "metadata": {
    "slideshow": {
     "slide_type": "fragment"
    }
   },
   "source": [
    "If $ \\vec T(t) = \\frac{\\vec r'(t)}{|\\vec r'(t)|}$ is the usual unit tangent vector in the direction of the curve., then this becomes\n",
    "$$ \\int_a^b \\vec F(\\vec r(t)) \\cdot \\vec T(t)\\,|\\vec r'(t)|\\, dt = \\int_C \\vec F\\cdot\\vec T \\,ds.$$"
   ]
  },
  {
   "cell_type": "markdown",
   "metadata": {},
   "source": [
    "## Examples\n",
    "\n",
    "See the [exercises notebook](../exercises/L18-Exercises.ipynb) for more examples."
   ]
  },
  {
   "cell_type": "code",
   "execution_count": null,
   "metadata": {},
   "outputs": [],
   "source": []
  }
 ],
 "metadata": {
  "celltoolbar": "Slideshow",
  "kernelspec": {
   "display_name": "Python 3",
   "language": "python",
   "name": "python3"
  },
  "language_info": {
   "codemirror_mode": {
    "name": "ipython",
    "version": 3
   },
   "file_extension": ".py",
   "mimetype": "text/x-python",
   "name": "python",
   "nbconvert_exporter": "python",
   "pygments_lexer": "ipython3",
   "version": "3.7.6"
  },
  "rise": {
   "enable_chalkboard": true,
   "scroll": true,
   "theme": "sky",
   "transition": "concave"
  },
  "widgets": {
   "application/vnd.jupyter.widget-state+json": {
    "state": {},
    "version_major": 2,
    "version_minor": 0
   }
  }
 },
 "nbformat": 4,
 "nbformat_minor": 4
}
