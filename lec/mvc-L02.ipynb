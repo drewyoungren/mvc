{
 "cells": [
  {
   "cell_type": "code",
   "execution_count": 18,
   "metadata": {
    "slideshow": {
     "slide_type": "skip"
    },
    "tags": []
   },
   "outputs": [],
   "source": [
    "import numpy as np\n",
    "import matplotlib.pyplot as plt\n",
    "from IPython.display import display, HTML, IFrame\n",
    "from ipywidgets import interact\n",
    "import pandas as pd\n",
    "from numpy import cos,sin,pi,tan,log,exp,sqrt,array,linspace,arange\n",
    "from mpl_toolkits import mplot3d\n",
    "from ipykernel.pylab.backend_inline import flush_figures\n",
    "%matplotlib inline\n",
    "\n",
    "plt.rcParams['figure.figsize'] = [8.0, 8.0]\n",
    "\n",
    "# Uncomment the one that corresponds to your Jupyter theme\n",
    "plt.style.use('default')\n",
    "# plt.style.use('dark_background')\n",
    "# plt.style.use('fivethirtyeight')\n",
    "# plt.style.use('Solarize_Light2')\n",
    "\n",
    "# plt.rcParams.update({\n",
    "#     \"text.usetex\": True,\n",
    "# #     \"font.family\": \"serif\",\n",
    "# })"
   ]
  },
  {
   "cell_type": "code",
   "execution_count": 19,
   "metadata": {
    "jupyter": {
     "source_hidden": true
    },
    "tags": []
   },
   "outputs": [
    {
     "data": {
      "text/html": [
       "<style>\n",
       "tr {\n",
       "    font-size: 1.5em;\n",
       "}\n",
       "</style>\n"
      ],
      "text/plain": [
       "<IPython.core.display.HTML object>"
      ]
     },
     "metadata": {},
     "output_type": "display_data"
    }
   ],
   "source": [
    "%%html\n",
    "<style>\n",
    "tr {\n",
    "    font-size: 1.5em;\n",
    "}\n",
    "</style>"
   ]
  },
  {
   "cell_type": "markdown",
   "metadata": {
    "slideshow": {
     "slide_type": "notes"
    }
   },
   "source": [
    "$\\newcommand{\\RR}{\\mathbb{R}}$\n",
    "$\\newcommand{\\bv}[1]{\\begin{bmatrix} #1 \\end{bmatrix}}$\n",
    "$\\renewcommand{\\vec}{\\mathbf}$"
   ]
  },
  {
   "cell_type": "markdown",
   "metadata": {
    "slideshow": {
     "slide_type": "slide"
    },
    "tags": []
   },
   "source": [
    "## One(-or-so)-minute Review\n",
    "\n",
    "  - Distance between points in $\\RR^n = \\{(x_1, \\dots,x_n): x_i \\in \\RR\\}$ is measured by $$\\sqrt{\\sum_{i=1}^n (x_i - y_i)^2}$$\n",
    "  - A vector $\\vec v$ is a directed line segment modulo location. \n",
    "  - It can be specified by the displacement in each coordinate. \n",
    "  $$\\vec v = \\langle v_1, v_2, v_3 \\rangle $$\n",
    "  - The **length** of a vector is (in $\\RR^3$), the scalar\n",
    "   $$|\\vec v| = \\sqrt{v_1^2+ v_2^2 + v_3^2}$$\n",
    "  - Thus the distance between points with position vectors $\\vec v $ and $\\vec w$ is simply $|\\vec v - \\vec w|$.\n"
   ]
  },
  {
   "cell_type": "markdown",
   "metadata": {},
   "source": [
    "<div style=\"padding-bottom: 40%\"></div>"
   ]
  },
  {
   "cell_type": "markdown",
   "metadata": {
    "slideshow": {
     "slide_type": "slide"
    }
   },
   "source": [
    "## Vector Operations\n",
    "\n",
    "Let $\\vec v, \\vec w$ be vectors in $\\RR^n$ and $c$ a scalar. \n",
    "\n",
    "| Operation | Notation | Formula | Output |\n",
    "|---|---| --- |---|\n",
    "| magnitude    | $|\\vec v|$ | $$\\sqrt{\\sum v_i^2}$$ | scalar |\n",
    "| scalar multiplication | $c \\vec v$ | $$\\langle c v_1, \\ldots ,c v_n \\rangle $$| vector |\n",
    "| vector addition | $\\vec v + \\vec w$ | $$\\langle v_1 + w_1,\\ldots, v_n + w_n \\rangle $$| vector |"
   ]
  },
  {
   "cell_type": "markdown",
   "metadata": {},
   "source": [
    "<div style=\"padding-bottom: 40%\"></div>"
   ]
  },
  {
   "cell_type": "markdown",
   "metadata": {
    "slideshow": {
     "slide_type": "slide"
    }
   },
   "source": [
    "## Linear Combinations\n",
    "\n",
    "A *linear combination* of vectors $\\vec v$ and $\\vec w$ is the expression $$a \\vec v + b \\vec w$$ where $a$ and $b$ are scalars."
   ]
  },
  {
   "cell_type": "code",
   "execution_count": 20,
   "metadata": {
    "hide_input": true,
    "jupyter": {
     "source_hidden": true
    },
    "slideshow": {
     "slide_type": "fragment"
    },
    "tags": []
   },
   "outputs": [
    {
     "data": {
      "application/vnd.jupyter.widget-view+json": {
       "model_id": "2284cd1d3c794366814bb0663e353fd7",
       "version_major": 2,
       "version_minor": 0
      },
      "text/plain": [
       "interactive(children=(FloatSlider(value=0.0, description='a', max=2.0, min=-2.0), FloatSlider(value=0.0, descr…"
      ]
     },
     "metadata": {},
     "output_type": "display_data"
    }
   ],
   "source": [
    "@interact\n",
    "def _(a=(-2.0,2.0),b=(-2.0,2.0)):\n",
    "    fig,ax = plt.subplots(1, figsize=(8,8))\n",
    "\n",
    "    ax.set_xlim(-4,4)\n",
    "    ax.set_ylim(-4,4)\n",
    "\n",
    "    ax.arrow(0,0,2,1,color='r',width=.02,head_width=.1,lw=4)\n",
    "    ax.arrow(0,0,-1/2,3/2,color='b',width=.02,head_width=.1,lw=4)\n",
    "    ax.arrow(0,0,2*a,a,alpha = .3)\n",
    "    ax.arrow(0,0,-b/2,b*3/2,alpha=.3)\n",
    "    ax.arrow(0,0,2*a - b/2,a + b*3/2,color='purple', width=.02,head_width=.1,lw=4)\n",
    "    ax.grid(True)\n",
    "    flush_figures()"
   ]
  },
  {
   "cell_type": "markdown",
   "metadata": {},
   "source": [
    "<div style=\"padding-bottom: 40%\"></div>"
   ]
  },
  {
   "cell_type": "markdown",
   "metadata": {
    "slideshow": {
     "slide_type": "subslide"
    }
   },
   "source": [
    "### Special Case: Convex combinations\n",
    "\n",
    "Consider a linear combination $c\\vec v + d\\vec w$ such that $c+d=1$. Which vectors result?"
   ]
  },
  {
   "cell_type": "code",
   "execution_count": 21,
   "metadata": {
    "hide_input": true,
    "jupyter": {
     "source_hidden": true
    },
    "slideshow": {
     "slide_type": "fragment"
    },
    "tags": []
   },
   "outputs": [
    {
     "data": {
      "application/vnd.jupyter.widget-view+json": {
       "model_id": "326b71de72384ed28afa7f39858d582a",
       "version_major": 2,
       "version_minor": 0
      },
      "text/plain": [
       "interactive(children=(FloatSlider(value=0.0, description='t', max=2.0, min=-2.0), Output()), _dom_classes=('wi…"
      ]
     },
     "metadata": {},
     "output_type": "display_data"
    }
   ],
   "source": [
    "\n",
    "    \n",
    "@interact\n",
    "def _(t=(-2.0,2.0,.1)):\n",
    "    fig,ax = plt.subplots(1, figsize=(8,8))\n",
    "\n",
    "    ax.set_xlim(-4,4)\n",
    "    ax.set_ylim(-4,4)\n",
    "\n",
    "    ax.arrow(0,0,2,1,color='r',width=.02,head_width=.1,lw=4)\n",
    "    ax.arrow(0,0,-1/2,3/2,color='b',width=.02,head_width=.1,lw=4)\n",
    "    ax.arrow(0,0,2*t,t,alpha = .3)\n",
    "    ax.arrow(0,0,-(1-t)/2,(1-t)*3/2,alpha=.3)\n",
    "    ax.arrow(0,0,2*t - (1-t)/2,t + (1-t)*3/2,color='purple', width=.02,head_width=.1,lw=4)\n",
    "    ax.grid(True)\n",
    "    flush_figures()\n",
    "    "
   ]
  },
  {
   "cell_type": "markdown",
   "metadata": {
    "slideshow": {
     "slide_type": "fragment"
    }
   },
   "source": [
    "We can see they form a line throw $\\vec v$ and $\\vec w$ by noting $d=1-c$, and thus,\n",
    "$$c\\vec v + d\\vec w = c\\vec v +(1-c)\\vec w = \\vec w + c(\\vec v-\\vec w)$$\n",
    "so every such vector \"starts\" at $\\vec w$ and moves some multiple of the direction toward $\\vec v$."
   ]
  },
  {
   "cell_type": "markdown",
   "metadata": {},
   "source": [
    "<p style=\"padding-bottom:40%;\"> </p>"
   ]
  },
  {
   "cell_type": "markdown",
   "metadata": {
    "slideshow": {
     "slide_type": "slide"
    }
   },
   "source": [
    "# Special Basis Vectors\n",
    "\n",
    "In $\\RR^3$, since we use them so often, we define special basis vectors \n",
    "$$\\vec i = \\bv{1 \\\\ 0 \\\\ 0} \\qquad \\vec j = \\bv{0 \\\\ 1  \\\\ 0} \\qquad \\vec k = \\bv{0 \\\\ 0 \\\\ 1 }$$"
   ]
  },
  {
   "cell_type": "markdown",
   "metadata": {
    "slideshow": {
     "slide_type": "fragment"
    }
   },
   "source": [
    "Then every vector is an obvious linear combination of these. \n",
    "$$\\langle a, b, c \\rangle = a\\,\\vec i + b\\,\\vec j + c\\,\\vec k$$"
   ]
  },
  {
   "cell_type": "markdown",
   "metadata": {},
   "source": [
    "<p style=\"padding-bottom:40%;\"> </p>"
   ]
  },
  {
   "cell_type": "markdown",
   "metadata": {
    "slideshow": {
     "slide_type": "slide"
    }
   },
   "source": [
    "# Lecture 02\n",
    "\n",
    "Objectives:\n",
    "  - Dot product\n",
    "    - definition\n",
    "    - algebraic and geometric views\n",
    "  - Cross product\n",
    "    - definition\n",
    "    - mnemonic\n",
    "    - key properties\n",
    " \n",
    " References:\n",
    "   - Openstax (Strang et al)\n",
    "     - [§1.3 The Dot Product](https://openstax.org/books/calculus-volume-3/pages/2-3-the-dot-product) \n",
    "     - [§1.4 The Cross Product](https://openstax.org/books/calculus-volume-3/pages/2-4-the-cross-product)"
   ]
  },
  {
   "cell_type": "markdown",
   "metadata": {},
   "source": [
    "<p style=\"padding-bottom:40%;\"> </p>"
   ]
  },
  {
   "cell_type": "markdown",
   "metadata": {
    "slideshow": {
     "slide_type": "slide"
    }
   },
   "source": [
    "## The Dot Product\n",
    "\n",
    "We expand our list of vector operations with the **dot** (or **inner** or **scalar**) **product**.\n",
    "\n",
    "$$\\vec v \\cdot \\vec w = \\sum_{i=1}^n v_i w_i$$"
   ]
  },
  {
   "cell_type": "markdown",
   "metadata": {
    "slideshow": {
     "slide_type": "fragment"
    },
    "tags": []
   },
   "source": [
    "#### Examples"
   ]
  },
  {
   "cell_type": "markdown",
   "metadata": {
    "slideshow": {
     "slide_type": "fragment"
    },
    "tags": []
   },
   "source": [
    "  - $\\langle 4,2, -1 \\rangle \\cdot \\langle -2,6, 0 \\rangle = -8 + 12 + 0 = 4 $"
   ]
  },
  {
   "cell_type": "markdown",
   "metadata": {
    "slideshow": {
     "slide_type": "fragment"
    },
    "tags": []
   },
   "source": [
    "  - Compare: $$\\begin{bmatrix} 4 \\\\ 2 \\\\ -1 \\end{bmatrix}\\cdot \\begin{bmatrix} 2 \\\\ 6 \\\\ 0 \\end{bmatrix} = -8 + 12 = 4 $$"
   ]
  },
  {
   "cell_type": "markdown",
   "metadata": {
    "slideshow": {
     "slide_type": "fragment"
    },
    "tags": []
   },
   "source": [
    "  - $\\vec i \\cdot \\vec i = 1$"
   ]
  },
  {
   "cell_type": "markdown",
   "metadata": {
    "slideshow": {
     "slide_type": "fragment"
    },
    "tags": []
   },
   "source": [
    "  - $\\vec i \\cdot \\vec j = \\vec i \\cdot \\vec k = \\vec j \\cdot \\vec k = 0$"
   ]
  },
  {
   "cell_type": "markdown",
   "metadata": {},
   "source": [
    "### "
   ]
  },
  {
   "cell_type": "markdown",
   "metadata": {},
   "source": [
    "<p style=\"padding-bottom:40%;\"> </p>"
   ]
  },
  {
   "cell_type": "markdown",
   "metadata": {
    "slideshow": {
     "slide_type": "subslide"
    },
    "tags": []
   },
   "source": [
    "## Properties of the dot product. "
   ]
  },
  {
   "cell_type": "markdown",
   "metadata": {
    "slideshow": {
     "slide_type": "subslide"
    },
    "tags": []
   },
   "source": [
    "  - $\\vec v \\cdot \\vec v = |\\vec v |^2 = v_1^2 + v_2^2 + \\ldots$"
   ]
  },
  {
   "cell_type": "markdown",
   "metadata": {
    "slideshow": {
     "slide_type": "fragment"
    },
    "tags": []
   },
   "source": [
    "  - $\\vec v \\cdot \\vec 0 = 0$"
   ]
  },
  {
   "cell_type": "markdown",
   "metadata": {
    "slideshow": {
     "slide_type": "fragment"
    },
    "tags": []
   },
   "source": [
    "  - $\\vec v \\cdot \\vec w = \\vec w \\cdot \\vec v$"
   ]
  },
  {
   "cell_type": "markdown",
   "metadata": {
    "slideshow": {
     "slide_type": "fragment"
    },
    "tags": []
   },
   "source": [
    "  - $(c\\vec u + d\\vec v) \\cdot \\vec w = c(\\vec u \\cdot \\vec w) + d (\\vec v \\cdot \\vec w)$"
   ]
  },
  {
   "cell_type": "markdown",
   "metadata": {},
   "source": [
    "<p style=\"padding-bottom:40%;\"> </p>"
   ]
  },
  {
   "cell_type": "markdown",
   "metadata": {},
   "source": [
    "### Exercise"
   ]
  },
  {
   "cell_type": "code",
   "execution_count": 22,
   "metadata": {
    "jupyter": {
     "source_hidden": true
    },
    "tags": []
   },
   "outputs": [
    {
     "data": {
      "text/html": [
       "\n",
       "<iframe src=\"https://embed.polleverywhere.com/multiple_choice_polls/m8rI2GBEJASfzT4uT3S8v?controls=none&short_poll=true\" width=\"800px\" height=\"600px\"></iframe>\n"
      ],
      "text/plain": [
       "<IPython.core.display.HTML object>"
      ]
     },
     "metadata": {},
     "output_type": "display_data"
    }
   ],
   "source": [
    "display(HTML(\"\"\"\n",
    "<iframe src=\"https://embed.polleverywhere.com/multiple_choice_polls/m8rI2GBEJASfzT4uT3S8v?controls=none&short_poll=true\" width=\"800px\" height=\"600px\"></iframe>\n",
    "\"\"\"))"
   ]
  },
  {
   "cell_type": "markdown",
   "metadata": {
    "slideshow": {
     "slide_type": "slide"
    }
   },
   "source": [
    "## Dot products and angles"
   ]
  },
  {
   "cell_type": "code",
   "execution_count": 23,
   "metadata": {
    "hide_input": true,
    "jupyter": {
     "source_hidden": true
    },
    "slideshow": {
     "slide_type": "fragment"
    },
    "tags": []
   },
   "outputs": [
    {
     "data": {
      "application/vnd.jupyter.widget-view+json": {
       "model_id": "e6cd7ab2b81c46268bdaf560bc886bc1",
       "version_major": 2,
       "version_minor": 0
      },
      "text/plain": [
       "interactive(children=(FloatSlider(value=0.5235987755982988, description='al', max=6.283185307179586, step=0.05…"
      ]
     },
     "metadata": {},
     "output_type": "display_data"
    }
   ],
   "source": [
    "@interact(al=(0.,2.0*pi,pi/60),th=(0.,2.*pi,pi/60))\n",
    "def _(al=pi/6,th=pi/3*2):\n",
    "    fig,ax = plt.subplots(1, figsize=(8,8))\n",
    "\n",
    "    ax.set_xlim(-4,4)\n",
    "    ax.set_ylim(-4,4)\n",
    "\n",
    "    ax.quiver(0,0,3/sqrt(2)*cos(al),\n",
    "             3/sqrt(2)*sin(al),color='r',angles='xy', scale_units='xy', scale=1)\n",
    "    ax.quiver(0,0,sqrt(2)*cos(th+al),\n",
    "             sqrt(2)*sin(th+al),color='b',\n",
    "             angles='xy', scale_units='xy', scale=1)\n",
    "#     ax.arrow(0,0,2*t,t,alpha = .3)\n",
    "#     ax.arrow(0,0,-(1-t)/2,(1-t)*3/2,alpha=.3)\n",
    "#     ax.arrow(0,0,2*t - (1-t)/2,t + (1-t)*3/2,color='purple', width=.02,head_width=.1)\n",
    "    ax.grid(True)\n",
    "    ax.text(0,3.5,f\"$\\\\vec v\\\\cdot\\\\vec w = {3*cos(th):.4f}$\",fontsize=22)\n",
    "    t = linspace(0,1,100)\n",
    "    ax.plot(cos(al + t*th)/2, sin(al + t*th)/2,zorder=-1)\n",
    "    if th > 0:\n",
    "        ax.text(cos(th/2 + al),sin(th/2 + al),f\"$\\\\theta$\",fontsize=22, ha='center', va='center')\n",
    "    ax.plot(cos(al*t)/3*2, sin(al*t)/3*2,zorder=-1)\n",
    "    if al > 0:\n",
    "        ax.text(cos(al/2),sin(al/2),f\"$\\\\alpha$\",fontsize=22, ha='center', va='center')\n",
    "    flush_figures()"
   ]
  },
  {
   "cell_type": "markdown",
   "metadata": {},
   "source": [
    "<p style=\"padding-bottom:40%;\"> </p>"
   ]
  },
  {
   "cell_type": "markdown",
   "metadata": {
    "slideshow": {
     "slide_type": "subslide"
    }
   },
   "source": [
    "## Geometric View\n",
    "\n",
    "The following formula best summarizes the significance of the dot product. \n",
    "\n",
    "$$\\vec v \\cdot \\vec w = |\\vec v | | \\vec w | \\cos \\theta $$\n",
    "\n",
    "where $\\theta$ is the angle between the vectors. "
   ]
  },
  {
   "cell_type": "markdown",
   "metadata": {
    "slideshow": {
     "slide_type": "fragment"
    }
   },
   "source": [
    "This equation holds in any dimension. "
   ]
  },
  {
   "cell_type": "markdown",
   "metadata": {},
   "source": [
    "<p style=\"padding-bottom:40%;\"> </p>"
   ]
  },
  {
   "cell_type": "markdown",
   "metadata": {
    "slideshow": {
     "slide_type": "fragment"
    }
   },
   "source": [
    "#### Definition\n",
    "\n",
    "Two vectors $\\vec v$ and $\\vec w$ are **orthogonal** provided $\\vec v \\cdot \\vec w =0$. \n",
    "\n",
    "*Perpendicular*, usually for dimesions 2 and 3, is also acceptable."
   ]
  },
  {
   "cell_type": "markdown",
   "metadata": {},
   "source": [
    "<p style=\"padding-bottom:40%;\"> </p>"
   ]
  },
  {
   "cell_type": "markdown",
   "metadata": {
    "slideshow": {
     "slide_type": "slide"
    }
   },
   "source": [
    "\n",
    "### [Exercise](https://PollEv.com/multiple_choice_polls/XohgLLf7HHGw0swRP3OL1/respond)\n",
    "\n",
    "What angle does the line $x = y = z$ make with the $xy$-plane?"
   ]
  },
  {
   "cell_type": "code",
   "execution_count": 33,
   "metadata": {
    "jupyter": {
     "source_hidden": true
    },
    "tags": []
   },
   "outputs": [
    {
     "data": {
      "text/html": [
       "\n",
       "<iframe src=\"https://pollev-embeds.com/multiple_choice_polls/XohgLLf7HHGw0swRP3OL1/respond\" width=\"800px\" height=\"600px\"></iframe>\n"
      ],
      "text/plain": [
       "<IPython.core.display.HTML object>"
      ]
     },
     "metadata": {},
     "output_type": "display_data"
    }
   ],
   "source": [
    "display(HTML(\"\"\"\n",
    "<iframe src=\"https://pollev-embeds.com/multiple_choice_polls/XohgLLf7HHGw0swRP3OL1/respond\" width=\"800px\" height=\"600px\"></iframe>\n",
    "\"\"\"))"
   ]
  },
  {
   "cell_type": "markdown",
   "metadata": {},
   "source": [
    "<p style=\"padding-bottom:40%;\"> </p>"
   ]
  },
  {
   "cell_type": "markdown",
   "metadata": {
    "slideshow": {
     "slide_type": "slide"
    }
   },
   "source": [
    "## Projection\n",
    "\n",
    "Let $\\vec v = \\langle 3, 1 \\rangle$ and $\\vec w = \\langle 1,1 \\rangle$. Find the scalar $c$ such that $$ |\\vec v - c\\vec w|$$ is as small as possible.\n",
    "\n",
    "**Reinterpretation**\n",
    "> Find the multiple of vector $\\vec w $ *closest* to $\\vec v$.\n",
    "\n"
   ]
  },
  {
   "cell_type": "code",
   "execution_count": 25,
   "metadata": {
    "hide_input": true,
    "jupyter": {
     "source_hidden": true
    },
    "slideshow": {
     "slide_type": "fragment"
    },
    "tags": []
   },
   "outputs": [
    {
     "data": {
      "application/vnd.jupyter.widget-view+json": {
       "model_id": "064abed7399340ebbb6bbacb4133a41c",
       "version_major": 2,
       "version_minor": 0
      },
      "text/plain": [
       "interactive(children=(FloatSlider(value=1.0, description='c', max=8.0, step=0.2), Output()), _dom_classes=('wi…"
      ]
     },
     "metadata": {},
     "output_type": "display_data"
    }
   ],
   "source": [
    "@interact(c=(0.,8.,.2))\n",
    "def _(c=1):\n",
    "    fig,ax = plt.subplots(figsize=(8,8))\n",
    "    ax.grid()\n",
    "    ax.set_xlim([0,8])\n",
    "    ax.set_ylim([0,8])\n",
    "\n",
    "    ax.quiver(0,0,5,3,color='r',angles='xy', scale_units='xy', scale=1)\n",
    "    ax.quiver(0,0,c,c,color='b',angles='xy', scale_units='xy', scale=1)\n",
    "    # ax.quiver(c,c,5-c,3-c,color='k',alpha = .3,angles='xy', scale_units='xy', scale=1)\n",
    "\n",
    "    ax.text(2,7,f\"$|\\\\vec v- c \\\\vec w | = {np.linalg.norm(np.array([5-c,3-c])):.4f}$\",size=22)\n",
    "    ax.text(c-1,c,f\"${c:.1f}\\\\vec w$\",size=18)\n",
    "    ax.text(5,3,f\"$\\\\vec v$\",size=18)\n",
    "    flush_figures()"
   ]
  },
  {
   "cell_type": "markdown",
   "metadata": {},
   "source": [
    "<p style=\"padding-bottom:40%;\"> </p>"
   ]
  },
  {
   "cell_type": "code",
   "execution_count": 26,
   "metadata": {
    "hide_input": true,
    "jupyter": {
     "source_hidden": true
    },
    "slideshow": {
     "slide_type": "fragment"
    },
    "tags": []
   },
   "outputs": [
    {
     "data": {
      "application/vnd.jupyter.widget-view+json": {
       "model_id": "663df73a446f437a83a82ab19b960dcf",
       "version_major": 2,
       "version_minor": 0
      },
      "text/plain": [
       "interactive(children=(FloatSlider(value=1.0, description='c', max=8.0, step=0.2), Output()), _dom_classes=('wi…"
      ]
     },
     "metadata": {},
     "output_type": "display_data"
    }
   ],
   "source": [
    "@interact(c=(0.,8.,.2))\n",
    "def _(c=1):\n",
    "    fig,ax = plt.subplots(figsize=(8,8))\n",
    "    ax.grid()\n",
    "    ax.set_xlim([0,8])\n",
    "    ax.set_ylim([0,8])\n",
    "\n",
    "    ax.quiver(0,0,5,3,color='r',angles='xy', scale_units='xy', scale=1)\n",
    "    ax.quiver(0,0,c,c,color='b',angles='xy', scale_units='xy', scale=1)\n",
    "    ax.quiver(c,c,5-c,3-c,color='k',alpha = .3,angles='xy', scale_units='xy', scale=1)\n",
    "    ax.plot([0,8],[0,8],'--')\n",
    "\n",
    "    ax.text(2,7,f\"$|\\\\vec v- c \\\\vec w | = {np.linalg.norm(np.array([5-c,3-c])):.4f}$\",size=22)\n",
    "    ax.text(c-1,c,f\"${c:.1f}\\\\vec w$\",size=18)\n",
    "    ax.text(5,3,f\"$\\\\vec v$\",size=18)\n",
    "    flush_figures()"
   ]
  },
  {
   "cell_type": "markdown",
   "metadata": {},
   "source": [
    "<p style=\"padding-bottom:40%;\"> </p>"
   ]
  },
  {
   "cell_type": "markdown",
   "metadata": {
    "slideshow": {
     "slide_type": "subslide"
    }
   },
   "source": [
    "### Definitions\n",
    "\n",
    "Suppose $\\vec b \\neq \\vec 0$.\n",
    "\n",
    "The **vector projection** ( or _component_) of the vector $\\vec a$ onto $\\vec b$ is \n",
    "$$\\operatorname{proj}_\\vec b \\vec a = \\frac{\\vec a \\cdot \\vec b}{\\vec b \\cdot \\vec b} \\vec b. $$\n",
    "\n",
    "The **scalar projection** of the vector $\\vec a$ onto $\\vec b$ is \n",
    "$$\\operatorname{comp}_\\vec b \\vec a = \\frac{\\vec a \\cdot \\vec b}{|\\vec b|}. $$\n"
   ]
  },
  {
   "cell_type": "markdown",
   "metadata": {
    "slideshow": {
     "slide_type": "fragment"
    }
   },
   "source": [
    "Note: The notation for the latter comes from the \"*comp*onent of $\\vec a$ in the $\\vec b$ direction.\""
   ]
  },
  {
   "cell_type": "markdown",
   "metadata": {
    "slideshow": {
     "slide_type": "fragment"
    }
   },
   "source": [
    "Furthermore, let $\\vec u = \\frac{\\vec b}{|\\vec b|}$, the normalization of $\\vec b$. Then,\n",
    "\n",
    "$$\\operatorname{proj}_\\vec b \\vec a = (\\operatorname{comp}_\\vec b \\vec a)\\vec u = (\\vec a \\cdot \\vec u)  \\vec u.$$"
   ]
  },
  {
   "cell_type": "markdown",
   "metadata": {},
   "source": [
    "<p style=\"padding-bottom:40%;\"> </p>"
   ]
  },
  {
   "cell_type": "markdown",
   "metadata": {},
   "source": [
    "### [Exercises](https://pollev.com/dcy2)"
   ]
  },
  {
   "cell_type": "code",
   "execution_count": 27,
   "metadata": {
    "jupyter": {
     "source_hidden": true
    },
    "tags": []
   },
   "outputs": [
    {
     "data": {
      "text/html": [
       "\n",
       "<iframe src=\"https://embed.polleverywhere.com/multiple_choice_polls/wsaqPHN8xerNCVtEpW0r2?controls=none&short_poll=true\" width=\"800px\" height=\"600px\"></iframe>\n"
      ],
      "text/plain": [
       "<IPython.core.display.HTML object>"
      ]
     },
     "metadata": {},
     "output_type": "display_data"
    }
   ],
   "source": [
    "display(HTML(\"\"\"\n",
    "<iframe src=\"https://embed.polleverywhere.com/multiple_choice_polls/wsaqPHN8xerNCVtEpW0r2?controls=none&short_poll=true\" width=\"800px\" height=\"600px\"></iframe>\n",
    "\"\"\"))"
   ]
  },
  {
   "cell_type": "code",
   "execution_count": 28,
   "metadata": {
    "jupyter": {
     "source_hidden": true
    },
    "tags": []
   },
   "outputs": [
    {
     "data": {
      "text/html": [
       "\n",
       "<iframe src=\"https://embed.polleverywhere.com/multiple_choice_polls/xm3Wne3aZE7oNXH0uRFXH?controls=none&short_poll=true\" width=\"800px\" height=\"600px\"></iframe>\n"
      ],
      "text/plain": [
       "<IPython.core.display.HTML object>"
      ]
     },
     "metadata": {},
     "output_type": "display_data"
    }
   ],
   "source": [
    "display(HTML(\"\"\"\n",
    "<iframe src=\"https://embed.polleverywhere.com/multiple_choice_polls/xm3Wne3aZE7oNXH0uRFXH?controls=none&short_poll=true\" width=\"800px\" height=\"600px\"></iframe>\n",
    "\"\"\"))"
   ]
  },
  {
   "cell_type": "markdown",
   "metadata": {},
   "source": [
    "<div style=\"padding-bottom: 40%\"></div>"
   ]
  },
  {
   "cell_type": "markdown",
   "metadata": {},
   "source": [
    "### Exercise \n",
    "\n",
    "The (infinitely long) finish line to a boat race is modeled by $3x + 4y = 12$. Boat $A$ is at position $(3/2, 0)$ and boat $B$ is at $(-1, 1)$. Which is winning?"
   ]
  },
  {
   "cell_type": "code",
   "execution_count": 29,
   "metadata": {
    "hide_input": true,
    "jupyter": {
     "source_hidden": true
    },
    "slideshow": {
     "slide_type": "fragment"
    },
    "tags": []
   },
   "outputs": [
    {
     "data": {
      "image/png": "[encoded data removed]",
      "text/plain": [
       "<Figure size 800x800 with 1 Axes>"
      ]
     },
     "metadata": {},
     "output_type": "display_data"
    }
   ],
   "source": [
    "plt.figure(figsize=(8,8))\n",
    "plt.plot([-8,10],[9,-18/4],'b',linestyle='dashed')\n",
    "plt.xlim([-8,8])\n",
    "plt.ylim([-8,8])\n",
    "plt.grid(True)\n",
    "plt.gca().set_aspect('equal')\n",
    "plt.text(1,0,'$A$')\n",
    "plt.text(-1,3/2,'$B$')\n",
    "plt.scatter([1,-1],[0,3/2],marker='s');"
   ]
  },
  {
   "cell_type": "markdown",
   "metadata": {},
   "source": [
    "<p style=\"padding-bottom:40%;\"> </p>"
   ]
  },
  {
   "cell_type": "markdown",
   "metadata": {
    "slideshow": {
     "slide_type": "slide"
    }
   },
   "source": [
    "# Cross Product\n",
    "\n",
    "It turns out $\\RR^3$ is special. There happens to be a vector 'multiplication' of two vectors $$\\vec v \\times \\vec w$$ that gives a new vector. This **does not work** in $\\RR^2$ (and most other dimensions)."
   ]
  },
  {
   "cell_type": "markdown",
   "metadata": {
    "slideshow": {
     "slide_type": "fragment"
    },
    "tags": []
   },
   "source": [
    "The following properties actually define the cross product.\n",
    "\n",
    "  - $\\vec v \\times \\vec w$ is bilinear. "
   ]
  },
  {
   "cell_type": "markdown",
   "metadata": {
    "slideshow": {
     "slide_type": "fragment"
    },
    "tags": []
   },
   "source": [
    "  - $\\vec v \\times \\vec w  = - \\vec w \\times \\vec v $ (antisymmetry)"
   ]
  },
  {
   "cell_type": "markdown",
   "metadata": {
    "slideshow": {
     "slide_type": "fragment"
    },
    "tags": []
   },
   "source": [
    "  - $\\vec i \\times \\vec j = \\vec k$\n",
    "  - $\\vec j \\times \\vec k = \\vec i$\n",
    "  - $\\vec k \\times \\vec i = \\vec j$\n",
    "  "
   ]
  },
  {
   "cell_type": "markdown",
   "metadata": {},
   "source": [
    "<p style=\"padding-bottom:40%;\"> </p>"
   ]
  },
  {
   "cell_type": "markdown",
   "metadata": {
    "slideshow": {
     "slide_type": "subslide"
    }
   },
   "source": [
    "## Formula\n",
    "\n",
    "$$ \\langle a,b,c \\rangle\\times \\langle d,e,f \\rangle = (a\\vec i + b\\vec j + c \\vec k)\\times(d\\vec i + e\\vec j + f \\vec k)$$"
   ]
  },
  {
   "cell_type": "markdown",
   "metadata": {
    "slideshow": {
     "slide_type": "fragment"
    }
   },
   "source": [
    "$$ = \\begin{vmatrix} \\vec i & \\vec j & \\vec k \\\\a &b &c \\\\ d & e & f \\\\ \\end{vmatrix} $$"
   ]
  },
  {
   "cell_type": "markdown",
   "metadata": {},
   "source": [
    "<p style=\"padding-bottom:40%;\"> </p>"
   ]
  },
  {
   "cell_type": "markdown",
   "metadata": {
    "slideshow": {
     "slide_type": "subslide"
    }
   },
   "source": [
    "## Properties of $\\vec v \\times \\vec w$"
   ]
  },
  {
   "cell_type": "markdown",
   "metadata": {
    "slideshow": {
     "slide_type": "subslide"
    },
    "tags": []
   },
   "source": [
    "  - $\\vec v \\times \\vec w$ is perpendicular to *both* $\\vec v $ and $\\vec w$."
   ]
  },
  {
   "cell_type": "markdown",
   "metadata": {
    "slideshow": {
     "slide_type": "fragment"
    },
    "tags": []
   },
   "source": [
    "  - $\\vec v \\times \\vec w$ points in the direction according to the right-hand-rule."
   ]
  },
  {
   "cell_type": "markdown",
   "metadata": {
    "slideshow": {
     "slide_type": "fragment"
    },
    "tags": []
   },
   "source": [
    "  - $|\\vec v \\times \\vec w| = |\\vec v ||\\vec w|\\sin\\theta$ where theta is the (positive) angle between the vectors."
   ]
  },
  {
   "cell_type": "code",
   "execution_count": 30,
   "metadata": {
    "hide_input": true,
    "jupyter": {
     "source_hidden": true
    },
    "slideshow": {
     "slide_type": "fragment"
    },
    "tags": []
   },
   "outputs": [
    {
     "data": {
      "application/vnd.jupyter.widget-view+json": {
       "model_id": "fb57f4fb3ab34c7a9bab4c9b361c963e",
       "version_major": 2,
       "version_minor": 0
      },
      "text/plain": [
       "interactive(children=(FloatSlider(value=1.5707963267948966, description='t', max=3.141592653589793), IntSlider…"
      ]
     },
     "metadata": {},
     "output_type": "display_data"
    }
   ],
   "source": [
    "@interact\n",
    "def _(t=(0.,np.pi),angle=(-12,108,6)):\n",
    "    fig = plt.figure(figsize=(8,8))\n",
    "    ax = fig.add_subplot(projection='3d')\n",
    "    ax.view_init(30,angle)\n",
    "    v= np.array((1,1,0))\n",
    "    w =np.array((1-t,-1/2 + t,1))\n",
    "    u = np.cross(w,v)\n",
    "    for c in 'xyz':\n",
    "        getattr(ax,f\"set_{c}label\")(f\"${c}$\",fontsize=16)\n",
    "        getattr(ax,f\"set_{c}lim\")([0,2])\n",
    "    origin = [0,0,0]\n",
    "    X, Y, Z = zip(origin,origin,origin) \n",
    "    U, V, W = zip(u,v,w)\n",
    "    ax.quiver(X,Y,Z,U,V,W,arrow_length_ratio=0.1)\n",
    "    flush_figures()"
   ]
  },
  {
   "cell_type": "markdown",
   "metadata": {},
   "source": [
    "<p style=\"padding-bottom:40%;\"> </p>"
   ]
  },
  {
   "cell_type": "markdown",
   "metadata": {
    "slideshow": {
     "slide_type": "slide"
    },
    "tags": []
   },
   "source": [
    "### Exercises\n",
    "\n",
    "  1. Find a unit vector perpendicular to $\\langle 1,2,-1\\rangle$ and $\\langle 3,0,1\\rangle$. Is there only one?\n",
    "  "
   ]
  },
  {
   "cell_type": "markdown",
   "metadata": {
    "slideshow": {
     "slide_type": "slide"
    },
    "tags": []
   },
   "source": [
    "  2. Suppose that $\\vec a$ is a nonzero vector in $\\RR^3$.\n",
    "  \n",
    "    1. If $\\vec a \\cdot \\vec b = \\vec a \\cdot \\vec c$, does it follow that $\\vec b = \\vec c$?\n",
    "    \n",
    "    1. If $\\vec a \\times \\vec b= \\vec a \\times \\vec c$, does it follow that $\\vec b = \\vec c$?\n",
    "    \n",
    "    2. If both conditions above hold, does it follow that $\\vec b = \\vec c$?"
   ]
  },
  {
   "cell_type": "markdown",
   "metadata": {},
   "source": [
    "<p style=\"padding-bottom:40%;\"> </p>"
   ]
  },
  {
   "cell_type": "markdown",
   "metadata": {},
   "source": [
    "# Areas & Volumes\n",
    "\n",
    "We won't need this immediately, but put it in the back of your mind as it will come back later. \n",
    "\n",
    "Let $\\vec a$ and $\\vec b$ define the nonparallel edges of a parallelogram. "
   ]
  },
  {
   "cell_type": "code",
   "execution_count": 31,
   "metadata": {
    "hide_input": true,
    "jupyter": {
     "source_hidden": true
    },
    "slideshow": {
     "slide_type": "fragment"
    },
    "tags": []
   },
   "outputs": [
    {
     "data": {
      "application/vnd.jupyter.widget-view+json": {
       "model_id": "0a99c68772e3404f9f7b53ef95bafc77",
       "version_major": 2,
       "version_minor": 0
      },
      "text/plain": [
       "interactive(children=(FloatSlider(value=1.0, description='c', max=3.5), Output()), _dom_classes=('widget-inter…"
      ]
     },
     "metadata": {},
     "output_type": "display_data"
    }
   ],
   "source": [
    "@interact(c=(0.,3.5,.1))\n",
    "def _(c=1):\n",
    "    fig,ax = plt.subplots(figsize=(8,8))\n",
    "    ax.grid()\n",
    "    ax.set_xlim([0,8])\n",
    "    ax.set_ylim([0,8])\n",
    "    \n",
    "    ax.quiver(0,0,4,1,color='r',angles='xy', scale_units='xy', scale=1)\n",
    "    ax.quiver(0,0,c,2*c,color='b',angles='xy', scale_units='xy', scale=1)\n",
    "    ax.quiver(c,2*c,4,1,color='r',angles='xy', scale_units='xy', scale=1)\n",
    "    ax.quiver(4,1,c,2*c,color='b',angles='xy', scale_units='xy', scale=1)\n",
    "    ax.fill([0,4,4+c,c],[0,1,2*c + 1,2*c],alpha=.5)\n",
    "    ax.plot([c,c*3/8*4,0],[2*c,c*3/8,0],'--')\n",
    "\n",
    "    ax.text(c*5/4,c*19/16,\"h\",size=18)\n",
    "\n",
    "    flush_figures()"
   ]
  },
  {
   "cell_type": "markdown",
   "metadata": {},
   "source": [
    "Then the height $h = $\n",
    "\n",
    "and the area $A = $"
   ]
  },
  {
   "cell_type": "markdown",
   "metadata": {},
   "source": [
    "<p style=\"padding-bottom:40%;\"> </p>"
   ]
  },
  {
   "cell_type": "markdown",
   "metadata": {},
   "source": [
    "<p style=\"padding-bottom:40%;\"> </p>"
   ]
  }
 ],
 "metadata": {
  "celltoolbar": "Slideshow",
  "kernelspec": {
   "display_name": "Python 3 (ipykernel)",
   "language": "python",
   "name": "python3"
  },
  "language_info": {
   "codemirror_mode": {
    "name": "ipython",
    "version": 3
   },
   "file_extension": ".py",
   "mimetype": "text/x-python",
   "name": "python",
   "nbconvert_exporter": "python",
   "pygments_lexer": "ipython3",
   "version": "3.9.9"
  },
  "rise": {
   "enable_chalkboard": true,
   "scroll": true,
   "theme": "sky",
   "transition": "concave"
  }
 },
 "nbformat": 4,
 "nbformat_minor": 4
}
