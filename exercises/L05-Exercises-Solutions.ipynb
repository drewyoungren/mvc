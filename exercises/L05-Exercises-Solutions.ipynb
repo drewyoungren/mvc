{
 "cells": [
  {
   "cell_type": "code",
   "execution_count": 1,
   "metadata": {},
   "outputs": [],
   "source": [
    "import numpy as np\n",
    "import matplotlib.pyplot as plt\n",
    "from IPython.display import display, HTML, IFrame\n",
    "from ipywidgets import interact,fixed\n",
    "import pandas as pd\n",
    "from numpy import cos,sin,pi,tan,log,exp,array,linspace,arange\n",
    "from mpl_toolkits import mplot3d\n",
    "# from mpl_toolkits.mplot3d.art3d import Poly3DCollection\n",
    "\n",
    "\n",
    "plt.rcParams[\"figure.figsize\"] = [7,7]\n",
    "\n",
    "from numpy.linalg import norm\n",
    "\n",
    "%matplotlib inline\n",
    "\n",
    "# Uncomment the one that corresponds to your Jupyter theme\n",
    "plt.style.use('dark_background')\n",
    "# plt.style.use('fivethirtyeight')\n",
    "# plt.style.use('Solarize_Light2')"
   ]
  },
  {
   "cell_type": "markdown",
   "metadata": {
    "slideshow": {
     "slide_type": "subslide"
    }
   },
   "source": [
    "#### Quick exercise\n",
    "\n",
    "What is the derivative of the parametrized line $$\\vec r(t) = \\vec p + t \\vec v ?$$"
   ]
  },
  {
   "cell_type": "markdown",
   "metadata": {
    "jp-MarkdownHeadingCollapsed": true,
    "slideshow": {
     "slide_type": "subslide"
    },
    "tags": []
   },
   "source": [
    "##### Solution"
   ]
  },
  {
   "cell_type": "markdown",
   "metadata": {
    "slideshow": {
     "slide_type": "subslide"
    }
   },
   "source": [
    "$\\vec v$"
   ]
  },
  {
   "cell_type": "markdown",
   "metadata": {},
   "source": [
    "#### \n",
    "<div style=\"padding-bottom: 40%\"></div>"
   ]
  },
  {
   "cell_type": "markdown",
   "metadata": {},
   "source": [
    "## Examples\n",
    "\n",
    "  1. Show that any moving particle that changes direction has a nonzero acceleration.\n",
    "  "
   ]
  },
  {
   "cell_type": "markdown",
   "metadata": {
    "jp-MarkdownHeadingCollapsed": true,
    "tags": []
   },
   "source": [
    "#### Solution "
   ]
  },
  {
   "cell_type": "markdown",
   "metadata": {},
   "source": [
    "If $\\vec a(t) = \\vec 0$, then $\\vec v(t)$ is a constant and thus cannot change direction.\n",
    "  "
   ]
  },
  {
   "cell_type": "markdown",
   "metadata": {},
   "source": [
    "###   \n",
    "  2. Is the converse true (i.e., a particle with nonzero acceleration must change direction?\n",
    "  "
   ]
  },
  {
   "cell_type": "markdown",
   "metadata": {
    "jp-MarkdownHeadingCollapsed": true,
    "tags": []
   },
   "source": [
    "#### Solution "
   ]
  },
  {
   "cell_type": "markdown",
   "metadata": {},
   "source": [
    "No. Take a particle speeding up along a straigt line like $\\langle e^t, e^t, e^t \\rangle$. Its velocity is always a scalar multiple of $\\langle 1,1,1 \\rangle$ but its acceleration is clearly not $\\vec 0$."
   ]
  },
  {
   "cell_type": "markdown",
   "metadata": {},
   "source": [
    "### <div style=\"padding-bottom: 40%\"></div>"
   ]
  },
  {
   "cell_type": "markdown",
   "metadata": {
    "slideshow": {
     "slide_type": "subslide"
    }
   },
   "source": [
    "## Example\n",
    "\n",
    "A particle initially at rest at the origin is subjected to an acceleration $$\\vec a(t) = \\begin{cases} \\vec i -  t\\,\\vec j, & t\\leq 6 \\\\ \\vec 0, & t > 6 \\end{cases}.$$ Find its position at $t=10$."
   ]
  },
  {
   "cell_type": "code",
   "execution_count": 36,
   "metadata": {
    "hide_input": true,
    "jupyter": {
     "source_hidden": true
    },
    "slideshow": {
     "slide_type": "fragment"
    }
   },
   "outputs": [
    {
     "data": {
      "image/png": "[encoded data removed]",
      "text/plain": [
       "<Figure size 432x288 with 1 Axes>"
      ]
     },
     "metadata": {},
     "output_type": "display_data"
    }
   ],
   "source": [
    "t = np.linspace(0,6,201)\n",
    "plt.plot(1/2*t**2,-t**3/6)\n",
    "t = np.linspace(6,10,201)\n",
    "plt.plot(1/2*t**2,-t**3/6,'--')\n",
    "plt.plot(18 + 6*(t-6),-36 - 18*(t-6),'-');\n"
   ]
  },
  {
   "cell_type": "markdown",
   "metadata": {
    "jp-MarkdownHeadingCollapsed": true,
    "tags": []
   },
   "source": [
    "#### Solution"
   ]
  },
  {
   "cell_type": "markdown",
   "metadata": {},
   "source": [
    "$$\\vec v(t) = \\int_0^t \\vec a(\\tau)\\,d\\tau  = \\begin{cases} t\\,\\vec i -  \\frac{t^2}{2}\\,\\vec j, & t\\leq 6 \\\\ \\vec v(6), & t > 6 \\end{cases} $$\n",
    "\n",
    "$$= \\begin{cases} t\\,\\vec i -  \\frac{t^2}{2}\\,\\vec j, & t\\leq 6 \\\\ 6\\,\\vec i - 18\\,\\vec j, & t > 6 \\end{cases}$$"
   ]
  },
  {
   "cell_type": "markdown",
   "metadata": {},
   "source": [
    "$$\\vec x(t) = \\int_0^t \\vec v(\\tau)\\,d\\tau  = \\begin{cases} \\frac{t^2}{2}\\,\\vec i -  \\frac{t^3}{6}\\,\\vec j, & t\\leq 6 \\\\ \\vec x(6) + \\vec v(6)(t - 6), & t > 6 \\end{cases} $$\n",
    "\n",
    "$$=\\begin{cases} \\frac{t^2}{2}\\,\\vec i -  \\frac{t^3}{6}\\,\\vec j, & t\\leq 6 \\\\ (6t - 18)\\vec i + (72 - 18t)\\vec j, & t > 6 \\end{cases}$$"
   ]
  },
  {
   "cell_type": "markdown",
   "metadata": {},
   "source": [
    "<div style=\"padding-bottom: 40%\"></div>"
   ]
  }
 ],
 "metadata": {
  "kernelspec": {
   "display_name": "Python 3 (ipykernel)",
   "language": "python",
   "name": "python3"
  },
  "language_info": {
   "codemirror_mode": {
    "name": "ipython",
    "version": 3
   },
   "file_extension": ".py",
   "mimetype": "text/x-python",
   "name": "python",
   "nbconvert_exporter": "python",
   "pygments_lexer": "ipython3",
   "version": "3.9.9"
  }
 },
 "nbformat": 4,
 "nbformat_minor": 4
}
