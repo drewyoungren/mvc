{
 "cells": [
  {
   "cell_type": "code",
   "execution_count": 1,
   "metadata": {},
   "outputs": [],
   "source": [
    "import numpy as np\n",
    "import matplotlib.pyplot as plt\n",
    "from IPython.display import display, HTML, IFrame\n",
    "from ipywidgets import interact\n",
    "import pandas as pd\n",
    "from numpy import cos,sin,pi,tan,log,exp,array,linspace,arange\n",
    "from mpl_toolkits import mplot3d\n",
    "from matplotlib.patches import FancyArrowPatch\n",
    "\n",
    "plt.rcParams[\"figure.figsize\"] = [10, 10]\n",
    "\n",
    "%matplotlib inline\n",
    "\n",
    "# Uncomment the one that corresponds to your Jupyter theme\n",
    "plt.style.use('dark_background')\n",
    "# plt.style.use('fivethirtyeight')\n",
    "# plt.style.use('Solarize_Light2')"
   ]
  },
  {
   "cell_type": "markdown",
   "metadata": {
    "slideshow": {
     "slide_type": "slide"
    }
   },
   "source": [
    "### Exercises\n",
    "\n",
    "  1. Find an equation of the plane containing the line $\\vec r(t) = \\langle 1 - t, 2 + t, 3t \\rangle$ and the point $(3, 3, 3)$."
   ]
  },
  {
   "cell_type": "markdown",
   "metadata": {},
   "source": [
    "**Solution**\n",
    "\n",
    "Need a point $\\vec p$ and a normal vector $\\vec n$. Easy enough to let $\\vec p = \\langle 3,3,3 \\rangle$. \n",
    "\n",
    "As for $n$, we first identify two directions parallel to the plane. One is the direction of the line $\\langle -1, 1, 3 \\rangle$ as it is contained in the plane. For the other, we can take any vector that points from the line to the point, for example, $\\langle 3,3,3 \\rangle - \\vec r(0) = \\langle 3 - 1, 3 - 2, 3 - 0 \\rangle$. Thus, $$\\vec n = \\langle 3,3,3 \\rangle \\times \\langle 2, 1, 3 \\rangle = \\langle 6, -3, -3 \\rangle.$$\n",
    "\n",
    "Putting it together we have $$6x -3y -3z = 0.$$"
   ]
  },
  {
   "cell_type": "code",
   "execution_count": null,
   "metadata": {},
   "outputs": [],
   "source": []
  }
 ],
 "metadata": {
  "kernelspec": {
   "display_name": "Python 3",
   "language": "python",
   "name": "python3"
  },
  "language_info": {
   "codemirror_mode": {
    "name": "ipython",
    "version": 3
   },
   "file_extension": ".py",
   "mimetype": "text/x-python",
   "name": "python",
   "nbconvert_exporter": "python",
   "pygments_lexer": "ipython3",
   "version": "3.9.1"
  }
 },
 "nbformat": 4,
 "nbformat_minor": 4
}
