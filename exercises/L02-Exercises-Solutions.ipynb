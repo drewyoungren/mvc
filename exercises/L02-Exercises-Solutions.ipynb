{
 "cells": [
  {
   "cell_type": "code",
   "execution_count": 3,
   "metadata": {
    "jupyter": {
     "source_hidden": true
    },
    "tags": []
   },
   "outputs": [],
   "source": [
    "import numpy as np\n",
    "import matplotlib.pyplot as plt\n",
    "from IPython.display import display, HTML, IFrame\n",
    "from ipywidgets import interact\n",
    "import pandas as pd\n",
    "from numpy import cos,sin,pi,tan,log,exp,sqrt,dot,array,linspace,arange\n",
    "from numpy.linalg import norm\n",
    "from mpl_toolkits import mplot3d\n",
    "\n",
    "%matplotlib inline\n",
    "\n",
    "# Uncomment the one that corresponds to your Jupyter theme\n",
    "plt.style.use('default')\n",
    "# plt.style.use('dark_background')\n",
    "# plt.style.use('fivethirtyeight')\n",
    "# plt.style.use('Solarize_Light2')"
   ]
  },
  {
   "cell_type": "markdown",
   "metadata": {
    "slideshow": {
     "slide_type": "fragment"
    }
   },
   "source": [
    "### Exercise\n",
    "\n",
    "What sort of vectors in $\\RR^3$ have the form $$c\\vec u + d\\vec v + e \\vec w$$ where $c+d+e = 1$?"
   ]
  },
  {
   "cell_type": "markdown",
   "metadata": {
    "jp-MarkdownHeadingCollapsed": true,
    "tags": []
   },
   "source": [
    "#### Solution"
   ]
  },
  {
   "cell_type": "markdown",
   "metadata": {
    "jp-MarkdownHeadingCollapsed": true,
    "tags": []
   },
   "source": [
    "$c = 1 -d -e$ so we can rewrite the expression as \n",
    "\n",
    "$$\\vec u + d(\\vec v - \\vec u) + e(\\vec w - \\vec u)$$\n",
    "\n",
    "Thus, if we think of these as position vectors, we \"start\" at $\\vec u$ and can walk any distance in the direction toward $\\vec v$ and $\\vec w$. The result is that this describes the (unique) plane containing positions $\\vec u$, $\\vec v$, and  $\\vec w$. "
   ]
  },
  {
   "cell_type": "markdown",
   "metadata": {
    "slideshow": {
     "slide_type": "slide"
    }
   },
   "source": [
    "### Exercises\n",
    "\n",
    "  1. Find the angle between vectors $\\langle 4,3,1\\rangle$ and $\\langle -1,3,0 \\rangle$ in degrees."
   ]
  },
  {
   "cell_type": "markdown",
   "metadata": {
    "jp-MarkdownHeadingCollapsed": true,
    "tags": []
   },
   "source": [
    "#### Solution"
   ]
  },
  {
   "cell_type": "markdown",
   "metadata": {},
   "source": [
    "$$\\cos \\theta = \\frac{\\langle 4,3,1 \\rangle \\cdot \\langle -1,3,0 \\rangle}{|\\langle 4,3,1 \\rangle || \\langle -1,3,0 \\rangle|} = \\frac{5}{\\sqrt{26}\\sqrt{10}}$$"
   ]
  },
  {
   "cell_type": "code",
   "execution_count": 11,
   "metadata": {},
   "outputs": [
    {
     "data": {
      "text/plain": [
       "1.25551195699512"
      ]
     },
     "execution_count": 11,
     "metadata": {},
     "output_type": "execute_result"
    }
   ],
   "source": [
    "v = array((4,3,1))\n",
    "w = array((-1,3,0))\n",
    "\n",
    "theta = np.arccos(dot(v,w)/(norm(v)*norm(w)))\n",
    "theta # radians"
   ]
  },
  {
   "cell_type": "code",
   "execution_count": 12,
   "metadata": {},
   "outputs": [
    {
     "data": {
      "text/plain": [
       "71.9355362640309"
      ]
     },
     "execution_count": 12,
     "metadata": {},
     "output_type": "execute_result"
    }
   ],
   "source": [
    "#in degrees\n",
    "theta * 180/pi"
   ]
  },
  {
   "cell_type": "markdown",
   "metadata": {
    "slideshow": {
     "slide_type": "slide"
    }
   },
   "source": [
    "### \n",
    "---\n",
    "  2. Let $v = \\langle 2,1 \\rangle$. Describe the set of all vectors $\\vec x$ in $\\RR^2$ such that:\n",
    "  \n",
    "    1. $\\vec v \\cdot \\vec x = 0$\n",
    "    \n",
    "    1. $\\vec v \\cdot \\vec x = 1$\n",
    "    \n",
    "    1. $\\vec v \\cdot \\vec x = -5$\n",
    "    "
   ]
  },
  {
   "cell_type": "markdown",
   "metadata": {
    "jp-MarkdownHeadingCollapsed": true,
    "tags": []
   },
   "source": [
    "#### Solution"
   ]
  },
  {
   "cell_type": "markdown",
   "metadata": {},
   "source": [
    "Let $\\vec x = \\langle x,y \\rangle$. Then the equations are \n",
    "\n",
    "  - $2x + y = 0$\n",
    "  - $2x + y = 1$\n",
    "  - $2x + y = 5$\n",
    "  \n",
    "Which are parallel lines with $y$-intercepts $0$, $1$, and $5$, respectively."
   ]
  },
  {
   "cell_type": "code",
   "execution_count": 4,
   "metadata": {
    "jupyter": {
     "source_hidden": true
    }
   },
   "outputs": [
    {
     "data": {
      "image/png": "[encoded data removed]",
      "text/plain": [
       "<Figure size 640x480 with 1 Axes>"
      ]
     },
     "metadata": {},
     "output_type": "display_data"
    }
   ],
   "source": [
    "x = linspace(-2,2,50)\n",
    "plt.plot(x, -2*x)\n",
    "plt.plot(x, 1-2*x)\n",
    "plt.plot(x, 5-2*x);"
   ]
  },
  {
   "cell_type": "markdown",
   "metadata": {
    "slideshow": {
     "slide_type": "slide"
    }
   },
   "source": [
    "#### \n",
    "---\n",
    "3. Let $\\vec v = \\langle 5,3,-2 \\rangle$ and $\\vec w = \\langle 1,1,1\\rangle$. Find the scalar $c$ such that $$|\\vec v - c \\vec w|$$ is as small as possible.  "
   ]
  },
  {
   "cell_type": "markdown",
   "metadata": {
    "jp-MarkdownHeadingCollapsed": true,
    "tags": []
   },
   "source": [
    "#### Solution"
   ]
  },
  {
   "cell_type": "markdown",
   "metadata": {},
   "source": [
    "See class for the real **solution**. Here is an \"experimental\" answer:"
   ]
  },
  {
   "cell_type": "code",
   "execution_count": 16,
   "metadata": {},
   "outputs": [
    {
     "data": {
      "text/plain": [
       "[<matplotlib.lines.Line2D at 0x12e96f550>]"
      ]
     },
     "execution_count": 16,
     "metadata": {},
     "output_type": "execute_result"
    },
    {
     "data": {
      "image/png": "[encoded data removed]",
      "text/plain": [
       "<Figure size 432x288 with 1 Axes>"
      ]
     },
     "metadata": {
      "needs_background": "light"
     },
     "output_type": "display_data"
    }
   ],
   "source": [
    "c = linspace(-1,3, 150)\n",
    "\n",
    "v = array((5,3,-2))\n",
    "w = array((1,1,1))\n",
    "\n",
    "plt.plot(c,[norm(v - t*w) for t in c])\n"
   ]
  },
  {
   "cell_type": "code",
   "execution_count": 17,
   "metadata": {},
   "outputs": [
    {
     "data": {
      "text/plain": [
       "5.0990195135927845"
      ]
     },
     "execution_count": 17,
     "metadata": {},
     "output_type": "execute_result"
    }
   ],
   "source": [
    "norm(v - 2*w)"
   ]
  }
 ],
 "metadata": {
  "kernelspec": {
   "display_name": "Python 3 (ipykernel)",
   "language": "python",
   "name": "python3"
  },
  "language_info": {
   "codemirror_mode": {
    "name": "ipython",
    "version": 3
   },
   "file_extension": ".py",
   "mimetype": "text/x-python",
   "name": "python",
   "nbconvert_exporter": "python",
   "pygments_lexer": "ipython3",
   "version": "3.9.9"
  }
 },
 "nbformat": 4,
 "nbformat_minor": 4
}
