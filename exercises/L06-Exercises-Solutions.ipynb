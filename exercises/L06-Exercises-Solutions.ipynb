{
 "cells": [
  {
   "cell_type": "code",
   "execution_count": 2,
   "metadata": {},
   "outputs": [],
   "source": [
    "import numpy as np\n",
    "import matplotlib.pyplot as plt\n",
    "from IPython.display import display, HTML, IFrame\n",
    "from ipywidgets import interact,fixed\n",
    "import pandas as pd\n",
    "from numpy import cos,sin,pi,tan,log,exp,array,linspace,arange\n",
    "from mpl_toolkits import mplot3d\n",
    "# from mpl_toolkits.mplot3d.art3d import Poly3DCollection\n",
    "\n",
    "from ipywidgets import interact\n",
    "\n",
    "plt.rcParams[\"figure.figsize\"] = [7,7]\n",
    "\n",
    "from numpy.linalg import norm\n",
    "\n",
    "%matplotlib inline\n",
    "\n",
    "# Uncomment the one that corresponds to your Jupyter theme\n",
    "plt.style.use('dark_background')\n",
    "# plt.style.use('fivethirtyeight')\n",
    "# plt.style.use('Solarize_Light2')"
   ]
  },
  {
   "cell_type": "markdown",
   "metadata": {},
   "source": [
    "### Motion Example\n",
    "\n",
    "Find the angle $\\alpha$ relative to the ground that maximizes the distance of an object thrown with speed $v_0$. "
   ]
  },
  {
   "cell_type": "code",
   "execution_count": 3,
   "metadata": {
    "hide_input": true,
    "jupyter": {
     "source_hidden": true
    },
    "slideshow": {
     "slide_type": "skip"
    }
   },
   "outputs": [
    {
     "data": {
      "application/vnd.jupyter.widget-view+json": {
       "model_id": "cecf35b87e134d53a9fab080328f3d6e",
       "version_major": 2,
       "version_minor": 0
      },
      "text/plain": [
       "interactive(children=(FloatSlider(value=0.7853981633974483, description='alpha', max=1.5707963267948966), IntS…"
      ]
     },
     "metadata": {},
     "output_type": "display_data"
    }
   ],
   "source": [
    "# range of a projectile launched from the ground with angle alpha and speed v ft/sec\n",
    "\n",
    "@interact\n",
    "def _(alpha = (0,pi/2),v=(0,100)):\n",
    "    x=np.linspace(0,10,101)\n",
    "    plt.figure(figsize=(7,7))\n",
    "    plt.plot(v*cos(alpha)*x,v*sin(alpha)*x-32*x**2/2)\n",
    "    plt.ylim([0,160])\n",
    "    plt.xlim([0,350])"
   ]
  },
  {
   "cell_type": "markdown",
   "metadata": {},
   "source": [
    "**Solution**. The acceleration is simply a constant $$\\vec a(t) = \\langle 0, -g \\rangle.$$\n",
    "\n",
    "where $g$ is, for example $32\\, \\text{ft}/\\text{s}^2$ or $9.81 \\,\\text{m}/\\text{s}^2$.\n",
    "\n",
    "The initial velocity is $\\langle v_0\\cos \\alpha, v_0 \\sin \\alpha \\rangle$, so $$\\vec v(t) = \\langle v_0 \\cos \\alpha, v_0 \\sin \\alpha - g t \\rangle$$"
   ]
  },
  {
   "cell_type": "markdown",
   "metadata": {},
   "source": [
    "and in turn $$\\vec x(t) = \\langle (v_0 \\cos \\alpha)t, (v_0 \\sin \\alpha)t - \\frac12 g t^2 \\rangle.$$\n",
    "\n",
    "To find distance, we need to establish the time of impact by setting the $y$-component to 0. $$ (v_0 \\sin \\alpha)t - \\frac12 g t^2 \\rangle = 0 $$ has two solutions, but $t = 0$ is not helpful so we take $t = \\frac{2 v_0 \\sin \\alpha}{g}$. \n",
    "\n",
    "Plugging this into the $x$-coordinate gives us the ``range formula'' $$ \\frac{2 v_0^2 \\cos \\alpha \\sin \\alpha}{g} = \\frac{ v_0^2 \\sin (2\\alpha)}{g}$$ which is maximized when the sine term is 1, of rather, $$\\alpha = \\frac\\pi4 = 45^\\circ$$"
   ]
  },
  {
   "cell_type": "markdown",
   "metadata": {
    "slideshow": {
     "slide_type": "slide"
    }
   },
   "source": [
    "#### Quick example\n",
    "\n",
    "$\\langle \\cos t, \\sin t\\rangle$ traces out the unit circle over the interval $[0,2\\pi]$.\n",
    "\n",
    "$\\langle \\cos (16\\pi t), \\sin (16\\pi t)\\rangle$ traces out the unit circle much \"faster\", over the interval $[0,\\frac18]$.\n",
    "\n",
    "Take the derivatives of each of the above to see this."
   ]
  },
  {
   "cell_type": "code",
   "execution_count": null,
   "metadata": {},
   "outputs": [],
   "source": []
  },
  {
   "cell_type": "markdown",
   "metadata": {
    "slideshow": {
     "slide_type": "subslide"
    }
   },
   "source": [
    "### Example\n",
    "\n",
    "Parametrize the curve $$\\langle e^{-t}, 1-2e^{-t}, 2e^{-t} \\rangle$$ for $t \\geq 0$ by arc length. "
   ]
  },
  {
   "cell_type": "markdown",
   "metadata": {},
   "source": [
    "**Solution**. Compute arc length as a function of $t$. \n",
    "\n",
    "$$s(t) = \\int_0^t \\langle 0, 1, 0 \\rangle + e^{-\\tau}\\langle 1,-2,2 \\rangle\\, d\\tau$$"
   ]
  },
  {
   "cell_type": "code",
   "execution_count": null,
   "metadata": {},
   "outputs": [],
   "source": []
  }
 ],
 "metadata": {
  "kernelspec": {
   "display_name": "Python 3",
   "language": "python",
   "name": "python3"
  },
  "language_info": {
   "codemirror_mode": {
    "name": "ipython",
    "version": 3
   },
   "file_extension": ".py",
   "mimetype": "text/x-python",
   "name": "python",
   "nbconvert_exporter": "python",
   "pygments_lexer": "ipython3",
   "version": "3.9.1"
  }
 },
 "nbformat": 4,
 "nbformat_minor": 4
}
