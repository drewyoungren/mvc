{
 "cells": [
  {
   "cell_type": "code",
   "execution_count": null,
   "id": "516516e2",
   "metadata": {
    "deletable": false,
    "editable": false
   },
   "outputs": [],
   "source": [
    "# Initialize Otter\n",
    "import otter\n",
    "grader = otter.Notebook(\"lab1.ipynb\")"
   ]
  },
  {
   "cell_type": "code",
   "execution_count": null,
   "id": "7eb3a52d",
   "metadata": {},
   "outputs": [],
   "source": [
    "import numpy as np\n",
    "from numpy import sin, cos, pi, sqrt, cross, dot, array, linspace, arange\n",
    "import matplotlib.pyplot as plt\n",
    "from matplotlib.animation import FuncAnimation\n",
    "\n",
    "# import preamble\n",
    "# import importlib\n",
    "# importlib.reload(preamble)\n",
    "\n",
    "from preamble import *\n",
    "\n",
    "from scipy.integrate import quad\n",
    "\n",
    "from IPython.display import HTML, display\n",
    "\n"
   ]
  },
  {
   "cell_type": "code",
   "execution_count": null,
   "id": "2665b548",
   "metadata": {
    "tags": []
   },
   "outputs": [],
   "source": [
    "%%html\n",
    "\n",
    "<style>\n",
    ".shadow {\n",
    "\n",
    "    /*Edit or add new attributes, change size, color, etc */\n",
    "    width: 75%;\n",
    "    box-shadow: 8px 8px 10px #444;\n",
    "    border: 1px solid silver;\n",
    "\n",
    "    /*For positioning in a jupyter notebook*/\n",
    "    margin-top: 2em;\n",
    "    position: relative;\n",
    "    top: -25px\n",
    "}\n",
    "</style>"
   ]
  },
  {
   "cell_type": "markdown",
   "id": "87e4748d",
   "metadata": {},
   "source": [
    "# Lab 1 - Space Cave Runner"
   ]
  },
  {
   "cell_type": "markdown",
   "id": "e77cb3fe",
   "metadata": {},
   "source": [
    "Recently we have used vector-valued functions to model and study motion in space. Let's put it to use in a knock-off of a classic game<sup>1</sup>. We are operating a ship in space and must navigate it through a cave to get to the Green Zone. How is there a cave but no gravity? That's not important. \n",
    "\n",
    "![Unsuccessful Demo Run](bonk.gif)\n",
    "\n",
    "<div class=\"alert alert-block alert-info shadow\" style=\"min-height: 150px;\">\n",
    "<img src=\"asteroids-screenshot.jpeg\" width=\"150px\" style=\"float: left; padding: 5px;\">\n",
    "<sup>1</sup>Remember <b>Asteroids</b>? Perhaps not, but I had a version on my 386 and it was fantastic. Here's a <a href=\"https://games.aarp.org/games/atari-asteroids\">version you can play</a> at the, uh, AARP.\n",
    "</div>\n",
    "\n",
    "Anyway, I want to talk about how that ship moves. We will ignore shooting and hyperjumping. Of course the ship has a location $(x,y)$ but it also can point in any direction. We'll call that angle $\\alpha$ and measure it **clockwise** off of vertical. \n",
    "\n",
    "![Diagram showing angular displacement of ship](ship_alpha.png)"
   ]
  },
  {
   "cell_type": "markdown",
   "id": "5b4e144b",
   "metadata": {
    "tags": []
   },
   "source": [
    "### Question 1\n",
    "\n",
    "Find the **unit** vector $\\mathbf u_\\alpha$ that points in the direction the ship is facing as a function of $\\alpha$.  "
   ]
  },
  {
   "cell_type": "code",
   "execution_count": null,
   "id": "bcb47669",
   "metadata": {
    "tags": []
   },
   "outputs": [],
   "source": [
    "def u_alpha(alpha):\n",
    "    \"\"\"Returns the unit vector alpha radians clockwise from vertical.\"\"\"\n",
    "    x = ...\n",
    "    y = ...\n",
    "    return np.array((x,y))"
   ]
  },
  {
   "cell_type": "code",
   "execution_count": null,
   "id": "b14d0240",
   "metadata": {
    "deletable": false,
    "editable": false
   },
   "outputs": [],
   "source": [
    "grader.check(\"q1\")"
   ]
  },
  {
   "cell_type": "markdown",
   "id": "f1dddae5",
   "metadata": {},
   "source": [
    "## States and Controls\n",
    "\n",
    "Now we can draw the ship at any moment using just the 3-vector $\\langle x, y, \\alpha \\rangle$, but if we want to figure out where its going, we need a little more.\n",
    "\n",
    "The ship has a single thruster that pushes with constant force from the back and only has modes on or off. It can also rotate around a central point. Units are normalized so that its acceleration is $$\\mathbf a(t) = \\begin{cases} \n",
    "\\mathbf u_\\alpha & \\text{ if thrust on} \\\\\n",
    "\\mathbf 0 & \\text{ if thrust off}\n",
    "\\end{cases}$$\n",
    "\n",
    "\n",
    "The ship's controls consist of exactly 3 buttons: \n",
    "\n",
    "<span style=\"padding: 4px; border-radius: 4px; border: 1px solid black; color: red\">Thrust</span> pushes forward at $1 \\frac{\\text{unit}}{\\text{s}^2}$\n",
    "\n",
    "<span style=\"padding: 4px; border-radius: 4px; border: 1px solid black; color: green\">Left</span> turns ship left at $2\\pi$ radians per second\n",
    "\n",
    "<span style=\"padding: 4px; border-radius: 4px; border: 1px solid black; color: blue\">Right</span> turns ship right at $2\\pi$ radians per second\n",
    "\n",
    "So that looks like $2^3 = 8$ possible control states, but in fact, it's just 6, as pushing left and right together is the same as none. Thus we can model our control state with a vector $$\\mathbf c(t) = \\langle c_1, c_2 \\rangle$$ where $c_1$ is only $0$ or $1$ whether the thrust is off or on, and $c_2$ is $-1$, $0$, $1$ whether the controls are left, center, or right, respectively."
   ]
  },
  {
   "cell_type": "markdown",
   "id": "2b2c426d",
   "metadata": {},
   "source": [
    "So, if we know when which buttons are pressed, $\\mathbf c(t)$, and we know where the ship starts, we can compute where it goes. To make that easier we define a **state vector** $$\\mathbf s(t) = \\langle x, y, \\dot x, \\dot y, \\alpha \\rangle$$ that includes the velocities $\\dot x = \\frac{dx}{dt}$ and $\\dot y = \\frac{dy}{dt}$. We then can use $\\mathbf s(t)$ and $\\mathbf c(t)$ to compute the state $\\mathbf s( t + \\Delta t)$ at a slightly later time. "
   ]
  },
  {
   "cell_type": "markdown",
   "id": "c1623fcf",
   "metadata": {
    "tags": []
   },
   "source": [
    "### Question 2\n",
    "\n",
    "Use the formulas \n",
    "\\begin{align*}\n",
    "\\mathbf v(t) &= \\mathbf v(a) + \\int_a^t \\mathbf a(\\tau)\\,d\\tau \\\\ \n",
    "\\mathbf r(t) &= \\mathbf r(a) + \\int_a^t \\mathbf v(\\tau)\\,d\\tau \\\\ \n",
    "\\end{align*}\n",
    "to write a function `evolve` that takes:\n",
    "  - `dt`: a time interval $\\Delta t$\n",
    "  - `s`: a state vector $\\mathbf s$ (a 5-vector as described above) \n",
    "  - `c`: a control vector $\\mathbf c$ (a 2-vector as above)\n",
    "\n",
    "and returns a new state vector `dt` seconds later.\n",
    "\n",
    "<div class=\"alert alert-block alert-info shadow\">\n",
    "    <strong>Tips:</strong> <ul> <li>Assume a <b>constant</b> acceleration throughout the interval based on $\\mathbf s$ and $c_1$.</li>\n",
    "    <li>Update the angle (if $c_2 \\neq 0$) <b>after</b> calculating the new position and velocity. </li>\n",
    "    <li>Don't forget the controls adjust the angle of the ship $2\\pi$ radians per second.</li></ul>\n",
    "    \n",
    "If the ship is turning, getting the exact motion is more involved, but we are taking a small $\\Delta t$, so we can use a simpler approximation.  \n",
    "</div>"
   ]
  },
  {
   "cell_type": "code",
   "execution_count": null,
   "id": "16b8d433",
   "metadata": {
    "tags": []
   },
   "outputs": [],
   "source": [
    "def evolve(dt, s, c):\n",
    "    \"\"\"Returns a state vector of the ship dt seconds later assuming controls c.\"\"\"\n",
    "    \n",
    "    # This unpacks the components of the vectors into individual variables\n",
    "    x, y, vx, vy, a = s\n",
    "    thrust, lr = c\n",
    "    ux, uy = u_alpha(a)\n",
    "\n",
    "\n",
    "    # Change the variables to their new values. \n",
    "    ...\n",
    "    \n",
    "    return np.array((x, y, vx, vy, a))"
   ]
  },
  {
   "cell_type": "code",
   "execution_count": null,
   "id": "da0dad25",
   "metadata": {
    "deletable": false,
    "editable": false
   },
   "outputs": [],
   "source": [
    "grader.check(\"q2\")"
   ]
  },
  {
   "cell_type": "markdown",
   "id": "86b39c5d",
   "metadata": {},
   "source": [
    "## Speed run\n",
    "\n",
    "Our ship, starting from rest at the coordinates $(0,0)$, needs to get to the Green Zone without crashing into the walls.\n",
    "\n",
    "![Initial position graphic of ship and cave](cave.png)"
   ]
  },
  {
   "cell_type": "markdown",
   "id": "60cb43bd",
   "metadata": {},
   "source": [
    "<!-- BEGIN QUESTION -->\n",
    "\n",
    "### Question 3\n",
    "\n",
    "Make a control function $\\mathbf c(t)$ to navigate the course in as little time as possible. \n",
    "\n",
    "The input $t$ is the time, in seconds, starting from 0. Must return a 2-vector $ \\langle c_1, c_2 \\rangle $ where $c_1$ is 0/1 for thrust on/off and $c_2$ for -1/0/1 for left/center/right. \n",
    "\n",
    "<div class=\"alert alert-block alert-info shadow\" markdown=\"1\">\n",
    "<strong>Conditionals.</strong> You can write a piecewise define function in Python by using <em>conditionals</em>. For example. the function $$f(t) = \\begin{cases} t^2,  & t \\leq 1 \\\\ 2t-1, & 1 < t <=2  \\\\ 3, & t> 2 \\end{cases} $$ can be defined as:\n",
    "<pre>\n",
    "def f(t):\n",
    "    if t <= 1:\n",
    "        return t**2\n",
    "    elif 1 < t <= 2:\n",
    "        return 2*t - 1\n",
    "    else:\n",
    "        return 3\n",
    "</pre>\n",
    "</div>"
   ]
  },
  {
   "cell_type": "code",
   "execution_count": null,
   "id": "203b559b",
   "metadata": {
    "tags": []
   },
   "outputs": [],
   "source": [
    "def c(t):\n",
    "    \"\"\"Return the control vector for the ship at time t.\"\"\"\n",
    "    \n",
    "    ...\n",
    "    \n",
    "    # Variable names are only suggestions.\n",
    "    return np.array((thrust, leftright))"
   ]
  },
  {
   "cell_type": "markdown",
   "id": "ae4a9efb",
   "metadata": {},
   "source": [
    "<!-- END QUESTION -->\n",
    "\n",
    "Use the code below to test your solution. Trial-and-error is a fine approach. Change the `DURATION` parameter if you need a longer or shorter window"
   ]
  },
  {
   "cell_type": "code",
   "execution_count": null,
   "id": "ab44a413",
   "metadata": {},
   "outputs": [],
   "source": [
    "DURATION = 16\n",
    "anim = make_run(DURATION, c, evolve)\n",
    "HTML(anim.to_html5_video())"
   ]
  },
  {
   "cell_type": "markdown",
   "id": "db1d3566",
   "metadata": {},
   "source": [
    "## Feedback"
   ]
  },
  {
   "cell_type": "markdown",
   "id": "f29bef9f",
   "metadata": {},
   "source": [
    "_Please use this space for any notes parts of this lab you found particularly helpful/unhelpful._"
   ]
  },
  {
   "cell_type": "markdown",
   "id": "60ddb930",
   "metadata": {
    "tags": []
   },
   "source": [
    "## Submission"
   ]
  },
  {
   "cell_type": "markdown",
   "id": "1251a567",
   "metadata": {},
   "source": [
    "Use the cell below to create a zip file to be uploaded to Gradescope. \n",
    "\n",
    "<div class=\"alert alert-box alert-warning shadow\">\n",
    "    <strong>Warning:</strong> Be sure to save the file <strong>before</strong> executing this cell, or your latest work will not be included.\n",
    "</div>"
   ]
  },
  {
   "cell_type": "code",
   "execution_count": null,
   "id": "63f00ef9",
   "metadata": {},
   "outputs": [],
   "source": [
    "import zipfile, os\n",
    "\n",
    "ASSIGNMENT_NAME=\"lab1\"\n",
    "ZIPFILE=f\"{ASSIGNMENT_NAME}_submission.zip\"\n",
    "CWD=os.path.curdir\n",
    "\n",
    "anim.save(\"speed_run.gif\")\n",
    "\n",
    "zip = zipfile.ZipFile(os.path.join(CWD, ZIPFILE), mode='w')\n",
    "\n",
    "for filename in [\"speed_run.gif\", f\"{ASSIGNMENT_NAME}.ipynb\"]:\n",
    "    zip.write(os.path.join(CWD, filename))\n",
    "    \n",
    "zip.close()\n",
    "\n",
    "display(HTML(f\"\"\"Download the <a href=\"{os.path.join(CWD,ZIPFILE)}\" download=\"{ZIPFILE}\" target=\"_blank\">zip file</a> and upload it to the assignment on Gradescope.\"\"\"))"
   ]
  },
  {
   "cell_type": "markdown",
   "id": "38617ecd",
   "metadata": {
    "deletable": false,
    "editable": false
   },
   "source": [
    "---\n",
    "\n",
    "To double-check your work, the cell below will rerun all of the autograder tests."
   ]
  },
  {
   "cell_type": "code",
   "execution_count": null,
   "id": "75ea441c",
   "metadata": {
    "deletable": false,
    "editable": false
   },
   "outputs": [],
   "source": [
    "grader.check_all()"
   ]
  }
 ],
 "metadata": {
  "kernelspec": {
   "display_name": "Python 3 (ipykernel)",
   "language": "python",
   "name": "python3"
  },
  "language_info": {
   "codemirror_mode": {
    "name": "ipython",
    "version": 3
   },
   "file_extension": ".py",
   "mimetype": "text/x-python",
   "name": "python",
   "nbconvert_exporter": "python",
   "pygments_lexer": "ipython3",
   "version": "3.9.8"
  },
  "otter": {
   "tests": {
    "q1": {
     "name": "q1",
     "points": 2,
     "suites": [
      {
       "cases": [
        {
         "code": ">>> assert(np.allclose(u_alpha(0), (0,1)))\n",
         "hidden": false,
         "locked": false
        },
        {
         "code": ">>> assert(np.allclose(u_alpha(pi/2), (1,0)))\n",
         "hidden": false,
         "locked": false
        },
        {
         "code": ">>> assert(np.allclose(u_alpha(-pi/6), (-1/2,np.sqrt(3) / 2)))\n",
         "hidden": false,
         "locked": false
        }
       ],
       "scored": true,
       "setup": "",
       "teardown": "",
       "type": "doctest"
      }
     ]
    },
    "q2": {
     "name": "q2",
     "points": 4,
     "suites": [
      {
       "cases": [
        {
         "code": ">>> s = np.array((0, 0, 0, 0, pi/2)) # pointing right\n>>> c = np.array((1, 0)) # straigth ahead\n>>> \n>>> assert(np.allclose(evolve(1, s, c), (1/2, 0, 1, 0, pi/2) ))\n",
         "hidden": false,
         "locked": false
        },
        {
         "code": ">>> s = np.array((12, 4, -6, 2 , 3*pi/4)) \n>>> c = np.array((0, -1)) # coasting\n>>> \n>>> s = evolve(3/2, s, c)\n>>> s[4] %= 2*pi\n>>> \n>>> assert(np.allclose(s, (3, 7, -6, 2, 7*pi/4) ))\n",
         "hidden": false,
         "locked": false
        },
        {
         "code": ">>> s = np.array((12, 4, -16, -25 , pi/4)) \n>>> c = np.array((1, -1))\n>>> \n>>> assert(np.allclose(evolve(1, s, c), [ -3.64644661, -20.64644661, -15.29289322, -24.29289322, -5.49778714] ))\n",
         "hidden": false,
         "locked": false
        },
        {
         "code": ">>> \n>>> s = np.array((1, 2, 4, 0, 0)) \n>>> c = np.array((1, 1)) # coasting\n>>> \n>>> s = evolve(1/2, s, c)\n>>> s[4] %= 2*pi\n>>> \n>>> assert(np.allclose(s, (3, 2 + 1/8, 4, 1/2, pi) ))\n",
         "failure_message": "Don't forget to update the angle afterwards.",
         "hidden": false,
         "locked": false,
         "points": 0.5,
         "success_message": "Great"
        }
       ],
       "scored": true,
       "setup": "",
       "teardown": "",
       "type": "doctest"
      }
     ]
    }
   }
  }
 },
 "nbformat": 4,
 "nbformat_minor": 5
}
